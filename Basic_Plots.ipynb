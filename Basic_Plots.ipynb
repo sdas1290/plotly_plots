{
 "metadata": {
  "language_info": {
   "codemirror_mode": {
    "name": "ipython",
    "version": 3
   },
   "file_extension": ".py",
   "mimetype": "text/x-python",
   "name": "python",
   "nbconvert_exporter": "python",
   "pygments_lexer": "ipython3",
   "version": "3.8.3-final"
  },
  "orig_nbformat": 2,
  "kernelspec": {
   "name": "python3",
   "display_name": "Python 3",
   "language": "python"
  }
 },
 "nbformat": 4,
 "nbformat_minor": 2,
 "cells": [
  {
   "cell_type": "code",
   "execution_count": 1,
   "metadata": {},
   "outputs": [],
   "source": [
    "import pandas as pd"
   ]
  },
  {
   "cell_type": "code",
   "execution_count": 2,
   "metadata": {},
   "outputs": [
    {
     "output_type": "execute_result",
     "data": {
      "text/plain": [
       "'4.12.0'"
      ]
     },
     "metadata": {},
     "execution_count": 2
    }
   ],
   "source": [
    "import plotly\n",
    "plotly.__version__\n"
   ]
  },
  {
   "cell_type": "code",
   "execution_count": 3,
   "metadata": {},
   "outputs": [],
   "source": [
    "import pandas as pd\n",
    "\n",
    "# Random Data Create\n",
    "import random\n",
    "random.seed(10)\n",
    "x=list(range(0,25))\n",
    "y=random.sample(range(1000, 5000), 25)\n",
    "y1=random.sample(range(1000, 5000), 25)\n",
    "y2=random.sample(range(1000, 5000), 25)"
   ]
  },
  {
   "cell_type": "code",
   "execution_count": 4,
   "metadata": {},
   "outputs": [],
   "source": [
    "import os\n",
    "\n",
    "if not os.path.exists(\"images\"):\n",
    "    os.mkdir(\"images\")"
   ]
  },
  {
   "source": [
    "## 1. Multiple lines plot"
   ],
   "cell_type": "markdown",
   "metadata": {}
  },
  {
   "cell_type": "code",
   "execution_count": 5,
   "metadata": {},
   "outputs": [
    {
     "output_type": "display_data",
     "data": {
      "application/vnd.plotly.v1+json": {
       "config": {
        "plotlyServerURL": "https://plot.ly"
       },
       "data": [
        {
         "line": {
          "color": "rgb(206,40,94)",
          "width": 2
         },
         "mode": "lines",
         "name": "line_1",
         "type": "scatter",
         "x": [
          0,
          1,
          2,
          3,
          4,
          5,
          6,
          7,
          8,
          9,
          10,
          11,
          12,
          13,
          14,
          15,
          16,
          17,
          18,
          19,
          20,
          21,
          22,
          23,
          24
         ],
         "y": [
          3340,
          1133,
          2756,
          2976,
          3367,
          1060,
          1844,
          2894,
          4331,
          3012,
          4373,
          2136,
          3676,
          4320,
          1656,
          1140,
          3132,
          3007,
          2342,
          1311,
          2023,
          4901,
          4902,
          4053,
          2479
         ]
        },
        {
         "line": {
          "color": "limegreen",
          "width": 2
         },
         "mode": "lines+markers",
         "name": "line_2",
         "type": "scatter",
         "x": [
          0,
          1,
          2,
          3,
          4,
          5,
          6,
          7,
          8,
          9,
          10,
          11,
          12,
          13,
          14,
          15,
          16,
          17,
          18,
          19,
          20,
          21,
          22,
          23,
          24
         ],
         "y": [
          1182,
          2721,
          4523,
          1568,
          3470,
          2454,
          2563,
          2725,
          2161,
          4386,
          3764,
          2074,
          2871,
          1715,
          3809,
          2241,
          3710,
          2485,
          1544,
          4145,
          4522,
          1980,
          4970,
          2800,
          3512
         ]
        },
        {
         "line": {
          "color": "blue",
          "width": 2
         },
         "mode": "markers",
         "name": "line3",
         "opacity": 0.9,
         "type": "scatter",
         "x": [
          0,
          1,
          2,
          3,
          4,
          5,
          6,
          7,
          8,
          9,
          10,
          11,
          12,
          13,
          14,
          15,
          16,
          17,
          18,
          19,
          20,
          21,
          22,
          23,
          24
         ],
         "y": [
          2536,
          1181,
          3387,
          1016,
          1965,
          1548,
          1798,
          4854,
          4725,
          2240,
          3196,
          2499,
          4162,
          4679,
          1983,
          2287,
          3730,
          3248,
          2845,
          2785,
          2925,
          1266,
          3674,
          3394,
          2329
         ]
        }
       ],
       "layout": {
        "annotations": [
         {
          "showarrow": false,
          "text": "Source: ##can add source here",
          "x": 1,
          "xref": "paper",
          "y": -0.1,
          "yref": "paper"
         }
        ],
        "autosize": true,
        "height": 450,
        "legend": {
         "orientation": "h"
        },
        "showlegend": true,
        "template": {
         "data": {
          "bar": [
           {
            "error_x": {
             "color": "#2a3f5f"
            },
            "error_y": {
             "color": "#2a3f5f"
            },
            "marker": {
             "line": {
              "color": "#E5ECF6",
              "width": 0.5
             }
            },
            "type": "bar"
           }
          ],
          "barpolar": [
           {
            "marker": {
             "line": {
              "color": "#E5ECF6",
              "width": 0.5
             }
            },
            "type": "barpolar"
           }
          ],
          "carpet": [
           {
            "aaxis": {
             "endlinecolor": "#2a3f5f",
             "gridcolor": "white",
             "linecolor": "white",
             "minorgridcolor": "white",
             "startlinecolor": "#2a3f5f"
            },
            "baxis": {
             "endlinecolor": "#2a3f5f",
             "gridcolor": "white",
             "linecolor": "white",
             "minorgridcolor": "white",
             "startlinecolor": "#2a3f5f"
            },
            "type": "carpet"
           }
          ],
          "choropleth": [
           {
            "colorbar": {
             "outlinewidth": 0,
             "ticks": ""
            },
            "type": "choropleth"
           }
          ],
          "contour": [
           {
            "colorbar": {
             "outlinewidth": 0,
             "ticks": ""
            },
            "colorscale": [
             [
              0,
              "#0d0887"
             ],
             [
              0.1111111111111111,
              "#46039f"
             ],
             [
              0.2222222222222222,
              "#7201a8"
             ],
             [
              0.3333333333333333,
              "#9c179e"
             ],
             [
              0.4444444444444444,
              "#bd3786"
             ],
             [
              0.5555555555555556,
              "#d8576b"
             ],
             [
              0.6666666666666666,
              "#ed7953"
             ],
             [
              0.7777777777777778,
              "#fb9f3a"
             ],
             [
              0.8888888888888888,
              "#fdca26"
             ],
             [
              1,
              "#f0f921"
             ]
            ],
            "type": "contour"
           }
          ],
          "contourcarpet": [
           {
            "colorbar": {
             "outlinewidth": 0,
             "ticks": ""
            },
            "type": "contourcarpet"
           }
          ],
          "heatmap": [
           {
            "colorbar": {
             "outlinewidth": 0,
             "ticks": ""
            },
            "colorscale": [
             [
              0,
              "#0d0887"
             ],
             [
              0.1111111111111111,
              "#46039f"
             ],
             [
              0.2222222222222222,
              "#7201a8"
             ],
             [
              0.3333333333333333,
              "#9c179e"
             ],
             [
              0.4444444444444444,
              "#bd3786"
             ],
             [
              0.5555555555555556,
              "#d8576b"
             ],
             [
              0.6666666666666666,
              "#ed7953"
             ],
             [
              0.7777777777777778,
              "#fb9f3a"
             ],
             [
              0.8888888888888888,
              "#fdca26"
             ],
             [
              1,
              "#f0f921"
             ]
            ],
            "type": "heatmap"
           }
          ],
          "heatmapgl": [
           {
            "colorbar": {
             "outlinewidth": 0,
             "ticks": ""
            },
            "colorscale": [
             [
              0,
              "#0d0887"
             ],
             [
              0.1111111111111111,
              "#46039f"
             ],
             [
              0.2222222222222222,
              "#7201a8"
             ],
             [
              0.3333333333333333,
              "#9c179e"
             ],
             [
              0.4444444444444444,
              "#bd3786"
             ],
             [
              0.5555555555555556,
              "#d8576b"
             ],
             [
              0.6666666666666666,
              "#ed7953"
             ],
             [
              0.7777777777777778,
              "#fb9f3a"
             ],
             [
              0.8888888888888888,
              "#fdca26"
             ],
             [
              1,
              "#f0f921"
             ]
            ],
            "type": "heatmapgl"
           }
          ],
          "histogram": [
           {
            "marker": {
             "colorbar": {
              "outlinewidth": 0,
              "ticks": ""
             }
            },
            "type": "histogram"
           }
          ],
          "histogram2d": [
           {
            "colorbar": {
             "outlinewidth": 0,
             "ticks": ""
            },
            "colorscale": [
             [
              0,
              "#0d0887"
             ],
             [
              0.1111111111111111,
              "#46039f"
             ],
             [
              0.2222222222222222,
              "#7201a8"
             ],
             [
              0.3333333333333333,
              "#9c179e"
             ],
             [
              0.4444444444444444,
              "#bd3786"
             ],
             [
              0.5555555555555556,
              "#d8576b"
             ],
             [
              0.6666666666666666,
              "#ed7953"
             ],
             [
              0.7777777777777778,
              "#fb9f3a"
             ],
             [
              0.8888888888888888,
              "#fdca26"
             ],
             [
              1,
              "#f0f921"
             ]
            ],
            "type": "histogram2d"
           }
          ],
          "histogram2dcontour": [
           {
            "colorbar": {
             "outlinewidth": 0,
             "ticks": ""
            },
            "colorscale": [
             [
              0,
              "#0d0887"
             ],
             [
              0.1111111111111111,
              "#46039f"
             ],
             [
              0.2222222222222222,
              "#7201a8"
             ],
             [
              0.3333333333333333,
              "#9c179e"
             ],
             [
              0.4444444444444444,
              "#bd3786"
             ],
             [
              0.5555555555555556,
              "#d8576b"
             ],
             [
              0.6666666666666666,
              "#ed7953"
             ],
             [
              0.7777777777777778,
              "#fb9f3a"
             ],
             [
              0.8888888888888888,
              "#fdca26"
             ],
             [
              1,
              "#f0f921"
             ]
            ],
            "type": "histogram2dcontour"
           }
          ],
          "mesh3d": [
           {
            "colorbar": {
             "outlinewidth": 0,
             "ticks": ""
            },
            "type": "mesh3d"
           }
          ],
          "parcoords": [
           {
            "line": {
             "colorbar": {
              "outlinewidth": 0,
              "ticks": ""
             }
            },
            "type": "parcoords"
           }
          ],
          "pie": [
           {
            "automargin": true,
            "type": "pie"
           }
          ],
          "scatter": [
           {
            "marker": {
             "colorbar": {
              "outlinewidth": 0,
              "ticks": ""
             }
            },
            "type": "scatter"
           }
          ],
          "scatter3d": [
           {
            "line": {
             "colorbar": {
              "outlinewidth": 0,
              "ticks": ""
             }
            },
            "marker": {
             "colorbar": {
              "outlinewidth": 0,
              "ticks": ""
             }
            },
            "type": "scatter3d"
           }
          ],
          "scattercarpet": [
           {
            "marker": {
             "colorbar": {
              "outlinewidth": 0,
              "ticks": ""
             }
            },
            "type": "scattercarpet"
           }
          ],
          "scattergeo": [
           {
            "marker": {
             "colorbar": {
              "outlinewidth": 0,
              "ticks": ""
             }
            },
            "type": "scattergeo"
           }
          ],
          "scattergl": [
           {
            "marker": {
             "colorbar": {
              "outlinewidth": 0,
              "ticks": ""
             }
            },
            "type": "scattergl"
           }
          ],
          "scattermapbox": [
           {
            "marker": {
             "colorbar": {
              "outlinewidth": 0,
              "ticks": ""
             }
            },
            "type": "scattermapbox"
           }
          ],
          "scatterpolar": [
           {
            "marker": {
             "colorbar": {
              "outlinewidth": 0,
              "ticks": ""
             }
            },
            "type": "scatterpolar"
           }
          ],
          "scatterpolargl": [
           {
            "marker": {
             "colorbar": {
              "outlinewidth": 0,
              "ticks": ""
             }
            },
            "type": "scatterpolargl"
           }
          ],
          "scatterternary": [
           {
            "marker": {
             "colorbar": {
              "outlinewidth": 0,
              "ticks": ""
             }
            },
            "type": "scatterternary"
           }
          ],
          "surface": [
           {
            "colorbar": {
             "outlinewidth": 0,
             "ticks": ""
            },
            "colorscale": [
             [
              0,
              "#0d0887"
             ],
             [
              0.1111111111111111,
              "#46039f"
             ],
             [
              0.2222222222222222,
              "#7201a8"
             ],
             [
              0.3333333333333333,
              "#9c179e"
             ],
             [
              0.4444444444444444,
              "#bd3786"
             ],
             [
              0.5555555555555556,
              "#d8576b"
             ],
             [
              0.6666666666666666,
              "#ed7953"
             ],
             [
              0.7777777777777778,
              "#fb9f3a"
             ],
             [
              0.8888888888888888,
              "#fdca26"
             ],
             [
              1,
              "#f0f921"
             ]
            ],
            "type": "surface"
           }
          ],
          "table": [
           {
            "cells": {
             "fill": {
              "color": "#EBF0F8"
             },
             "line": {
              "color": "white"
             }
            },
            "header": {
             "fill": {
              "color": "#C8D4E3"
             },
             "line": {
              "color": "white"
             }
            },
            "type": "table"
           }
          ]
         },
         "layout": {
          "annotationdefaults": {
           "arrowcolor": "#2a3f5f",
           "arrowhead": 0,
           "arrowwidth": 1
          },
          "coloraxis": {
           "colorbar": {
            "outlinewidth": 0,
            "ticks": ""
           }
          },
          "colorscale": {
           "diverging": [
            [
             0,
             "#8e0152"
            ],
            [
             0.1,
             "#c51b7d"
            ],
            [
             0.2,
             "#de77ae"
            ],
            [
             0.3,
             "#f1b6da"
            ],
            [
             0.4,
             "#fde0ef"
            ],
            [
             0.5,
             "#f7f7f7"
            ],
            [
             0.6,
             "#e6f5d0"
            ],
            [
             0.7,
             "#b8e186"
            ],
            [
             0.8,
             "#7fbc41"
            ],
            [
             0.9,
             "#4d9221"
            ],
            [
             1,
             "#276419"
            ]
           ],
           "sequential": [
            [
             0,
             "#0d0887"
            ],
            [
             0.1111111111111111,
             "#46039f"
            ],
            [
             0.2222222222222222,
             "#7201a8"
            ],
            [
             0.3333333333333333,
             "#9c179e"
            ],
            [
             0.4444444444444444,
             "#bd3786"
            ],
            [
             0.5555555555555556,
             "#d8576b"
            ],
            [
             0.6666666666666666,
             "#ed7953"
            ],
            [
             0.7777777777777778,
             "#fb9f3a"
            ],
            [
             0.8888888888888888,
             "#fdca26"
            ],
            [
             1,
             "#f0f921"
            ]
           ],
           "sequentialminus": [
            [
             0,
             "#0d0887"
            ],
            [
             0.1111111111111111,
             "#46039f"
            ],
            [
             0.2222222222222222,
             "#7201a8"
            ],
            [
             0.3333333333333333,
             "#9c179e"
            ],
            [
             0.4444444444444444,
             "#bd3786"
            ],
            [
             0.5555555555555556,
             "#d8576b"
            ],
            [
             0.6666666666666666,
             "#ed7953"
            ],
            [
             0.7777777777777778,
             "#fb9f3a"
            ],
            [
             0.8888888888888888,
             "#fdca26"
            ],
            [
             1,
             "#f0f921"
            ]
           ]
          },
          "colorway": [
           "#636efa",
           "#EF553B",
           "#00cc96",
           "#ab63fa",
           "#FFA15A",
           "#19d3f3",
           "#FF6692",
           "#B6E880",
           "#FF97FF",
           "#FECB52"
          ],
          "font": {
           "color": "#2a3f5f"
          },
          "geo": {
           "bgcolor": "white",
           "lakecolor": "white",
           "landcolor": "#E5ECF6",
           "showlakes": true,
           "showland": true,
           "subunitcolor": "white"
          },
          "hoverlabel": {
           "align": "left"
          },
          "hovermode": "closest",
          "mapbox": {
           "style": "light"
          },
          "paper_bgcolor": "white",
          "plot_bgcolor": "#E5ECF6",
          "polar": {
           "angularaxis": {
            "gridcolor": "white",
            "linecolor": "white",
            "ticks": ""
           },
           "bgcolor": "#E5ECF6",
           "radialaxis": {
            "gridcolor": "white",
            "linecolor": "white",
            "ticks": ""
           }
          },
          "scene": {
           "xaxis": {
            "backgroundcolor": "#E5ECF6",
            "gridcolor": "white",
            "gridwidth": 2,
            "linecolor": "white",
            "showbackground": true,
            "ticks": "",
            "zerolinecolor": "white"
           },
           "yaxis": {
            "backgroundcolor": "#E5ECF6",
            "gridcolor": "white",
            "gridwidth": 2,
            "linecolor": "white",
            "showbackground": true,
            "ticks": "",
            "zerolinecolor": "white"
           },
           "zaxis": {
            "backgroundcolor": "#E5ECF6",
            "gridcolor": "white",
            "gridwidth": 2,
            "linecolor": "white",
            "showbackground": true,
            "ticks": "",
            "zerolinecolor": "white"
           }
          },
          "shapedefaults": {
           "line": {
            "color": "#2a3f5f"
           }
          },
          "ternary": {
           "aaxis": {
            "gridcolor": "white",
            "linecolor": "white",
            "ticks": ""
           },
           "baxis": {
            "gridcolor": "white",
            "linecolor": "white",
            "ticks": ""
           },
           "bgcolor": "#E5ECF6",
           "caxis": {
            "gridcolor": "white",
            "linecolor": "white",
            "ticks": ""
           }
          },
          "title": {
           "x": 0.05
          },
          "xaxis": {
           "automargin": true,
           "gridcolor": "white",
           "linecolor": "white",
           "ticks": "",
           "title": {
            "standoff": 15
           },
           "zerolinecolor": "white",
           "zerolinewidth": 2
          },
          "yaxis": {
           "automargin": true,
           "gridcolor": "white",
           "linecolor": "white",
           "ticks": "",
           "title": {
            "standoff": 15
           },
           "zerolinecolor": "white",
           "zerolinewidth": 2
          }
         }
        },
        "title": {
         "text": "Multiple lines plot",
         "x": 0.5,
         "y": 0.9
        },
        "width": 1100,
        "xaxis": {
         "visible": false
        },
        "yaxis": {
         "title": {
          "text": "yaxis"
         }
        }
       }
      }
     },
     "metadata": {}
    }
   ],
   "source": [
    "import plotly.graph_objects as go\n",
    "\n",
    "trace_1=go.Scatter(x=x,y=y,line=dict(color=\"rgb(206,40,94)\",width=2),mode=\"lines\",  # Line plot\n",
    "                   name=\"line_1\")\n",
    "trace_2=go.Scatter(x=x,y=y1,line=dict(color=\"limegreen\",width=2),mode=\"lines+markers\",  # Line plot with dot \n",
    "                   name=\"line_2\")\n",
    "\n",
    "trace_3=go.Scatter(x=x,y=y2,\n",
    "                   line=dict(color=\"blue\",width=2),opacity=0.9,mode=\"markers\",      # Scatter plot\n",
    "                   name=\"line3\")\n",
    "    \n",
    "layout=go.Layout(legend_orientation=\"h\",xaxis=dict(visible=False),yaxis=dict(title_text=\"yaxis\"),\n",
    "                 title_text= \"Multiple lines plot\",title_x=0.5,title_y=0.9)\n",
    "fig=go.Figure(data=[trace_1,trace_2,trace_3],layout=layout)\n",
    "\n",
    "fig.update_layout(showlegend=True,width =1100,height=450,autosize=True,\n",
    "        annotations=[dict(x=1,y=-0.1,xref='paper',yref='paper',\n",
    "                          text=\"Source: ##can add source here\",showarrow=False,       \n",
    "                )\n",
    "            ]\n",
    "        )\n",
    "fig.show()        "
   ]
  },
  {
   "source": [
    "## 2. Horizontal Bar Plot "
   ],
   "cell_type": "markdown",
   "metadata": {}
  },
  {
   "cell_type": "code",
   "execution_count": 6,
   "metadata": {},
   "outputs": [
    {
     "output_type": "display_data",
     "data": {
      "application/vnd.plotly.v1+json": {
       "config": {
        "plotlyServerURL": "https://plot.ly"
       },
       "data": [
        {
         "marker": {
          "color": "rgb(206,40,89)"
         },
         "name": "Bar",
         "orientation": "h",
         "type": "bar",
         "x": [
          3340,
          1133,
          2756,
          2976,
          3367,
          1060,
          1844,
          2894,
          4331,
          3012,
          4373,
          2136,
          3676,
          4320,
          1656,
          1140,
          3132,
          3007,
          2342,
          1311,
          2023,
          4901,
          4902,
          4053,
          2479
         ],
         "y": [
          0,
          1,
          2,
          3,
          4,
          5,
          6,
          7,
          8,
          9,
          10,
          11,
          12,
          13,
          14,
          15,
          16,
          17,
          18,
          19,
          20,
          21,
          22,
          23,
          24
         ]
        }
       ],
       "layout": {
        "annotations": [
         {
          "showarrow": false,
          "text": "Source: ##can add source here",
          "x": 1,
          "xref": "paper",
          "y": -0.2,
          "yref": "paper"
         }
        ],
        "autosize": true,
        "barmode": "group",
        "height": 450,
        "legend": {
         "orientation": "h"
        },
        "template": {
         "data": {
          "bar": [
           {
            "error_x": {
             "color": "#2a3f5f"
            },
            "error_y": {
             "color": "#2a3f5f"
            },
            "marker": {
             "line": {
              "color": "#E5ECF6",
              "width": 0.5
             }
            },
            "type": "bar"
           }
          ],
          "barpolar": [
           {
            "marker": {
             "line": {
              "color": "#E5ECF6",
              "width": 0.5
             }
            },
            "type": "barpolar"
           }
          ],
          "carpet": [
           {
            "aaxis": {
             "endlinecolor": "#2a3f5f",
             "gridcolor": "white",
             "linecolor": "white",
             "minorgridcolor": "white",
             "startlinecolor": "#2a3f5f"
            },
            "baxis": {
             "endlinecolor": "#2a3f5f",
             "gridcolor": "white",
             "linecolor": "white",
             "minorgridcolor": "white",
             "startlinecolor": "#2a3f5f"
            },
            "type": "carpet"
           }
          ],
          "choropleth": [
           {
            "colorbar": {
             "outlinewidth": 0,
             "ticks": ""
            },
            "type": "choropleth"
           }
          ],
          "contour": [
           {
            "colorbar": {
             "outlinewidth": 0,
             "ticks": ""
            },
            "colorscale": [
             [
              0,
              "#0d0887"
             ],
             [
              0.1111111111111111,
              "#46039f"
             ],
             [
              0.2222222222222222,
              "#7201a8"
             ],
             [
              0.3333333333333333,
              "#9c179e"
             ],
             [
              0.4444444444444444,
              "#bd3786"
             ],
             [
              0.5555555555555556,
              "#d8576b"
             ],
             [
              0.6666666666666666,
              "#ed7953"
             ],
             [
              0.7777777777777778,
              "#fb9f3a"
             ],
             [
              0.8888888888888888,
              "#fdca26"
             ],
             [
              1,
              "#f0f921"
             ]
            ],
            "type": "contour"
           }
          ],
          "contourcarpet": [
           {
            "colorbar": {
             "outlinewidth": 0,
             "ticks": ""
            },
            "type": "contourcarpet"
           }
          ],
          "heatmap": [
           {
            "colorbar": {
             "outlinewidth": 0,
             "ticks": ""
            },
            "colorscale": [
             [
              0,
              "#0d0887"
             ],
             [
              0.1111111111111111,
              "#46039f"
             ],
             [
              0.2222222222222222,
              "#7201a8"
             ],
             [
              0.3333333333333333,
              "#9c179e"
             ],
             [
              0.4444444444444444,
              "#bd3786"
             ],
             [
              0.5555555555555556,
              "#d8576b"
             ],
             [
              0.6666666666666666,
              "#ed7953"
             ],
             [
              0.7777777777777778,
              "#fb9f3a"
             ],
             [
              0.8888888888888888,
              "#fdca26"
             ],
             [
              1,
              "#f0f921"
             ]
            ],
            "type": "heatmap"
           }
          ],
          "heatmapgl": [
           {
            "colorbar": {
             "outlinewidth": 0,
             "ticks": ""
            },
            "colorscale": [
             [
              0,
              "#0d0887"
             ],
             [
              0.1111111111111111,
              "#46039f"
             ],
             [
              0.2222222222222222,
              "#7201a8"
             ],
             [
              0.3333333333333333,
              "#9c179e"
             ],
             [
              0.4444444444444444,
              "#bd3786"
             ],
             [
              0.5555555555555556,
              "#d8576b"
             ],
             [
              0.6666666666666666,
              "#ed7953"
             ],
             [
              0.7777777777777778,
              "#fb9f3a"
             ],
             [
              0.8888888888888888,
              "#fdca26"
             ],
             [
              1,
              "#f0f921"
             ]
            ],
            "type": "heatmapgl"
           }
          ],
          "histogram": [
           {
            "marker": {
             "colorbar": {
              "outlinewidth": 0,
              "ticks": ""
             }
            },
            "type": "histogram"
           }
          ],
          "histogram2d": [
           {
            "colorbar": {
             "outlinewidth": 0,
             "ticks": ""
            },
            "colorscale": [
             [
              0,
              "#0d0887"
             ],
             [
              0.1111111111111111,
              "#46039f"
             ],
             [
              0.2222222222222222,
              "#7201a8"
             ],
             [
              0.3333333333333333,
              "#9c179e"
             ],
             [
              0.4444444444444444,
              "#bd3786"
             ],
             [
              0.5555555555555556,
              "#d8576b"
             ],
             [
              0.6666666666666666,
              "#ed7953"
             ],
             [
              0.7777777777777778,
              "#fb9f3a"
             ],
             [
              0.8888888888888888,
              "#fdca26"
             ],
             [
              1,
              "#f0f921"
             ]
            ],
            "type": "histogram2d"
           }
          ],
          "histogram2dcontour": [
           {
            "colorbar": {
             "outlinewidth": 0,
             "ticks": ""
            },
            "colorscale": [
             [
              0,
              "#0d0887"
             ],
             [
              0.1111111111111111,
              "#46039f"
             ],
             [
              0.2222222222222222,
              "#7201a8"
             ],
             [
              0.3333333333333333,
              "#9c179e"
             ],
             [
              0.4444444444444444,
              "#bd3786"
             ],
             [
              0.5555555555555556,
              "#d8576b"
             ],
             [
              0.6666666666666666,
              "#ed7953"
             ],
             [
              0.7777777777777778,
              "#fb9f3a"
             ],
             [
              0.8888888888888888,
              "#fdca26"
             ],
             [
              1,
              "#f0f921"
             ]
            ],
            "type": "histogram2dcontour"
           }
          ],
          "mesh3d": [
           {
            "colorbar": {
             "outlinewidth": 0,
             "ticks": ""
            },
            "type": "mesh3d"
           }
          ],
          "parcoords": [
           {
            "line": {
             "colorbar": {
              "outlinewidth": 0,
              "ticks": ""
             }
            },
            "type": "parcoords"
           }
          ],
          "pie": [
           {
            "automargin": true,
            "type": "pie"
           }
          ],
          "scatter": [
           {
            "marker": {
             "colorbar": {
              "outlinewidth": 0,
              "ticks": ""
             }
            },
            "type": "scatter"
           }
          ],
          "scatter3d": [
           {
            "line": {
             "colorbar": {
              "outlinewidth": 0,
              "ticks": ""
             }
            },
            "marker": {
             "colorbar": {
              "outlinewidth": 0,
              "ticks": ""
             }
            },
            "type": "scatter3d"
           }
          ],
          "scattercarpet": [
           {
            "marker": {
             "colorbar": {
              "outlinewidth": 0,
              "ticks": ""
             }
            },
            "type": "scattercarpet"
           }
          ],
          "scattergeo": [
           {
            "marker": {
             "colorbar": {
              "outlinewidth": 0,
              "ticks": ""
             }
            },
            "type": "scattergeo"
           }
          ],
          "scattergl": [
           {
            "marker": {
             "colorbar": {
              "outlinewidth": 0,
              "ticks": ""
             }
            },
            "type": "scattergl"
           }
          ],
          "scattermapbox": [
           {
            "marker": {
             "colorbar": {
              "outlinewidth": 0,
              "ticks": ""
             }
            },
            "type": "scattermapbox"
           }
          ],
          "scatterpolar": [
           {
            "marker": {
             "colorbar": {
              "outlinewidth": 0,
              "ticks": ""
             }
            },
            "type": "scatterpolar"
           }
          ],
          "scatterpolargl": [
           {
            "marker": {
             "colorbar": {
              "outlinewidth": 0,
              "ticks": ""
             }
            },
            "type": "scatterpolargl"
           }
          ],
          "scatterternary": [
           {
            "marker": {
             "colorbar": {
              "outlinewidth": 0,
              "ticks": ""
             }
            },
            "type": "scatterternary"
           }
          ],
          "surface": [
           {
            "colorbar": {
             "outlinewidth": 0,
             "ticks": ""
            },
            "colorscale": [
             [
              0,
              "#0d0887"
             ],
             [
              0.1111111111111111,
              "#46039f"
             ],
             [
              0.2222222222222222,
              "#7201a8"
             ],
             [
              0.3333333333333333,
              "#9c179e"
             ],
             [
              0.4444444444444444,
              "#bd3786"
             ],
             [
              0.5555555555555556,
              "#d8576b"
             ],
             [
              0.6666666666666666,
              "#ed7953"
             ],
             [
              0.7777777777777778,
              "#fb9f3a"
             ],
             [
              0.8888888888888888,
              "#fdca26"
             ],
             [
              1,
              "#f0f921"
             ]
            ],
            "type": "surface"
           }
          ],
          "table": [
           {
            "cells": {
             "fill": {
              "color": "#EBF0F8"
             },
             "line": {
              "color": "white"
             }
            },
            "header": {
             "fill": {
              "color": "#C8D4E3"
             },
             "line": {
              "color": "white"
             }
            },
            "type": "table"
           }
          ]
         },
         "layout": {
          "annotationdefaults": {
           "arrowcolor": "#2a3f5f",
           "arrowhead": 0,
           "arrowwidth": 1
          },
          "coloraxis": {
           "colorbar": {
            "outlinewidth": 0,
            "ticks": ""
           }
          },
          "colorscale": {
           "diverging": [
            [
             0,
             "#8e0152"
            ],
            [
             0.1,
             "#c51b7d"
            ],
            [
             0.2,
             "#de77ae"
            ],
            [
             0.3,
             "#f1b6da"
            ],
            [
             0.4,
             "#fde0ef"
            ],
            [
             0.5,
             "#f7f7f7"
            ],
            [
             0.6,
             "#e6f5d0"
            ],
            [
             0.7,
             "#b8e186"
            ],
            [
             0.8,
             "#7fbc41"
            ],
            [
             0.9,
             "#4d9221"
            ],
            [
             1,
             "#276419"
            ]
           ],
           "sequential": [
            [
             0,
             "#0d0887"
            ],
            [
             0.1111111111111111,
             "#46039f"
            ],
            [
             0.2222222222222222,
             "#7201a8"
            ],
            [
             0.3333333333333333,
             "#9c179e"
            ],
            [
             0.4444444444444444,
             "#bd3786"
            ],
            [
             0.5555555555555556,
             "#d8576b"
            ],
            [
             0.6666666666666666,
             "#ed7953"
            ],
            [
             0.7777777777777778,
             "#fb9f3a"
            ],
            [
             0.8888888888888888,
             "#fdca26"
            ],
            [
             1,
             "#f0f921"
            ]
           ],
           "sequentialminus": [
            [
             0,
             "#0d0887"
            ],
            [
             0.1111111111111111,
             "#46039f"
            ],
            [
             0.2222222222222222,
             "#7201a8"
            ],
            [
             0.3333333333333333,
             "#9c179e"
            ],
            [
             0.4444444444444444,
             "#bd3786"
            ],
            [
             0.5555555555555556,
             "#d8576b"
            ],
            [
             0.6666666666666666,
             "#ed7953"
            ],
            [
             0.7777777777777778,
             "#fb9f3a"
            ],
            [
             0.8888888888888888,
             "#fdca26"
            ],
            [
             1,
             "#f0f921"
            ]
           ]
          },
          "colorway": [
           "#636efa",
           "#EF553B",
           "#00cc96",
           "#ab63fa",
           "#FFA15A",
           "#19d3f3",
           "#FF6692",
           "#B6E880",
           "#FF97FF",
           "#FECB52"
          ],
          "font": {
           "color": "#2a3f5f"
          },
          "geo": {
           "bgcolor": "white",
           "lakecolor": "white",
           "landcolor": "#E5ECF6",
           "showlakes": true,
           "showland": true,
           "subunitcolor": "white"
          },
          "hoverlabel": {
           "align": "left"
          },
          "hovermode": "closest",
          "mapbox": {
           "style": "light"
          },
          "paper_bgcolor": "white",
          "plot_bgcolor": "#E5ECF6",
          "polar": {
           "angularaxis": {
            "gridcolor": "white",
            "linecolor": "white",
            "ticks": ""
           },
           "bgcolor": "#E5ECF6",
           "radialaxis": {
            "gridcolor": "white",
            "linecolor": "white",
            "ticks": ""
           }
          },
          "scene": {
           "xaxis": {
            "backgroundcolor": "#E5ECF6",
            "gridcolor": "white",
            "gridwidth": 2,
            "linecolor": "white",
            "showbackground": true,
            "ticks": "",
            "zerolinecolor": "white"
           },
           "yaxis": {
            "backgroundcolor": "#E5ECF6",
            "gridcolor": "white",
            "gridwidth": 2,
            "linecolor": "white",
            "showbackground": true,
            "ticks": "",
            "zerolinecolor": "white"
           },
           "zaxis": {
            "backgroundcolor": "#E5ECF6",
            "gridcolor": "white",
            "gridwidth": 2,
            "linecolor": "white",
            "showbackground": true,
            "ticks": "",
            "zerolinecolor": "white"
           }
          },
          "shapedefaults": {
           "line": {
            "color": "#2a3f5f"
           }
          },
          "ternary": {
           "aaxis": {
            "gridcolor": "white",
            "linecolor": "white",
            "ticks": ""
           },
           "baxis": {
            "gridcolor": "white",
            "linecolor": "white",
            "ticks": ""
           },
           "bgcolor": "#E5ECF6",
           "caxis": {
            "gridcolor": "white",
            "linecolor": "white",
            "ticks": ""
           }
          },
          "title": {
           "x": 0.05
          },
          "xaxis": {
           "automargin": true,
           "gridcolor": "white",
           "linecolor": "white",
           "ticks": "",
           "title": {
            "standoff": 15
           },
           "zerolinecolor": "white",
           "zerolinewidth": 2
          },
          "yaxis": {
           "automargin": true,
           "gridcolor": "white",
           "linecolor": "white",
           "ticks": "",
           "title": {
            "standoff": 15
           },
           "zerolinecolor": "white",
           "zerolinewidth": 2
          }
         }
        },
        "title": {
         "text": "Horizontal Bar Plot",
         "x": 0.5
        },
        "width": 900,
        "xaxis": {
         "title": {
          "text": "xaxis"
         }
        },
        "yaxis": {
         "title": {
          "text": "yaxis"
         }
        }
       }
      }
     },
     "metadata": {}
    }
   ],
   "source": [
    "fig = go.Figure(data=[\n",
    "        go.Bar(name='Bar', x=y, y=x,marker_color='rgb(206,40,89)',orientation='h'),\n",
    "        \n",
    "    ])\n",
    "    # Change the bar mode\n",
    "fig.update_layout(barmode='group',xaxis=dict(title_text=\"xaxis\"),yaxis=dict(title_text=\"yaxis\"),legend_orientation=\"h\",\n",
    "                      title_text=\"Horizontal Bar Plot\",title_x=0.5)\n",
    "    \n",
    "fig.update_layout(width =900,height=450,autosize=True,\n",
    "        annotations=[dict(x=1,y=-0.2,xref='paper',yref='paper',\n",
    "                          text=\"Source: ##can add source here\",showarrow=False,       \n",
    "                )\n",
    "            ]\n",
    "        )\n",
    "fig.show()        "
   ]
  },
  {
   "source": [],
   "cell_type": "markdown",
   "metadata": {}
  },
  {
   "source": [
    "## 3. Multiple Distribution Plot "
   ],
   "cell_type": "markdown",
   "metadata": {}
  },
  {
   "cell_type": "code",
   "execution_count": 7,
   "metadata": {},
   "outputs": [
    {
     "output_type": "display_data",
     "data": {
      "application/vnd.plotly.v1+json": {
       "config": {
        "plotlyServerURL": "https://plot.ly"
       },
       "data": [
        {
         "autobinx": false,
         "histnorm": "probability density",
         "legendgroup": "Group 1",
         "marker": {
          "color": "rgb(31, 119, 180)"
         },
         "name": "Group 1",
         "opacity": 0.7,
         "type": "histogram",
         "x": [
          2.323638638487701,
          1.410897163253324,
          2.274683656597967,
          1.233873575885207,
          0.7535182415067487,
          0.2911312836152322,
          1.3211771407293889,
          1.4746248501239525,
          1.3966795520112132,
          1.509459284558291,
          1.5770502438429836,
          1.6387477486313662,
          3.337176079942906,
          1.966609784856439,
          1.8383170058872293,
          1.7109749131512504,
          1.6874632390353201,
          -0.5707010262099903,
          1.940887291887258,
          1.8793742687558976,
          1.7425619879114185,
          0.9896865738429885,
          2.653394307055647,
          2.289468408918633,
          1.004291319726549,
          2.938478367959723,
          1.8342528587006295,
          3.31653525641629,
          0.18540518031721298,
          1.9617930881909897,
          2.859457101432394,
          1.2359391407607996,
          1.7556103726987677,
          2.409651558008176,
          0.6388095936530152,
          1.6679533093783396,
          2.040416357408133,
          2.470599585564469,
          2.3969704110564605,
          2.109090327250668,
          2.1601649577627544,
          5.001067897681319,
          2.704153897004204,
          0.08003241277608564,
          1.9586508721257374,
          2.8917263952381678,
          2.4376110909585917,
          0.5655249866155874,
          1.2918328969675987,
          1.53330967994714,
          1.2499015883661304,
          2.5655042401449486,
          4.717056849192785,
          1.4016044968230132,
          3.4078865105632907,
          1.352866434179827,
          3.6060375880572124,
          3.4488727714375065,
          3.4952605858566255,
          2.3811750032130794,
          3.257086028277226,
          1.056089578170314,
          2.527063645265764,
          2.583021333665851,
          3.1851043125986447,
          0.7825041885100845,
          1.7232572096835614,
          3.8459961062716777,
          2.783336643311956,
          3.266314295919971,
          1.1316661890553512,
          0.4919597188650535,
          2.4287065194998827,
          1.7891807158778292,
          0.8081722568559047,
          2.1198760567228776,
          0.5324504478170697,
          3.896493706342641,
          3.209188235689243,
          1.5892071317545986,
          1.9868688859312158,
          1.6473426239983509,
          1.9627329224664485,
          1.1383279663318004,
          1.3032171154767447,
          2.8790889604267234,
          2.9023586883149632,
          2.5664893391439847,
          2.134651182273027,
          1.2005349785402568,
          3.450134742768122,
          1.804001133095047,
          3.145125960410957,
          2.069814590488508,
          2.2002140717154384,
          2.0128582724089688,
          0.959764496968414,
          3.672075907402723,
          2.491506828277332,
          1.6782437095669143
         ],
         "xaxis": "x",
         "xbins": {
          "end": 5.001067897681319,
          "size": 0.2,
          "start": -0.5707010262099903
         },
         "yaxis": "y"
        },
        {
         "autobinx": false,
         "histnorm": "probability density",
         "legendgroup": "Group 2",
         "marker": {
          "color": "rgb(255, 127, 14)"
         },
         "name": "Group 2",
         "opacity": 0.7,
         "type": "histogram",
         "x": [
          -1.201429783838679,
          -0.8849444499261252,
          -1.451910650923351,
          -2.0367139092103606,
          0.9394553413154578,
          1.327957418556544,
          0.5778236674028473,
          2.475321556223366,
          -0.39933197812755955,
          -1.1319051390717199,
          -0.1510565932895282,
          -0.7733945403729158,
          -0.30411216956699494,
          2.1376081848187445,
          0.09886926785530925,
          1.1877668015832477,
          1.2294277256213682,
          -0.17896071505919883,
          0.8272156428394484,
          1.4664292861552424,
          -0.01604708227428503,
          -0.6152641732190545,
          0.46218403991020995,
          -0.8473482603390801,
          -1.6933221826950218,
          1.763963849884136,
          0.3130154111671639,
          -0.4201813728997795,
          -0.9860304718917318,
          -0.6342171731026335,
          0.4822452793394557,
          0.21920809057213186,
          -1.5128008244338738,
          1.6338842562936085,
          1.2210051753349302,
          0.5597276913029999,
          -1.512567373405509,
          -0.277501481382642,
          0.0751844621864122,
          -1.0238157812554718,
          0.5674472287550099,
          0.2365531003217184,
          -1.632709503577543,
          0.2870257736613014,
          -0.4300916217392339,
          -1.3823801704561873,
          -1.9416392981520418,
          0.17802393193862354,
          0.8834459659332835,
          1.1119808717993438,
          -0.460070439963809,
          -0.04527795564729585,
          0.9676087934300877,
          -0.3346601041596918,
          -0.8090750446826465,
          -0.2026579653918882,
          0.9378673487190592,
          -0.3670496976214286,
          -2.059888299353587,
          -1.0815493992673728,
          -0.3501573882190444,
          -0.018222697705329763,
          0.08822401797865691,
          -0.2505583397006577,
          -0.005778667166713211,
          0.7925385671503723,
          -1.0347299354601203,
          0.6349294395871833,
          -0.2170174022988686,
          0.2795333759302505,
          -0.26000732651723235,
          0.9495941756643519,
          -1.256333205181748,
          0.7201693370091529,
          0.8457712662273867,
          -0.5412515746528249,
          -0.2840368926565597,
          -0.6031228525500502,
          -1.8590654555649369,
          -1.0591316934888286,
          -1.0758963379488666,
          0.020416970503901188,
          0.48218410906485315,
          -0.4642842940634552,
          0.24886630951195993,
          0.1408567652641877,
          0.1328309317343254,
          0.3836211084944193,
          0.6334726572292085,
          -0.049706685271574874,
          -0.20859441161178752,
          -0.05781843714922181,
          0.6729217625535091,
          -1.103408028376144,
          -1.5155842678423503,
          0.24629937682747202,
          -0.6428994197401906,
          -0.25200687148155493,
          2.567447935647437,
          -0.39927090092850437
         ],
         "xaxis": "x",
         "xbins": {
          "end": 2.567447935647437,
          "size": 0.2,
          "start": -2.059888299353587
         },
         "yaxis": "y"
        },
        {
         "autobinx": false,
         "histnorm": "probability density",
         "legendgroup": "Group 3",
         "marker": {
          "color": "rgb(44, 160, 44)"
         },
         "name": "Group 3",
         "opacity": 0.7,
         "type": "histogram",
         "x": [
          7.499029316577044,
          7.041219998091718,
          6.281051659313746,
          6.706812559219933,
          5.651373125496175,
          6.51530231846904,
          6.9822774162776335,
          5.778914928822133,
          4.352507775198834,
          4.6354871413752905,
          6.546011073387905,
          5.207765479352737,
          6.411009447801223,
          5.62043226672979,
          4.797924445468309,
          6.636921119935472,
          5.870486532816767,
          7.25269581854883,
          5.045459212506965,
          6.49720800638512,
          6.52300276687923,
          6.767815354626014,
          4.893970269106979,
          6.119788264884148,
          5.268985050015652,
          6.726753721739338,
          7.580327999789467,
          6.248857828961221,
          7.913189270025217,
          4.676744828577402,
          6.9336866888695186,
          3.908185324128986,
          6.88305834872764,
          5.6297535628055915,
          5.982965272582031,
          5.888570175894348,
          5.7770486817071784,
          7.7387742002299955,
          3.9167771902887365,
          7.841329963608565,
          5.344215780537733,
          6.5002787303140375,
          7.262811514674544,
          5.646828808922758,
          7.56457082671129,
          6.269763511424548,
          7.135559794979021,
          4.946002689684397,
          6.0389908863455,
          5.338965198569676,
          7.367909509219734,
          1.950544567075288,
          6.540676658701825,
          7.4750422954896845,
          5.6043731721286125,
          5.164940489369617,
          5.136958049008461,
          5.3936463107060195,
          3.8536255633231282,
          5.328790491636325,
          5.9897896548839755,
          6.034038839822161,
          6.58169280479325,
          4.5462100225609605,
          6.378166330829697,
          6.812649813608033,
          5.060885380606859,
          6.357810446527452,
          6.561334969497917,
          6.204258213715248,
          6.987978541737643,
          6.294966974738257,
          6.455026961616069,
          6.102357767358349,
          6.420849482103835,
          5.0565920271343305,
          6.371210043863435,
          6.335722419254483,
          6.051486503826679,
          4.670824614994588,
          5.104604876457572,
          5.423537197006645,
          5.754273604970599,
          6.157583102204357,
          7.631000011475496,
          4.955750558705358,
          5.79012397834919,
          4.292658288473127,
          6.096671822000856,
          6.614876317155773,
          6.660447011044908,
          6.884387617942257,
          5.581910643571326,
          6.1282723396170375,
          6.07134898540384,
          3.9031173745655328,
          5.759857652036523,
          6.626244377123326,
          2.7866509714715075,
          4.221282265247867
         ],
         "xaxis": "x",
         "xbins": {
          "end": 7.913189270025217,
          "size": 0.1,
          "start": 1.950544567075288
         },
         "yaxis": "y"
        },
        {
         "legendgroup": "Group 1",
         "marker": {
          "color": "rgb(31, 119, 180)"
         },
         "mode": "lines",
         "name": "Group 1",
         "showlegend": false,
         "type": "scatter",
         "x": [
          -0.5707010262099903,
          -0.5595574883622076,
          -0.5484139505144251,
          -0.5372704126666424,
          -0.5261268748188598,
          -0.5149833369710772,
          -0.5038397991232946,
          -0.49269626127551197,
          -0.48155272342772937,
          -0.4704091855799467,
          -0.4592656477321641,
          -0.4481221098843815,
          -0.43697857203659884,
          -0.42583503418881624,
          -0.41469149634103364,
          -0.403547958493251,
          -0.39240442064546843,
          -0.3812608827976858,
          -0.3701173449499031,
          -0.35897380710212057,
          -0.3478302692543379,
          -0.3366867314065553,
          -0.3255431935587727,
          -0.31439965571099004,
          -0.30325611786320744,
          -0.2921125800154248,
          -0.2809690421676422,
          -0.2698255043198596,
          -0.258681966472077,
          -0.24753842862429437,
          -0.2363948907765117,
          -0.2252513529287291,
          -0.2141078150809465,
          -0.20296427723316385,
          -0.19182073938538124,
          -0.1806772015375986,
          -0.16953366368981598,
          -0.15839012584203338,
          -0.14724658799425078,
          -0.13610305014646817,
          -0.12495951229868552,
          -0.11381597445090291,
          -0.10267243660312031,
          -0.09152889875533765,
          -0.08038536090755505,
          -0.06924182305977244,
          -0.058098285211989786,
          -0.04695474736420724,
          -0.03581120951642458,
          -0.02466767166864192,
          -0.013524133820859263,
          -0.0023805959730767157,
          0.008762941874705943,
          0.01990647972248849,
          0.03105001757027115,
          0.04219355541805381,
          0.053337093265836355,
          0.06448063111361901,
          0.07562416896140156,
          0.08676770680918433,
          0.09791124465696688,
          0.10905478250474954,
          0.12019832035253208,
          0.13134185820031474,
          0.1424853960480973,
          0.15362893389587995,
          0.1647724717436626,
          0.17591600959144515,
          0.1870595474392278,
          0.19820308528701036,
          0.20934662313479313,
          0.22049016098257568,
          0.23163369883035834,
          0.24277723667814088,
          0.25392077452592354,
          0.2650643123737062,
          0.27620785022148875,
          0.2873513880692714,
          0.29849492591705395,
          0.3096384637648366,
          0.32078200161261927,
          0.33192553946040193,
          0.3430690773081845,
          0.35421261515596714,
          0.3653561530037497,
          0.37649969085153245,
          0.387643228699315,
          0.39878676654709755,
          0.4099303043948802,
          0.42107384224266275,
          0.4322173800904454,
          0.44336091793822807,
          0.45450445578601073,
          0.4656479936337934,
          0.4767915314815758,
          0.4879350693293585,
          0.49907860717714114,
          0.5102221450249236,
          0.5213656828727065,
          0.5325092207204891,
          0.5436527585682718,
          0.5547962964160542,
          0.5659398342638369,
          0.5770833721116195,
          0.5882269099594022,
          0.5993704478071846,
          0.6105139856549673,
          0.6216575235027499,
          0.6328010613505326,
          0.6439445991983153,
          0.6550881370460979,
          0.6662316748938806,
          0.677375212741663,
          0.6885187505894457,
          0.6996622884372283,
          0.710805826285011,
          0.7219493641327934,
          0.7330929019805761,
          0.744236439828359,
          0.7553799776761414,
          0.7665235155239241,
          0.7776670533717067,
          0.7888105912194894,
          0.7999541290672718,
          0.8110976669150545,
          0.8222412047628371,
          0.8333847426106198,
          0.8445282804584022,
          0.8556718183061849,
          0.8668153561539678,
          0.8779588940017502,
          0.8891024318495329,
          0.9002459696973155,
          0.9113895075450982,
          0.9225330453928806,
          0.9336765832406633,
          0.9448201210884459,
          0.9559636589362286,
          0.967107196784011,
          0.9782507346317939,
          0.9893942724795766,
          1.000537810327359,
          1.0116813481751417,
          1.0228248860229243,
          1.033968423870707,
          1.0451119617184894,
          1.056255499566272,
          1.0673990374140547,
          1.0785425752618374,
          1.08968611310962,
          1.1008296509574027,
          1.1119731888051854,
          1.1231167266529678,
          1.1342602645007505,
          1.1454038023485331,
          1.1565473401963158,
          1.1676908780440982,
          1.1788344158918809,
          1.1899779537396635,
          1.2011214915874464,
          1.2122650294352288,
          1.2234085672830115,
          1.2345521051307942,
          1.2456956429785766,
          1.2568391808263593,
          1.267982718674142,
          1.2791262565219246,
          1.290269794369707,
          1.3014133322174897,
          1.3125568700652723,
          1.3237004079130552,
          1.3348439457608376,
          1.3459874836086203,
          1.357131021456403,
          1.3682745593041854,
          1.379418097151968,
          1.3905616349997507,
          1.4017051728475334,
          1.4128487106953158,
          1.4239922485430985,
          1.4351357863908811,
          1.446279324238664,
          1.4574228620864464,
          1.4685663999342289,
          1.4797099377820118,
          1.4908534756297946,
          1.501997013477577,
          1.5131405513253595,
          1.524284089173142,
          1.5354276270209248,
          1.5465711648687073,
          1.5577147027164902,
          1.5688582405642726,
          1.5800017784120555,
          1.5911453162598375,
          1.6022888541076203,
          1.6134323919554032,
          1.6245759298031857,
          1.6357194676509685,
          1.646863005498751,
          1.6580065433465339,
          1.6691500811943163,
          1.6802936190420987,
          1.6914371568898812,
          1.702580694737664,
          1.7137242325854465,
          1.7248677704332294,
          1.7360113082810122,
          1.7471548461287947,
          1.7582983839765771,
          1.7694419218243596,
          1.7805854596721424,
          1.7917289975199249,
          1.8028725353677078,
          1.8140160732154902,
          1.825159611063273,
          1.8363031489110555,
          1.847446686758838,
          1.8585902246066208,
          1.8697337624544033,
          1.8808773003021861,
          1.8920208381499686,
          1.9031643759977515,
          1.914307913845534,
          1.9254514516933163,
          1.9365949895410988,
          1.9477385273888816,
          1.9588820652366645,
          1.970025603084447,
          1.9811691409322298,
          1.9923126787800123,
          2.0034562166277947,
          2.014599754475577,
          2.02574329232336,
          2.0368868301711425,
          2.0480303680189254,
          2.0591739058667082,
          2.0703174437144907,
          2.081460981562273,
          2.0926045194100555,
          2.1037480572578384,
          2.114891595105621,
          2.1260351329534037,
          2.137178670801186,
          2.148322208648969,
          2.1594657464967515,
          2.170609284344534,
          2.181752822192317,
          2.1928963600400992,
          2.204039897887882,
          2.2151834357356646,
          2.2263269735834474,
          2.23747051143123,
          2.2486140492790123,
          2.2597575871267948,
          2.2709011249745776,
          2.28204466282236,
          2.293188200670143,
          2.304331738517926,
          2.3154752763657083,
          2.3266188142134907,
          2.337762352061273,
          2.348905889909056,
          2.3600494277568385,
          2.3711929656046213,
          2.3823365034524038,
          2.3934800413001867,
          2.4046235791479686,
          2.4157671169957515,
          2.4269106548435344,
          2.438054192691317,
          2.4491977305390997,
          2.460341268386882,
          2.471484806234665,
          2.4826283440824475,
          2.49377188193023,
          2.5049154197780124,
          2.5160589576257952,
          2.527202495473578,
          2.5383460333213606,
          2.5494895711691434,
          2.560633109016926,
          2.5717766468647083,
          2.5829201847124907,
          2.5940637225602736,
          2.605207260408056,
          2.616350798255839,
          2.6274943361036214,
          2.6386378739514043,
          2.6497814117991867,
          2.660924949646969,
          2.672068487494752,
          2.6832120253425344,
          2.6943555631903173,
          2.7054991010380998,
          2.7166426388858826,
          2.727786176733665,
          2.7389297145814475,
          2.7500732524292304,
          2.761216790277013,
          2.7723603281247957,
          2.783503865972578,
          2.794647403820361,
          2.8057909416681435,
          2.816934479515926,
          2.8280780173637083,
          2.839221555211491,
          2.8503650930592737,
          2.8615086309070565,
          2.8726521687548394,
          2.883795706602622,
          2.8949392444504043,
          2.9060827822981867,
          2.9172263201459696,
          2.928369857993752,
          2.939513395841535,
          2.9506569336893174,
          2.9618004715371002,
          2.972944009384883,
          2.984087547232665,
          2.995231085080448,
          3.0063746229282304,
          3.0175181607760133,
          3.0286616986237958,
          3.0398052364715786,
          3.050948774319361,
          3.0620923121671435,
          3.073235850014926,
          3.084379387862709,
          3.0955229257104917,
          3.106666463558274,
          3.117810001406057,
          3.1289535392538395,
          3.140097077101622,
          3.1512406149494043,
          3.162384152797187,
          3.1735276906449696,
          3.1846712284927525,
          3.195814766340535,
          3.206958304188318,
          3.2181018420361007,
          3.2292453798838827,
          3.2403889177316656,
          3.251532455579448,
          3.262675993427231,
          3.2738195312750134,
          3.2849630691227962,
          3.2961066069705787,
          3.307250144818361,
          3.3183936826661435,
          3.3295372205139264,
          3.3406807583617093,
          3.3518242962094917,
          3.3629678340572746,
          3.374111371905057,
          3.3852549097528395,
          3.396398447600622,
          3.407541985448405,
          3.4186855232961872,
          3.4298290611439697,
          3.4409725989917526,
          3.4521161368395354,
          3.4632596746873183,
          3.4744032125351003,
          3.485546750382883,
          3.496690288230666,
          3.507833826078448,
          3.518977363926231,
          3.530120901774014,
          3.5412644396217967,
          3.5524079774695796,
          3.5635515153173616,
          3.5746950531651445,
          3.5858385910129273,
          3.5969821288607093,
          3.6081256667084913,
          3.619269204556274,
          3.630412742404057,
          3.64155628025184,
          3.652699818099622,
          3.663843355947405,
          3.6749868937951877,
          3.6861304316429706,
          3.6972739694907535,
          3.7084175073385355,
          3.7195610451863184,
          3.7307045830341012,
          3.741848120881884,
          3.7529916587296652,
          3.764135196577448,
          3.775278734425231,
          3.786422272273014,
          3.7975658101207967,
          3.8087093479685787,
          3.8198528858163616,
          3.8309964236641445,
          3.8421399615119274,
          3.8532834993597094,
          3.8644270372074923,
          3.875570575055275,
          3.886714112903058,
          3.897857650750841,
          3.909001188598623,
          3.920144726446405,
          3.9312882642941878,
          3.9424318021419706,
          3.9535753399897526,
          3.9647188778375355,
          3.9758624156853184,
          3.9870059535331013,
          3.9981494913808833,
          4.009293029228666,
          4.020436567076449,
          4.031580104924232,
          4.042723642772015,
          4.053867180619797,
          4.06501071846758,
          4.076154256315362,
          4.0872977941631445,
          4.0984413320109265,
          4.109584869858709,
          4.120728407706492,
          4.131871945554275,
          4.143015483402058,
          4.15415902124984,
          4.165302559097623,
          4.176446096945406,
          4.187589634793189,
          4.198733172640971,
          4.209876710488754,
          4.221020248336536,
          4.232163786184319,
          4.243307324032101,
          4.254450861879883,
          4.265594399727666,
          4.276737937575449,
          4.287881475423232,
          4.299025013271014,
          4.310168551118797,
          4.32131208896658,
          4.332455626814363,
          4.343599164662145,
          4.3547427025099275,
          4.36588624035771,
          4.377029778205493,
          4.388173316053276,
          4.399316853901058,
          4.41046039174884,
          4.421603929596623,
          4.432747467444406,
          4.443891005292188,
          4.455034543139971,
          4.466178080987754,
          4.4773216188355365,
          4.488465156683319,
          4.499608694531101,
          4.510752232378884,
          4.521895770226667,
          4.53303930807445,
          4.544182845922232,
          4.555326383770015,
          4.566469921617797,
          4.57761345946558,
          4.588756997313363,
          4.599900535161145,
          4.6110440730089275,
          4.62218761085671,
          4.633331148704493,
          4.644474686552275,
          4.655618224400058,
          4.666761762247841,
          4.677905300095624,
          4.689048837943407,
          4.700192375791189,
          4.711335913638972,
          4.7224794514867545,
          4.7336229893345365,
          4.7447665271823185,
          4.755910065030101,
          4.767053602877884,
          4.778197140725667,
          4.789340678573449,
          4.800484216421232,
          4.811627754269015,
          4.822771292116798,
          4.833914829964581,
          4.845058367812363,
          4.8562019056601455,
          4.867345443507928,
          4.878488981355711,
          4.889632519203493,
          4.900776057051275,
          4.911919594899058,
          4.923063132746841,
          4.934206670594624,
          4.945350208442406,
          4.956493746290189,
          4.967637284137972,
          4.978780821985755,
          4.9899243598335365
         ],
         "xaxis": "x",
         "y": [
          0.01613695894029416,
          0.01647749158914106,
          0.0168252720177741,
          0.01718072468822915,
          0.017544288141745697,
          0.01791641395755982,
          0.018297565634352357,
          0.018688217399133025,
          0.019088852948842515,
          0.01949996413042871,
          0.0199220495655935,
          0.020355613226811755,
          0.020801162971590174,
          0.02125920904225689,
          0.021730262538852404,
          0.022214833872924392,
          0.02271343121021147,
          0.02322655891033481,
          0.02375471597169683,
          0.02429839448981532,
          0.024858078137297446,
          0.025434240673581743,
          0.02602734449244774,
          0.026637839215112737,
          0.02726616033650633,
          0.02791272793203515,
          0.02857794543182616,
          0.029262198469069488,
          0.029965853808673133,
          0.030689258361994466,
          0.03143273829293289,
          0.03219659822015441,
          0.03298112051967916,
          0.033786564731498714,
          0.034613167073306556,
          0.035461140063826294,
          0.03633067225761082,
          0.03722192809256913,
          0.03813504785085545,
          0.03907014773313653,
          0.04002732004563741,
          0.04100663349876003,
          0.04200813361547564,
          0.043031843247115155,
          0.04407776319362167,
          0.04514587292479561,
          0.046236131398551615,
          0.04734847797172309,
          0.04848283339849795,
          0.049639100911148815,
          0.05081716737733249,
          0.05201690452788204,
          0.053238170248697946,
          0.05448080993006589,
          0.05574465786648515,
          0.057029538699887354,
          0.05833526889895755,
          0.05966165826713802,
          0.061008511471801245,
          0.062375629587019844,
          0.06376281164233674,
          0.06516985616994847,
          0.06659656274275622,
          0.06804273349581304,
          0.06950817462379612,
          0.07099269784726606,
          0.07249612184062977,
          0.07401827361490815,
          0.0755589898486131,
          0.07711811816026821,
          0.07869551831635425,
          0.08029106336872763,
          0.08190464071584816,
          0.08353615308244955,
          0.08518551941260738,
          0.086852675671488,
          0.0885375755514092,
          0.09024019107819718,
          0.09196051311419791,
          0.09369855175467635,
          0.09545433661473,
          0.09722791700424288,
          0.09901936198881216,
          0.10082876033500132,
          0.10265622033869416,
          0.10450186953576159,
          0.10636585429468766,
          0.10824833929125209,
          0.11014950686581197,
          0.11206955626418628,
          0.11400870276360352,
          0.11596717668563485,
          0.1179452222984994,
          0.11994309661159355,
          0.12196106806555647,
          0.12399941512164504,
          0.12605842475464668,
          0.1281383908540077,
          0.13023961253829427,
          0.13236239238852981,
          0.1345070346063758,
          0.13667384310351122,
          0.13886311952896077,
          0.1410751612414713,
          0.14331025923438018,
          0.1455686960207249,
          0.14785074348662777,
          0.15015666072123415,
          0.1524866918317029,
          0.1548410637519169,
          0.15721998405372678,
          0.15962363876963226,
          0.1620521902358562,
          0.16450577496477772,
          0.16698450155564545,
          0.16948844865240686,
          0.17201766295734877,
          0.17457215730906225,
          0.17715190883300427,
          0.1797568571726471,
          0.18238690280887462,
          0.1850419054749041,
          0.1877216826735872,
          0.19042600830348264,
          0.1931546113995819,
          0.1959071749940271,
          0.19868333510158848,
          0.20148267983405554,
          0.20430474864707165,
          0.20714903172228713,
          0.2100149694870372,
          0.21290195227307546,
          0.21580932011520906,
          0.21873636268999402,
          0.2216823193939775,
          0.22464637956029837,
          0.2276276828118104,
          0.2306253195482629,
          0.23363833156446623,
          0.23666571279580298,
          0.23970641018690844,
          0.2427593246788513,
          0.24582331230969623,
          0.24889718542292816,
          0.25197971397787494,
          0.25506962695596114,
          0.25816561385639747,
          0.2612663262747202,
          0.2643703795574786,
          0.26747635452629914,
          0.2705827992645538,
          0.27368823095990275,
          0.2767911377960928,
          0.2798899808875513,
          0.2829831962505134,
          0.2860691968046883,
          0.28914637439974905,
          0.29221310186128135,
          0.29526773505117077,
          0.2983086149378262,
          0.30133406967202114,
          0.30434241666459466,
          0.3073319646626637,
          0.3103010158214643,
          0.31324786776936214,
          0.3161708156640079,
          0.319068154238033,
          0.3219381798330603,
          0.3247791924211883,
          0.32758949761342737,
          0.3303674086548726,
          0.3331112484066549,
          0.33581935131491986,
          0.3384900653672483,
          0.34112175403705675,
          0.34371279821655865,
          0.34626159813889396,
          0.34876657528997623,
          0.3512261743105145,
          0.35363886488850765,
          0.3560031436423169,
          0.3583175359941598,
          0.3605805980335841,
          0.36279091837013583,
          0.3649471199740683,
          0.3670478620035341,
          0.3690918416162698,
          0.3710777957633406,
          0.37300450296204823,
          0.37487078504463384,
          0.3766755088789531,
          0.3784175880568311,
          0.38009598454537186,
          0.38170971029607464,
          0.3832578288062196,
          0.38473945662664,
          0.3861537648096792,
          0.3874999802908835,
          0.388777387197774,
          0.38998532807889796,
          0.3911232050462836,
          0.3921904808244201,
          0.3931866796989419,
          0.39411138835834386,
          0.39496425662225987,
          0.39574499805014274,
          0.39645339042454564,
          0.3970892761036441,
          0.3976525622381749,
          0.3981432208485355,
          0.39856128875845387,
          0.398906867382364,
          0.3991801223643728,
          0.3993812830675524,
          0.3995106419131466,
          0.3995685535701805,
          0.3995554339968997,
          0.39947175933641027,
          0.3993180646698478,
          0.39909494263136325,
          0.3988030418901663,
          0.39844306550578734,
          0.398015769163636,
          0.3975219592987803,
          0.39696249111670645,
          0.3963382665205592,
          0.3956502319550743,
          0.3948993761780345,
          0.39408672797060573,
          0.3932133537983938,
          0.39228035543539824,
          0.39128886756331804,
          0.3902400553588192,
          0.3891351120814304,
          0.3879752566746862,
          0.38676173139296516,
          0.38549579946621104,
          0.3841787428143387,
          0.3828118598226416,
          0.3813964631889374,
          0.3799338778524921,
          0.37842543901398523,
          0.37687249025491115,
          0.37527638176386635,
          0.3736384686761411,
          0.3719601095319622,
          0.37024266485757595,
          0.3684874958722038,
          0.3666959633226508,
          0.3648694264461396,
          0.36300924206066754,
          0.36111676378094804,
          0.35919334135674597,
          0.3572403201292096,
          0.3552590405996155,
          0.3532508381038069,
          0.3512170425845334,
          0.3491589784528799,
          0.3470779645290505,
          0.34497531405191867,
          0.3428523347460064,
          0.3407103289339097,
          0.3385505936816484,
          0.336374420963993,
          0.33418309783652606,
          0.33197790660101273,
          0.32976012495060913,
          0.32753102608151596,
          0.3252918787578891,
          0.3230439473171591,
          0.32078849160337547,
          0.31852676681677383,
          0.31626002326847047,
          0.3139895060300173,
          0.31171645446846447,
          0.30944210165862,
          0.3071676736653091,
          0.3048943886896478,
          0.3026234560746216,
          0.3003560751666021,
          0.29809343403084065,
          0.29583670802040435,
          0.2935870581994972,
          0.29134562962359056,
          0.2891135494802783,
          0.28689192509625755,
          0.28468184181729866,
          0.2824843607695011,
          0.28030051651152077,
          0.2781313145887865,
          0.27597772900199086,
          0.2738406996033274,
          0.27172112943504934,
          0.2696198820259206,
          0.26753777866203926,
          0.26547559564927986,
          0.26343406158527466,
          0.2614138546593795,
          0.2594155999994718,
          0.25743986708469146,
          0.2554871672433571,
          0.2535579512552715,
          0.2516526070774645,
          0.24977145771212,
          0.24791475923498002,
          0.24608269900193616,
          0.24427539405079085,
          0.24249288971431826,
          0.24073515845976712,
          0.2390020989688556,
          0.23729353547107906,
          0.2356092173418449,
          0.23394881897552466,
          0.23231193994201674,
          0.23069810543383254,
          0.22910676700907945,
          0.2275373036340179,
          0.22598902302713098,
          0.224461163304882,
          0.22295289492754733,
          0.2214633229417285,
          0.21999148951436173,
          0.21853637675128937,
          0.2170969097917223,
          0.21567196016824783,
          0.21426034942040642,
          0.21286085294830281,
          0.211472204091241,
          0.21009309841497698,
          0.2087221981898948,
          0.20735813704122685,
          0.2059995247513662,
          0.20464495219337758,
          0.20329299637399312,
          0.20194222556369348,
          0.20059120449093595,
          0.19923849957718154,
          0.19788268418911734,
          0.1965223438843571,
          0.19515608162693218,
          0.19378252294906073,
          0.19240032103600366,
          0.19100816171126833,
          0.18960476830001718,
          0.1881889063492571,
          0.18675938818423496,
          0.18531507728142413,
          0.1838548924395614,
          0.18237781173137088,
          0.1808828762198688,
          0.17936919342450167,
          0.17783594052378462,
          0.17628236728258895,
          0.17470779869376576,
          0.1731116373253583,
          0.17149336536626378,
          0.16985254636481692,
          0.16818882665639495,
          0.1665019364777614,
          0.16479169076746522,
          0.16305798965318802,
          0.1613008186284711,
          0.15952024842273912,
          0.15771643456997778,
          0.155889616682785,
          0.1540401174398193,
          0.15216834129587947,
          0.15027477292498267,
          0.1483599754078523,
          0.14642458817615683,
          0.14446932472670115,
          0.14249497011949655,
          0.1405023782742776,
          0.13849246908056487,
          0.13646622533678876,
          0.13442468953430967,
          0.1323689605023862,
          0.13030018993024764,
          0.1282195787824408,
          0.12612837362354226,
          0.12402786286814595,
          0.12191937297178461,
          0.11980426457809482,
          0.11768392863712852,
          0.11555978250922823,
          0.1134332660683393,
          0.11130583781803988,
          0.10917897103291546,
          0.1070541499372313,
          0.1049328659321295,
          0.10281661388184352,
          0.10070688846865117,
          0.0986051806255268,
          0.09651297405466878,
          0.09443174183930379,
          0.09236294315540738,
          0.09030802008922019,
          0.0882683945657071,
          0.08624546539239682,
          0.0842406054223546,
          0.08225515883938775,
          0.08029043856796957,
          0.07834772380978768,
          0.07642825770828449,
          0.07453324514205886,
          0.0726638506475461,
          0.07082119647097965,
          0.06900636074927302,
          0.06722037581913619,
          0.06546422665345382,
          0.06373884942371946,
          0.06204513018711109,
          0.06038390369663322,
          0.05875595233262002,
          0.05716200515379746,
          0.055602737066035066,
          0.054078768106878915,
          0.05259066284393971,
          0.05113892988521307,
          0.04972402149943112,
          0.048346333344577844,
          0.04700620430274735,
          0.0457039164195738,
          0.04443969494651936,
          0.043213708484366106,
          0.04202606922630896,
          0.04087683329910295,
          0.03976600120075781,
          0.03869351833331331,
          0.037659275629248104,
          0.036663110270091066,
          0.0357048064957978,
          0.03478409650343936,
          0.03390066143371407,
          0.03305413244374481,
          0.032244091864552626,
          0.031470074441513826,
          0.030731568656003815,
          0.030028018126312485,
          0.029358823085779508,
          0.028723341935947708,
          0.028120892872367735,
          0.02755075558051136,
          0.02701217299906136,
          0.026504353147647843,
          0.026026471015897057,
          0.025577670510445485,
          0.025157066456357555,
          0.0247637466491686,
          0.02439677395355646,
          0.024055188444431243,
          0.02373800958602221,
          0.02344423844433661,
          0.023172859928169875,
          0.022922845053661708,
          0.02269315322721928,
          0.02248273454147128,
          0.022290532078773233,
          0.022115484216659254,
          0.021956526929530117,
          0.02181259608078106,
          0.021682629699509074,
          0.021565570235897127,
          0.021460366789355586,
          0.021365977303506485,
          0.021281370722127053,
          0.02120552910022568,
          0.021137449664504072,
          0.0210761468175667,
          0.02102065408037031,
          0.02097002596756413,
          0.020923339790552477,
          0.020879697383317804,
          0.02083822674627116,
          0.02079808360364826,
          0.02075845287024282,
          0.02071855002356096,
          0.020677622377793248,
          0.02063495025632986,
          0.020589848059890163,
          0.020541665227697712,
          0.02048978708950463,
          0.020433635606652564,
          0.02037267000075109,
          0.020306387268953726,
          0.02023432258521817,
          0.020156049587345747,
          0.020071180550006326,
          0.019979366444364693,
          0.019880296885331696,
          0.01977369996786764,
          0.019659341994161358,
          0.019537027093897402,
          0.019406596740202325,
          0.019267929164227097,
          0.019120938671675962,
          0.018965574864929138,
          0.018801821774727133,
          0.01862969690568654,
          0.018449250200198962
         ],
         "yaxis": "y"
        },
        {
         "legendgroup": "Group 2",
         "marker": {
          "color": "rgb(255, 127, 14)"
         },
         "mode": "lines",
         "name": "Group 2",
         "showlegend": false,
         "type": "scatter",
         "x": [
          -2.059888299353587,
          -2.050633626883585,
          -2.041378954413583,
          -2.032124281943581,
          -2.022869609473579,
          -2.013614937003577,
          -2.0043602645335747,
          -1.995105592063573,
          -1.9858509195935707,
          -1.9765962471235687,
          -1.9673415746535667,
          -1.9580869021835647,
          -1.9488322297135625,
          -1.9395775572435605,
          -1.9303228847735585,
          -1.9210682123035565,
          -1.9118135398335543,
          -1.9025588673635523,
          -1.8933041948935503,
          -1.8840495224235483,
          -1.8747948499535463,
          -1.865540177483544,
          -1.856285505013542,
          -1.84703083254354,
          -1.837776160073538,
          -1.828521487603536,
          -1.8192668151335338,
          -1.8100121426635318,
          -1.8007574701935298,
          -1.7915027977235278,
          -1.7822481252535258,
          -1.7729934527835236,
          -1.7637387803135216,
          -1.7544841078435196,
          -1.7452294353735176,
          -1.7359747629035156,
          -1.7267200904335134,
          -1.7174654179635114,
          -1.7082107454935094,
          -1.6989560730235072,
          -1.6897014005535052,
          -1.6804467280835031,
          -1.6711920556135011,
          -1.6619373831434991,
          -1.652682710673497,
          -1.643428038203495,
          -1.634173365733493,
          -1.624918693263491,
          -1.615664020793489,
          -1.6064093483234867,
          -1.5971546758534847,
          -1.5879000033834827,
          -1.5786453309134807,
          -1.5693906584434787,
          -1.5601359859734765,
          -1.5508813135034745,
          -1.5416266410334725,
          -1.5323719685634702,
          -1.5231172960934685,
          -1.5138626236234662,
          -1.5046079511534642,
          -1.4953532786834622,
          -1.48609860621346,
          -1.4768439337434582,
          -1.467589261273456,
          -1.4583345888034538,
          -1.449079916333452,
          -1.43982524386345,
          -1.430570571393448,
          -1.4213158989234458,
          -1.4120612264534438,
          -1.4028065539834418,
          -1.3935518815134396,
          -1.3842972090434376,
          -1.3750425365734356,
          -1.3657878641034336,
          -1.3565331916334316,
          -1.3472785191634293,
          -1.3380238466934273,
          -1.3287691742234253,
          -1.319514501753423,
          -1.310259829283421,
          -1.301005156813419,
          -1.2917504843434173,
          -1.282495811873415,
          -1.2732411394034129,
          -1.263986466933411,
          -1.2547317944634089,
          -1.2454771219934069,
          -1.2362224495234049,
          -1.2269677770534027,
          -1.2177131045834009,
          -1.2084584321133987,
          -1.1992037596433964,
          -1.1899490871733946,
          -1.1806944147033924,
          -1.1714397422333906,
          -1.1621850697633884,
          -1.1529303972933864,
          -1.1436757248233844,
          -1.1344210523533822,
          -1.1251663798833802,
          -1.1159117074133782,
          -1.1066570349433762,
          -1.0974023624733742,
          -1.088147690003372,
          -1.07889301753337,
          -1.069638345063368,
          -1.0603836725933657,
          -1.0511290001233637,
          -1.0418743276533617,
          -1.0326196551833597,
          -1.0233649827133577,
          -1.0141103102433555,
          -1.0048556377733535,
          -0.9956009653033515,
          -0.9863462928333495,
          -0.9770916203633473,
          -0.9678369478933455,
          -0.9585822754233435,
          -0.9493276029533413,
          -0.9400729304833393,
          -0.9308182580133371,
          -0.9215635855433353,
          -0.9123089130733331,
          -0.9030542406033311,
          -0.8937995681333291,
          -0.8845448956633271,
          -0.8752902231933248,
          -0.8660355507233228,
          -0.8567808782533206,
          -0.8475262057833188,
          -0.8382715333133166,
          -0.8290168608433146,
          -0.8197621883733128,
          -0.8105075159033106,
          -0.8012528434333086,
          -0.7919981709633064,
          -0.7827434984933044,
          -0.7734888260233024,
          -0.7642341535533004,
          -0.7549794810832982,
          -0.7457248086132964,
          -0.7364701361432942,
          -0.7272154636732922,
          -0.7179607912032899,
          -0.7087061187332879,
          -0.6994514462632861,
          -0.6901967737932839,
          -0.6809421013232819,
          -0.6716874288532799,
          -0.6624327563832779,
          -0.6531780839132757,
          -0.6439234114432737,
          -0.6346687389732715,
          -0.6254140665032697,
          -0.6161593940332675,
          -0.6069047215632655,
          -0.5976500490932635,
          -0.5883953766232615,
          -0.5791407041532592,
          -0.5698860316832572,
          -0.560631359213255,
          -0.5513766867432532,
          -0.5421220142732512,
          -0.532867341803249,
          -0.5236126693332472,
          -0.514357996863245,
          -0.505103324393243,
          -0.4958486519232408,
          -0.4865939794532388,
          -0.4773393069832368,
          -0.4680846345132348,
          -0.45882996204323256,
          -0.4495752895732308,
          -0.44032061710322856,
          -0.43106594463322656,
          -0.42181127216322456,
          -0.41255659969322234,
          -0.40330192722322056,
          -0.39404725475321833,
          -0.38479258228321633,
          -0.37553790981321433,
          -0.36628323734321233,
          -0.3570285648732101,
          -0.3477738924032081,
          -0.3385192199332059,
          -0.3292645474632041,
          -0.3200098749932019,
          -0.3107552025231999,
          -0.3015005300531979,
          -0.2922458575831959,
          -0.2829911851131939,
          -0.27373651264319165,
          -0.26448184017318965,
          -0.25522716770318765,
          -0.24597249523318565,
          -0.23671782276318343,
          -0.22746315029318165,
          -0.21820847782317943,
          -0.20895380535317742,
          -0.1996991328831752,
          -0.1904444604131732,
          -0.1811897879431712,
          -0.1719351154731692,
          -0.16268044300316697,
          -0.1534257705331652,
          -0.1441710980631632,
          -0.13491642559316097,
          -0.12566175312315897,
          -0.11640708065315675,
          -0.10715240818315497,
          -0.09789773571315274,
          -0.08864306324315074,
          -0.07938839077314874,
          -0.07013371830314674,
          -0.06087904583314452,
          -0.05162437336314252,
          -0.042369700893140294,
          -0.033115028423138515,
          -0.023860355953136292,
          -0.014605683483134513,
          -0.00535101101313229,
          0.0039036614568699335,
          0.013158333926871713,
          0.02241300639687349,
          0.03166767886687616,
          0.04092235133687794,
          0.05017702380688016,
          0.05943169627688194,
          0.06868636874688416,
          0.07794104121688639,
          0.08719571368688817,
          0.09645038615688994,
          0.10570505862689261,
          0.11495973109689439,
          0.12421440356689617,
          0.1334690760368984,
          0.14272374850690017,
          0.15197842097690284,
          0.16123309344690462,
          0.1704877659169064,
          0.17974243838690862,
          0.18899711085691084,
          0.19825178332691307,
          0.20750645579691485,
          0.21676112826691663,
          0.2260158007369193,
          0.23527047320692107,
          0.24452514567692285,
          0.2537798181469251,
          0.26303449061692685,
          0.2722891630869291,
          0.2815438355569313,
          0.2907985080269331,
          0.3000531804969353,
          0.3093078529669375,
          0.3185625254369393,
          0.3278171979069415,
          0.3370718703769433,
          0.346326542846946,
          0.35558121531694775,
          0.36483588778694953,
          0.37409056025695175,
          0.383345232726954,
          0.39259990519695576,
          0.401854577666958,
          0.41110925013695976,
          0.42036392260696154,
          0.4296185950769642,
          0.438873267546966,
          0.4481279400169682,
          0.45738261248697,
          0.4666372849569722,
          0.47589195742697443,
          0.4851466298969762,
          0.49440130236697843,
          0.5036559748369807,
          0.5129106473069824,
          0.5221653197769847,
          0.5314199922469864,
          0.5406746647169882,
          0.5499293371869909,
          0.5591840096569927,
          0.5684386821269944,
          0.5776933545969967,
          0.5869480270669989,
          0.5962026995370011,
          0.6054573720070029,
          0.6147120444770047,
          0.6239667169470073,
          0.6332213894170091,
          0.6424760618870113,
          0.6517307343570131,
          0.6609854068270149,
          0.6702400792970176,
          0.6794947517670193,
          0.6887494242370211,
          0.6980040967070233,
          0.7072587691770256,
          0.7165134416470273,
          0.7257681141170296,
          0.7350227865870314,
          0.744277459057034,
          0.7535321315270358,
          0.7627868039970376,
          0.7720414764670398,
          0.781296148937042,
          0.7905508214070442,
          0.799805493877046,
          0.8090601663470478,
          0.81831483881705,
          0.8275695112870523,
          0.836824183757054,
          0.8460788562270563,
          0.855333528697058,
          0.8645882011670603,
          0.8738428736370625,
          0.8830975461070643,
          0.8923522185770665,
          0.9016068910470687,
          0.9108615635170705,
          0.9201162359870727,
          0.9293709084570745,
          0.9386255809270772,
          0.9478802533970789,
          0.9571349258670807,
          0.9663895983370829,
          0.9756442708070847,
          0.9848989432770869,
          0.9941536157470892,
          1.003408288217091,
          1.0126629606870927,
          1.0219176331570954,
          1.0311723056270972,
          1.0404269780970994,
          1.0496816505671012,
          1.0589363230371034,
          1.0681909955071056,
          1.0774456679771074,
          1.0867003404471096,
          1.0959550129171114,
          1.1052096853871136,
          1.1144643578571158,
          1.1237190303271176,
          1.1329737027971194,
          1.142228375267122,
          1.1514830477371238,
          1.1607377202071256,
          1.1699923926771278,
          1.17924706514713,
          1.1885017376171323,
          1.197756410087134,
          1.2070110825571359,
          1.216265755027138,
          1.2255204274971403,
          1.2347750999671425,
          1.2440297724371443,
          1.253284444907146,
          1.2625391173771487,
          1.2717937898471505,
          1.2810484623171523,
          1.2903031347871545,
          1.2995578072571567,
          1.3088124797271585,
          1.3180671521971608,
          1.3273218246671625,
          1.3365764971371652,
          1.345831169607167,
          1.3550858420771688,
          1.364340514547171,
          1.3735951870171728,
          1.3828498594871754,
          1.3921045319571772,
          1.401359204427179,
          1.4106138768971812,
          1.4198685493671834,
          1.4291232218371852,
          1.4383778943071874,
          1.4476325667771892,
          1.4568872392471914,
          1.4661419117171937,
          1.4753965841871954,
          1.4846512566571977,
          1.4939059291271994,
          1.5031606015972017,
          1.5124152740672039,
          1.5216699465372057,
          1.5309246190072079,
          1.54017929147721,
          1.549433963947212,
          1.5586886364172141,
          1.567943308887216,
          1.5771979813572181,
          1.5864526538272203,
          1.5957073262972221,
          1.604961998767224,
          1.6142166712372266,
          1.6234713437072283,
          1.6327260161772306,
          1.6419806886472323,
          1.6512353611172341,
          1.6604900335872368,
          1.6697447060572386,
          1.6789993785272408,
          1.6882540509972426,
          1.6975087234672448,
          1.706763395937247,
          1.7160180684072488,
          1.7252727408772506,
          1.7345274133472532,
          1.743782085817255,
          1.7530367582872568,
          1.762291430757259,
          1.7715461032272608,
          1.7808007756972635,
          1.7900554481672653,
          1.799310120637267,
          1.8085647931072693,
          1.8178194655772715,
          1.8270741380472737,
          1.8363288105172755,
          1.8455834829872773,
          1.85483815545728,
          1.8640928279272817,
          1.8733475003972835,
          1.8826021728672857,
          1.8918568453372875,
          1.9011115178072897,
          1.910366190277292,
          1.9196208627472937,
          1.928875535217296,
          1.9381302076872982,
          1.9473848801572995,
          1.9566395526273022,
          1.965894225097304,
          1.9751488975673066,
          1.9844035700373084,
          1.9936582425073102,
          2.002912914977313,
          2.0121675874473146,
          2.0214222599173164,
          2.030676932387318,
          2.039931604857321,
          2.0491862773273226,
          2.0584409497973244,
          2.067695622267327,
          2.076950294737329,
          2.0862049672073306,
          2.0954596396773333,
          2.104714312147334,
          2.113968984617337,
          2.1232236570873395,
          2.1324783295573404,
          2.141733002027343,
          2.1509876744973457,
          2.1602423469673475,
          2.1694970194373493,
          2.178751691907351,
          2.1880063643773537,
          2.1972610368473555,
          2.2065157093173573,
          2.21577038178736,
          2.225025054257361,
          2.2342797267273635,
          2.243534399197366,
          2.252789071667367,
          2.2620437441373697,
          2.2712984166073724,
          2.2805530890773733,
          2.289807761547376,
          2.2990624340173778,
          2.3083171064873795,
          2.317571778957382,
          2.326826451427384,
          2.3360811238973866,
          2.3453357963673875,
          2.35459046883739,
          2.363845141307393,
          2.3730998137773938,
          2.3823544862473964,
          2.391609158717399,
          2.4008638311874,
          2.4101185036574027,
          2.4193731761274044,
          2.428627848597406,
          2.437882521067409,
          2.4471371935374107,
          2.4563918660074133,
          2.465646538477414,
          2.474901210947417,
          2.4841558834174196,
          2.4934105558874204,
          2.502665228357423,
          2.5119199008274258,
          2.5211745732974267,
          2.5304292457674293,
          2.539683918237431,
          2.548938590707433,
          2.5581932631774356
         ],
         "xaxis": "x",
         "y": [
          0.07375411975327285,
          0.07516477776765858,
          0.07658221810480767,
          0.07800614000671138,
          0.07943624951423724,
          0.08087225982034908,
          0.08231389158676662,
          0.0837608732233196,
          0.08521294112942392,
          0.086669839897286,
          0.08813132247662209,
          0.08959715030085745,
          0.09106709337495474,
          0.09254093032519621,
          0.0940184484114291,
          0.09549944350245358,
          0.09698372001541176,
          0.09847109082020493,
          0.09996137711012842,
          0.10145440824008138,
          0.10295002153385738,
          0.10444806206217495,
          0.10594838239324726,
          0.107450842317828,
          0.1089553085507927,
          0.11046165441143957,
          0.11196975948479868,
          0.11347950926634075,
          0.11499079479257025,
          0.11650351226006293,
          0.11801756263558316,
          0.11953285125997394,
          0.1210492874485613,
          0.12256678409085114,
          0.12408525725232501,
          0.12560462578115103,
          0.12712481092263128,
          0.12864573594419434,
          0.13016732577372087,
          0.13168950665395282,
          0.13321220581568877,
          0.1347353511724099,
          0.13625887103890452,
          0.13778269387637457,
          0.1393067480664083,
          0.1408309617160909,
          0.14235526249640323,
          0.14387957751591715,
          0.14540383323165101,
          0.14692795539878686,
          0.14845186906077532,
          0.14997549858117148,
          0.15149876771834822,
          0.15302159974402604,
          0.1545439176063422,
          0.1560656441379528,
          0.1575867023094269,
          0.15910701552794695,
          0.160626507981072,
          0.16214510502506924,
          0.1636627336170433,
          0.16517932278982972,
          0.16669480416833618,
          0.1682091125257444,
          0.1697221863776963,
          0.17123396861231563,
          0.17274440715362852,
          0.1742534556556717,
          0.17576107422430254,
          0.1772672301634533,
          0.17877189874230778,
          0.1802750639796274,
          0.18177671944120338,
          0.18327686904617924,
          0.18477552787776813,
          0.18627272299368045,
          0.18776849423138842,
          0.18926289500318308,
          0.19075599307582408,
          0.19224787132945362,
          0.1937386284903386,
          0.19522837983191593,
          0.19671725783856367,
          0.19820541282648402,
          0.1996930135160853,
          0.2011802475502698,
          0.2026673219530976,
          0.20415446352337738,
          0.20564191915785704,
          0.20712995609883875,
          0.20861886210121922,
          0.21010894551418444,
          0.21160053527302225,
          0.21309398079680908,
          0.21458965178803058,
          0.21608793793054543,
          0.21758924848267366,
          0.2190940117625921,
          0.22060267452365542,
          0.22211570121771412,
          0.22363357314498536,
          0.2251567874895377,
          0.22668585623997556,
          0.2282213049954543,
          0.22976367165771402,
          0.23131350501039843,
          0.2328713631875013,
          0.23443781203338077,
          0.23601342335737233,
          0.23759877308662813,
          0.23919443932140844,
          0.2408010002976311,
          0.24241903226207662,
          0.2440491072662011,
          0.2456917908850727,
          0.24734763986847028,
          0.24901719973170047,
          0.250701002294169,
          0.25239956317420087,
          0.25411337924902344,
          0.25584292608921805,
          0.25758865537729464,
          0.2593509923203528,
          0.26113033306705846,
          0.26292704213939155,
          0.2647414498897837,
          0.26657384999440153,
          0.26842449699339543,
          0.2702936038889603,
          0.2721813398120257,
          0.2740878277683014,
          0.27601314247427433,
          0.2779573082935584,
          0.27992029728374845,
          0.2819020273636387,
          0.2839023606103115,
          0.2859211016951993,
          0.28795799646777853,
          0.2900127306950482,
          0.2920849289644108,
          0.2941741537569803,
          0.296279904697723,
          0.29840161798816706,
          0.30053866602672497,
          0.30269035722094245,
          0.30485593599523625,
          0.3070345829968991,
          0.3092254155023633,
          0.31142748802489184,
          0.3136397931240504,
          0.31586126241648377,
          0.3180907677866813,
          0.32032712279559566,
          0.32256908428414716,
          0.3248153541678386,
          0.32706458141790207,
          0.32931536422362173,
          0.3315662523297236,
          0.33381574954198295,
          0.3360623163935155,
          0.33830437296353594,
          0.3405403018397589,
          0.3427684512150104,
          0.34498713810809206,
          0.34719465169843083,
          0.34938925676360205,
          0.3515691972084167,
          0.35373269967391474,
          0.35587797721431647,
          0.35800323302974163,
          0.36010666424233295,
          0.36218646570328156,
          0.36424083381819683,
          0.3662679703782404,
          0.3682660863844852,
          0.37023340585306924,
          0.3721681695888488,
          0.37406863891547243,
          0.37593309935004293,
          0.37775986421084373,
          0.3795472781469476,
          0.38129372057893085,
          0.3829976090403385,
          0.3846574024100292,
          0.38627160402603944,
          0.3878387646721374,
          0.3893574854288248,
          0.3908264203811315,
          0.39224427917617183,
          0.39360982942407147,
          0.39492189893652574,
          0.3961793777979249,
          0.39738122026464395,
          0.3985264464887872,
          0.39961414406335166,
          0.4006434693864569,
          0.4016136488429576,
          0.40252397980242777,
          0.40337383143315836,
          0.4041626453324385,
          0.40488993597403694,
          0.40555529097437937,
          0.4061583711795149,
          0.40669891057551544,
          0.4071767160254871,
          0.407591666836875,
          0.4079437141632185,
          0.4082328802449577,
          0.40845925749430956,
          0.4086230074296077,
          0.40872435946485447,
          0.408763609560542,
          0.4087411187420913,
          0.4086573114924976,
          0.408512674025991,
          0.40830775244970774,
          0.40804315082051185,
          0.4077195291042324,
          0.4073376010446713,
          0.406898131949796,
          0.40640193640256506,
          0.40584987590383814,
          0.4052428564548084,
          0.404581826086345,
          0.4038677723425723,
          0.403101719725923,
          0.4022847271107984,
          0.4014178851328432,
          0.40050231356070504,
          0.3995391586569891,
          0.39852959053496106,
          0.39747480051735795,
          0.3963759985034954,
          0.3952344103506464,
          0.3940512752754726,
          0.39282784328107967,
          0.3915653726150422,
          0.390265127263542,
          0.3889283744865319,
          0.38755638239861506,
          0.3861504176001158,
          0.38471174286258836,
          0.3832416148727859,
          0.38174128203890473,
          0.38021198236268267,
          0.37865494138072886,
          0.37707137017823644,
          0.3754624634780327,
          0.37382939780769464,
          0.37217332974726675,
          0.3704953942599084,
          0.3687967031075987,
          0.3670783433538272,
          0.36534137595501,
          0.36358683444216733,
          0.3618157236942157,
          0.36002901880403887,
          0.35822766403830364,
          0.35641257189181424,
          0.35458462223700177,
          0.3527446615689674,
          0.3508935023463082,
          0.34903192242777836,
          0.34716066460464456,
          0.34528043622842164,
          0.3433919089334834,
          0.341495718453862,
          0.3395924645333723,
          0.33768271092800084,
          0.33576698549933554,
          0.3338457803976098,
          0.3319195523327692,
          0.3299887229317815,
          0.3280536791802301,
          0.32611477394606175,
          0.32417232658317574,
          0.32222662361237414,
          0.3202779194770274,
          0.3183264373706371,
          0.3163723701333242,
          0.3144158812141126,
          0.3124571056957302,
          0.3104961513785057,
          0.3085330999198059,
          0.3065680080253257,
          0.30460090868843076,
          0.30263181247363774,
          0.3006607088402139,
          0.29868756750179837,
          0.29671233981785683,
          0.29473496021271983,
          0.29275534761790006,
          0.29077340693333803,
          0.2887890305031987,
          0.28680209960182157,
          0.28481248592542685,
          0.28282005308519054,
          0.28082465809732127,
          0.2788261528658197,
          0.2768243856536429,
          0.27481920253807285,
          0.27281044884616107,
          0.2707979705662205,
          0.2687816157314429,
          0.26676123577183697,
          0.2647366868308217,
          0.2627078310429495,
          0.26067453776939525,
          0.2586366847880125,
          0.2565941594349388,
          0.25454685969491697,
          0.2524946952377036,
          0.25043758839813085,
          0.24837547509760755,
          0.2463083057050625,
          0.24423604583555517,
          0.24215867708500788,
          0.24007619769974683,
          0.23798862317977282,
          0.2358959868149162,
          0.23379834015327033,
          0.2316957534015317,
          0.22958831575710953,
          0.2274761356720978,
          0.22535934104943556,
          0.22323807937180193,
          0.22111251776400906,
          0.21898284298987808,
          0.21684926138478033,
          0.21471199872522598,
          0.21257130003708075,
          0.21042742934415937,
          0.20828066935912762,
          0.20613132111879856,
          0.20397970356606576,
          0.20182615308084353,
          0.199671022962531,
          0.19751468286661175,
          0.19535751819812047,
          0.19319992946478787,
          0.19104233159276002,
          0.1888851532078533,
          0.18672883588535183,
          0.1845738333714051,
          0.1824206107791009,
          0.1802696437623085,
          0.1781214176703874,
          0.17597642668684843,
          0.1738351729550266,
          0.17169816569379934,
          0.16956592030633463,
          0.16743895748479226,
          0.16531780231384968,
          0.1632029833758307,
          0.16109503186014368,
          0.15899448067963481,
          0.15690186359635916,
          0.15481771435916644,
          0.15274256585537752,
          0.15067694927870562,
          0.1486213933154488,
          0.14657642335084017,
          0.14454256069731278,
          0.14252032184628718,
          0.14051021774494532,
          0.13851275309930958,
          0.13652842570479762,
          0.13455772580526731,
          0.13260113548142563,
          0.13065912806931643,
          0.1287321676094616,
          0.1268207083270789,
          0.12492519414365447,
          0.12304605822001347,
          0.121183722530885,
          0.11933859747083322,
          0.11751108149129251,
          0.11570156076832057,
          0.1139104089005699,
          0.11213798663686109,
          0.11038464163263981,
          0.10865070823449945,
          0.10693650729186058,
          0.10524234599481444,
          0.10356851773706403,
          0.1019153020028252,
          0.10028296427649594,
          0.09867175597384527,
          0.0970819143934357,
          0.09551366268695899,
          0.0939672098471364,
          0.09244275071182198,
          0.0909404659829399,
          0.08946052225888365,
          0.08800307207901993,
          0.08656825397895195,
          0.08515619255522604,
          0.08376699853819823,
          0.08240076887181634,
          0.08105758679912232,
          0.07973752195233595,
          0.07844063044643793,
          0.07716695497524365,
          0.07591652490902501,
          0.07468935639282095,
          0.07348545244465834,
          0.07230480305298861,
          0.07114738527274171,
          0.07001316331948589,
          0.0689020886612809,
          0.06781410010790993,
          0.0667491238972735,
          0.06570707377882462,
          0.06468785109403245,
          0.06369134485395049,
          0.06271743181406987,
          0.06176597654673262,
          0.06083683151147039,
          0.05992983712372993,
          0.05904482182252944,
          0.0581816021376742,
          0.05733998275723987,
          0.05651975659610319,
          0.05572070486636878,
          0.05494259715060334,
          0.05418519147884124,
          0.05344823441037779,
          0.0527314611214053,
          0.05203459549958191,
          0.05135735024664965,
          0.050699426990235955,
          0.05006051640598308,
          0.04944029835115272,
          0.048838442010844044,
          0.048254606057950365,
          0.04768843882795626,
          0.047139578509641906,
          0.046607653352725376,
          0.04609228189342032,
          0.04559307319883351,
          0.045109627131060155,
          0.04464153463176219,
          0.04418837802793755,
          0.04374973135949933,
          0.04332516072919389,
          0.042914224675284,
          0.04251647456732333,
          0.042131455025235194,
          0.04175870436179572,
          0.041397755048503994,
          0.04104813420469901,
          0.04070936410965993,
          0.04038096273729995,
          0.04006244431293487,
          0.03975331989148101,
          0.03945309795630783,
          0.03916128503784158,
          0.038877386350892135,
          0.03860090644954889,
          0.0383313498983717,
          0.038068221958483,
          0.03781102928705579,
          0.03755928064858037,
          0.03731248763619301,
          0.03707016540124856,
          0.03683183338923198,
          0.0365970160800187,
          0.036365243730419355,
          0.036136053116878404,
          0.035908988276136714,
          0.03568360124162137,
          0.03545945277328725,
          0.035236113078604664,
          0.035013162522371036,
          0.034790192323015806,
          0.03456680523307072,
          0.03434261620149254,
          0.034117253015548625,
          0.03389035692001343,
          0.03366158321146869,
          0.03343060180555865,
          0.03319709777512112,
          0.03296077185718971,
          0.03272134092695527,
          0.032478538436871214,
          0.03223211481919335,
          0.03198183785036486,
          0.03172749297577878,
          0.03146888359358438,
          0.031205831296344345,
          0.030938176069494314,
          0.030665776445711057,
          0.03038850961445076,
          0.030106271486082282,
          0.02981897671020618,
          0.02952655864791692,
          0.02922896929793754,
          0.028926179176728174,
          0.028618177152839475,
          0.02830497023595582
         ],
         "yaxis": "y"
        },
        {
         "legendgroup": "Group 3",
         "marker": {
          "color": "rgb(44, 160, 44)"
         },
         "mode": "lines",
         "name": "Group 3",
         "showlegend": false,
         "type": "scatter",
         "x": [
          1.950544567075288,
          1.9624698564811878,
          1.9743951458870876,
          1.9863204352929875,
          1.9982457246988874,
          2.0101710141047873,
          2.022096303510687,
          2.034021592916587,
          2.045946882322487,
          2.0578721717283868,
          2.0697974611342866,
          2.0817227505401865,
          2.0936480399460864,
          2.1055733293519863,
          2.117498618757886,
          2.1294239081637856,
          2.1413491975696854,
          2.1532744869755853,
          2.165199776381485,
          2.177125065787385,
          2.189050355193285,
          2.200975644599185,
          2.2129009340050847,
          2.2248262234109846,
          2.2367515128168844,
          2.2486768022227843,
          2.260602091628684,
          2.272527381034584,
          2.284452670440484,
          2.296377959846384,
          2.3083032492522837,
          2.3202285386581836,
          2.3321538280640834,
          2.3440791174699833,
          2.356004406875883,
          2.367929696281783,
          2.379854985687683,
          2.391780275093583,
          2.4037055644994827,
          2.415630853905382,
          2.4275561433112824,
          2.439481432717182,
          2.4514067221230817,
          2.4633320115289816,
          2.4752573009348815,
          2.4871825903407814,
          2.4991078797466812,
          2.511033169152581,
          2.522958458558481,
          2.534883747964381,
          2.5468090373702807,
          2.5587343267761806,
          2.5706596161820805,
          2.5825849055879804,
          2.5945101949938802,
          2.60643548439978,
          2.61836077380568,
          2.63028606321158,
          2.6422113526174797,
          2.6541366420233796,
          2.6660619314292795,
          2.6779872208351794,
          2.6899125102410792,
          2.701837799646979,
          2.713763089052879,
          2.725688378458779,
          2.7376136678646787,
          2.7495389572705786,
          2.7614642466764785,
          2.7733895360823784,
          2.7853148254882782,
          2.797240114894178,
          2.809165404300078,
          2.821090693705978,
          2.8330159831118773,
          2.844941272517777,
          2.856866561923677,
          2.868791851329577,
          2.880717140735477,
          2.8926424301413767,
          2.9045677195472765,
          2.9164930089531764,
          2.9284182983590763,
          2.940343587764976,
          2.952268877170876,
          2.964194166576776,
          2.976119455982676,
          2.9880447453885757,
          2.999970034794475,
          3.0118953242003754,
          3.023820613606275,
          3.0357459030121747,
          3.047671192418075,
          3.0595964818239745,
          3.071521771229875,
          3.0834470606357742,
          3.095372350041674,
          3.107297639447574,
          3.119222928853474,
          3.1311482182593737,
          3.1430735076652736,
          3.1549987970711735,
          3.1669240864770734,
          3.1788493758829732,
          3.190774665288873,
          3.202699954694773,
          3.214625244100673,
          3.2265505335065727,
          3.2384758229124726,
          3.2504011123183725,
          3.2623264017242724,
          3.2742516911301722,
          3.286176980536072,
          3.298102269941972,
          3.310027559347872,
          3.3219528487537717,
          3.3338781381596716,
          3.3458034275655715,
          3.3577287169714713,
          3.3696540063773712,
          3.381579295783271,
          3.393504585189171,
          3.405429874595071,
          3.4173551640009707,
          3.4292804534068706,
          3.4412057428127705,
          3.4531310322186703,
          3.4650563216245702,
          3.47698161103047,
          3.4889069004363695,
          3.50083218984227,
          3.5127574792481693,
          3.524682768654069,
          3.5366080580599695,
          3.548533347465869,
          3.5604586368717692,
          3.5723839262776687,
          3.5843092156835685,
          3.5962345050894684,
          3.6081597944953683,
          3.620085083901268,
          3.632010373307168,
          3.643935662713068,
          3.6558609521189678,
          3.6677862415248677,
          3.679711530930767,
          3.6916368203366674,
          3.703562109742567,
          3.7154873991484667,
          3.727412688554367,
          3.7393379779602665,
          3.7512632673661663,
          3.763188556772066,
          3.775113846177966,
          3.787039135583866,
          3.798964424989766,
          3.8108897143956657,
          3.8228150038015656,
          3.8347402932074655,
          3.8466655826133653,
          3.858590872019265,
          3.870516161425165,
          3.882441450831065,
          3.894366740236965,
          3.9062920296428647,
          3.9182173190487646,
          3.9301426084546645,
          3.9420678978605643,
          3.953993187266464,
          3.965918476672364,
          3.977843766078264,
          3.989769055484164,
          4.001694344890064,
          4.013619634295964,
          4.0255449237018635,
          4.037470213107763,
          4.049395502513663,
          4.061320791919563,
          4.073246081325463,
          4.085171370731363,
          4.097096660137263,
          4.109021949543163,
          4.1209472389490625,
          4.132872528354962,
          4.144797817760862,
          4.156723107166762,
          4.168648396572662,
          4.180573685978562,
          4.192498975384462,
          4.204424264790362,
          4.2163495541962615,
          4.228274843602161,
          4.240200133008061,
          4.252125422413961,
          4.264050711819861,
          4.275976001225761,
          4.287901290631661,
          4.299826580037561,
          4.3117518694434604,
          4.32367715884936,
          4.33560244825526,
          4.347527737661159,
          4.35945302706706,
          4.37137831647296,
          4.383303605878859,
          4.395228895284759,
          4.4071541846906594,
          4.419079474096559,
          4.431004763502458,
          4.442930052908359,
          4.454855342314259,
          4.466780631720158,
          4.478705921126058,
          4.490631210531959,
          4.502556499937858,
          4.514481789343757,
          4.526407078749658,
          4.538332368155557,
          4.550257657561457,
          4.562182946967357,
          4.574108236373257,
          4.586033525779157,
          4.597958815185057,
          4.609884104590956,
          4.621809393996856,
          4.633734683402756,
          4.645659972808655,
          4.657585262214556,
          4.669510551620456,
          4.681435841026356,
          4.693361130432255,
          4.705286419838155,
          4.717211709244055,
          4.729136998649954,
          4.741062288055855,
          4.752987577461755,
          4.764912866867654,
          4.776838156273554,
          4.7887634456794546,
          4.8006887350853535,
          4.812614024491253,
          4.824539313897154,
          4.836464603303053,
          4.848389892708953,
          4.860315182114853,
          4.872240471520753,
          4.884165760926653,
          4.8960910503325525,
          4.908016339738453,
          4.919941629144352,
          4.931866918550252,
          4.943792207956152,
          4.955717497362052,
          4.967642786767952,
          4.979568076173852,
          4.9914933655797515,
          5.003418654985651,
          5.015343944391551,
          5.027269233797451,
          5.039194523203351,
          5.051119812609251,
          5.063045102015151,
          5.074970391421051,
          5.0868956808269505,
          5.09882097023285,
          5.11074625963875,
          5.12267154904465,
          5.13459683845055,
          5.14652212785645,
          5.15844741726235,
          5.17037270666825,
          5.1822979960741495,
          5.194223285480049,
          5.206148574885949,
          5.218073864291849,
          5.229999153697749,
          5.241924443103649,
          5.253849732509549,
          5.265775021915449,
          5.2777003113213485,
          5.289625600727248,
          5.301550890133148,
          5.313476179539048,
          5.325401468944948,
          5.337326758350848,
          5.349252047756748,
          5.361177337162648,
          5.3731026265685475,
          5.385027915974447,
          5.396953205380347,
          5.408878494786247,
          5.420803784192147,
          5.432729073598047,
          5.444654363003947,
          5.456579652409847,
          5.4685049418157465,
          5.480430231221646,
          5.492355520627546,
          5.504280810033446,
          5.516206099439346,
          5.528131388845246,
          5.540056678251146,
          5.551981967657046,
          5.5639072570629455,
          5.575832546468845,
          5.587757835874745,
          5.599683125280645,
          5.611608414686545,
          5.623533704092445,
          5.635458993498345,
          5.647384282904245,
          5.6593095723101445,
          5.6712348617160435,
          5.683160151121944,
          5.695085440527844,
          5.707010729933743,
          5.718936019339644,
          5.730861308745544,
          5.742786598151443,
          5.754711887557343,
          5.766637176963243,
          5.778562466369142,
          5.790487755775042,
          5.802413045180943,
          5.814338334586842,
          5.826263623992742,
          5.838188913398642,
          5.8501142028045425,
          5.8620394922104415,
          5.873964781616341,
          5.885890071022242,
          5.897815360428141,
          5.909740649834041,
          5.921665939239941,
          5.933591228645841,
          5.945516518051741,
          5.9574418074576405,
          5.96936709686354,
          5.98129238626944,
          5.99321767567534,
          6.00514296508124,
          6.01706825448714,
          6.02899354389304,
          6.04091883329894,
          6.0528441227048395,
          6.0647694121107385,
          6.076694701516639,
          6.088619990922539,
          6.100545280328439,
          6.112470569734339,
          6.124395859140239,
          6.136321148546138,
          6.148246437952038,
          6.1601717273579375,
          6.172097016763838,
          6.184022306169738,
          6.195947595575638,
          6.207872884981538,
          6.219798174387437,
          6.231723463793337,
          6.243648753199237,
          6.255574042605137,
          6.267499332011037,
          6.279424621416937,
          6.291349910822836,
          6.303275200228736,
          6.315200489634636,
          6.327125779040536,
          6.3390510684464365,
          6.350976357852336,
          6.362901647258235,
          6.374826936664135,
          6.386752226070035,
          6.398677515475935,
          6.410602804881835,
          6.422528094287736,
          6.4344533836936355,
          6.4463786730995345,
          6.458303962505434,
          6.470229251911334,
          6.482154541317234,
          6.494079830723134,
          6.506005120129035,
          6.517930409534934,
          6.529855698940834,
          6.5417809883467335,
          6.553706277752633,
          6.565631567158533,
          6.577556856564433,
          6.589482145970333,
          6.601407435376233,
          6.613332724782133,
          6.625258014188033,
          6.6371833035939325,
          6.649108592999832,
          6.661033882405732,
          6.672959171811632,
          6.684884461217532,
          6.696809750623432,
          6.708735040029332,
          6.720660329435232,
          6.7325856188411315,
          6.7445109082470305,
          6.75643619765293,
          6.768361487058831,
          6.780286776464731,
          6.792212065870631,
          6.804137355276531,
          6.81606264468243,
          6.82798793408833,
          6.8399132234942295,
          6.85183851290013,
          6.86376380230603,
          6.87568909171193,
          6.88761438111783,
          6.899539670523729,
          6.911464959929629,
          6.923390249335529,
          6.935315538741429,
          6.947240828147329,
          6.959166117553229,
          6.971091406959128,
          6.983016696365028,
          6.994941985770928,
          7.006867275176828,
          7.0187925645827285,
          7.030717853988628,
          7.042643143394527,
          7.054568432800427,
          7.066493722206327,
          7.078419011612227,
          7.090344301018127,
          7.102269590424028,
          7.114194879829927,
          7.1261201692358265,
          7.138045458641726,
          7.149970748047626,
          7.161896037453526,
          7.173821326859426,
          7.185746616265327,
          7.197671905671226,
          7.209597195077126,
          7.2215224844830255,
          7.233447773888925,
          7.245373063294825,
          7.257298352700725,
          7.269223642106625,
          7.281148931512525,
          7.293074220918425,
          7.304999510324325,
          7.3169247997302245,
          7.328850089136124,
          7.340775378542023,
          7.352700667947924,
          7.364625957353824,
          7.376551246759724,
          7.388476536165624,
          7.400401825571524,
          7.4123271149774235,
          7.4242524043833225,
          7.436177693789222,
          7.448102983195123,
          7.460028272601023,
          7.471953562006923,
          7.483878851412823,
          7.495804140818722,
          7.507729430224622,
          7.5196547196305215,
          7.531580009036422,
          7.543505298442322,
          7.555430587848222,
          7.567355877254121,
          7.579281166660021,
          7.591206456065921,
          7.603131745471821,
          7.615057034877721,
          7.626982324283621,
          7.638907613689521,
          7.65083290309542,
          7.66275819250132,
          7.67468348190722,
          7.68660877131312,
          7.6985340607190205,
          7.71045935012492,
          7.722384639530819,
          7.734309928936719,
          7.746235218342619,
          7.758160507748519,
          7.770085797154419,
          7.78201108656032,
          7.793936375966219,
          7.8058616653721185,
          7.817786954778018,
          7.829712244183918,
          7.841637533589818,
          7.853562822995718,
          7.865488112401619,
          7.877413401807518,
          7.889338691213418,
          7.9012639806193175
         ],
         "xaxis": "x",
         "y": [
          0.010666961561943971,
          0.010740808266956385,
          0.010810629195701268,
          0.010876488501755512,
          0.010938461541056411,
          0.010996634369772995,
          0.011051103186184238,
          0.011101973719764931,
          0.011149360571077316,
          0.011193386506445548,
          0.011234181711747277,
          0.011271883009989379,
          0.011306633047640461,
          0.01133857945496843,
          0.011367873985874754,
          0.011394671642926076,
          0.011419129793456538,
          0.01144140728274833,
          0.011461663550393412,
          0.011480057755993069,
          0.011496747920364982,
          0.011511890088397814,
          0.011525637519621382,
          0.011538139912446253,
          0.011549542667870028,
          0.011559986198250077,
          0.01156960528650412,
          0.01157852850082269,
          0.011586877669662883,
          0.011594767421441646,
          0.011602304792962943,
          0.011609588910197097,
          0.01161671074458661,
          0.011623752947582002,
          0.01163078976561848,
          0.011637887037230904,
          0.011645102273475311,
          0.011652484822282863,
          0.011660076116820163,
          0.01166791000737229,
          0.011676013175705055,
          0.011684405630304491,
          0.01169310128033857,
          0.011702108585641491,
          0.011711431279489076,
          0.011721069160417305,
          0.011731018948839341,
          0.011741275203741557,
          0.011751831294290393,
          0.011762680420761168,
          0.011773816678810866,
          0.011785236160761154,
          0.011796938087238537,
          0.011808925962236939,
          0.011821208744426371,
          0.011833802027331267,
          0.011846729220844444,
          0.011860022726428958,
          0.0118737250982909,
          0.011887890182781656,
          0.011902584228309244,
          0.011917886958104022,
          0.011933892598294922,
          0.011950710853907151,
          0.011968467825590608,
          0.011987306860128832,
          0.012007389328059769,
          0.01202889532206083,
          0.012052024270109488,
          0.012076995457825437,
          0.012104048454828856,
          0.012133443440409628,
          0.012165461424291478,
          0.012200404358791331,
          0.012238595139214102,
          0.01228037748988481,
          0.012326115733799896,
          0.012376194444475321,
          0.012431017979177667,
          0.01249100989334254,
          0.012556612236609836,
          0.012628284731534047,
          0.012706503836657562,
          0.012791761696262048,
          0.012884564979735003,
          0.012985433614102627,
          0.013094899413882402,
          0.013213504612997572,
          0.013341800304067368,
          0.013480344790938811,
          0.013629701860855386,
          0.013790438983162906,
          0.013963125441929592,
          0.014148330410304779,
          0.014346620974855276,
          0.014558560118498562,
          0.014784704670995671,
          0.015025603236270686,
          0.015281794106088447,
          0.015553803169843144,
          0.01584214183038807,
          0.016147304935968908,
          0.016469768738407973,
          0.016809988887724087,
          0.01716839847336104,
          0.017545406122135877,
          0.017941394162907187,
          0.01835671686780033,
          0.01879169877961408,
          0.01924663313476904,
          0.019721780390843838,
          0.02021736686738099,
          0.02073358350823135,
          0.021270584773244835,
          0.021828487666607433,
          0.022407370908571412,
          0.023007274256730853,
          0.023628197982356273,
          0.024270102506628175,
          0.02493290820089752,
          0.02561649535435704,
          0.02632070431173435,
          0.027045335782817228,
          0.02779015132480049,
          0.02855487399760237,
          0.029339189191444365,
          0.030142745625123812,
          0.030965156512538533,
          0.03180600089415223,
          0.03266482512922397,
          0.03354114454376672,
          0.034434445228356744,
          0.035344185979094195,
          0.036269800374210556,
          0.03721069897805123,
          0.03816627166342436,
          0.03913589004260425,
          0.04011890999662864,
          0.04111467429191492,
          0.04212251527267011,
          0.0431417576170648,
          0.0441717211447039,
          0.045211723662547595,
          0.04626108383612321,
          0.047319124072627144,
          0.048385173402340644,
          0.049458570344682415,
          0.050538665745194174,
          0.051624825569802704,
          0.05271643364282045,
          0.05381289431534506,
          0.05491363505098839,
          0.056018108916204686,
          0.05712579696290386,
          0.05823621049151705,
          0.0593488931832286,
          0.060463423090703156,
          0.06157941447730515,
          0.06269651949553592,
          0.06381442969619393,
          0.06493287736058777,
          0.06605163664899898,
          0.06717052455949907,
          0.06828940169215936,
          0.06940817281465343,
          0.07052678722623835,
          0.07164523891809345,
          0.07276356652900179,
          0.0738818530963696,
          0.07500022560358002,
          0.07611885432567447,
          0.0772379519763373,
          0.07835777266011676,
          0.07947861063475398,
          0.08060079888939489,
          0.08172470754532846,
          0.08285074208672853,
          0.0839793414296592,
          0.08511097583834432,
          0.08624614469839056,
          0.08738537415728666,
          0.08852921464307956,
          0.08967823827264898,
          0.09083303616146034,
          0.09199421564707204,
          0.09316239743901109,
          0.09433821270790178,
          0.09552230012693715,
          0.09671530287893651,
          0.0979178656423058,
          0.09913063156924616,
          0.10035423926951384,
          0.10158931981293637,
          0.10283649376373642,
          0.10409636825950258,
          0.1053695341473836,
          0.106656563189769,
          0.10795800535135515,
          0.10927438617908858,
          0.11060620428602769,
          0.11195392894967325,
          0.11331799783478602,
          0.11469881485015473,
          0.11609674814817227,
          0.11751212827546574,
          0.11894524648216878,
          0.12039635319675279,
          0.12186565667264436,
          0.12335332181214238,
          0.12485946917241832,
          0.12638417415764783,
          0.12792746640057354,
          0.12948932933603094,
          0.13106969996821552,
          0.1326684688326958,
          0.13428548015340924,
          0.13592053219410583,
          0.13757337780294573,
          0.1392437251481882,
          0.14093123864215876,
          0.14263554004993595,
          0.14435620977846564,
          0.1460927883410872,
          0.147844777991752,
          0.14961164452252543,
          0.15139281921729625,
          0.1531877009539653,
          0.15499565844676833,
          0.15681603261978333,
          0.15864813910211342,
          0.16049127083468634,
          0.16234470077812008,
          0.164207684710621,
          0.1660794641044641,
          0.16795926906920353,
          0.1698463213494123,
          0.17173983736445844,
          0.17363903127755168,
          0.17554311808109824,
          0.1774513166852404,
          0.17936285299635088,
          0.18127696297220613,
          0.18319289564056324,
          0.18510991606793037,
          0.18702730826543848,
          0.1889443780189013,
          0.19086045563038478,
          0.19277489855890423,
          0.19468709394822076,
          0.1965964610301156,
          0.1985024533919977,
          0.2004045610982065,
          0.2023023126549661,
          0.2041952768095612,
          0.20608306417498162,
          0.20796532867201342,
          0.20984176878150354,
          0.21171212860033742,
          0.21357619869550726,
          0.21543381675150292,
          0.21728486800716945,
          0.2191292854790749,
          0.2209670499693715,
          0.2227981898570709,
          0.22462278067260538,
          0.22644094445649376,
          0.2282528489038706,
          0.23005870629757805,
          0.23185877223342702,
          0.23365334414213618,
          0.23544275961332664,
          0.237227394527784,
          0.2390076610050039,
          0.24078400517380164,
          0.2425569047744765,
          0.2443268666016968,
          0.24609442379788407,
          0.2478601330074351,
          0.24962457140263072,
          0.25138833359252005,
          0.2531520284264489,
          0.254916275704236,
          0.25668170280524105,
          0.25844894124877804,
          0.2602186231984565,
          0.2619913779230957,
          0.26376782822688766,
          0.26554858686141597,
          0.2673342529320436,
          0.2691254083110352,
          0.27092261406954954,
          0.2727264069404051,
          0.2745372958232137,
          0.27635575834313864,
          0.2781822374741688,
          0.2800171382373878,
          0.2818608244842982,
          0.28371361577479864,
          0.28557578435895004,
          0.2874475522711825,
          0.2893290885451031,
          0.2912205065565673,
          0.29312186150219083,
          0.2950331480199673,
          0.2969542979581966,
          0.29888517829842853,
          0.3008255892376798,
          0.30277526243473196,
          0.3047338594248803,
          0.30670097020710585,
          0.30867611200724165,
          0.310658728220341,
          0.31264818753510687,
          0.31464378324291653,
          0.31664473273367044,
          0.3186501771804091,
          0.32065918141438043,
          0.3226707339919807,
          0.3246837474547806,
          0.3266970587836014,
          0.3287094300474131,
          0.3307195492476253,
          0.33272603135813156,
          0.33472741956127766,
          0.33672218667973014,
          0.3387087368040068,
          0.3406854071152227,
          0.3426504699023812,
          0.3446021347732965,
          0.34653855105797354,
          0.3484578104029952,
          0.350357949555157,
          0.3522369533322661,
          0.35409275777865856,
          0.35592325350259807,
          0.35772628919231236,
          0.35949967530695637,
          0.3612411879383244,
          0.362948572838609,
          0.36461954960896237,
          0.3662518160430408,
          0.3678430526191075,
          0.36939092713363725,
          0.37089309946871984,
          0.3723472264848692,
          0.373750967030172,
          0.37510198705599146,
          0.37639796482873233,
          0.37763659622646123,
          0.37881560010845206,
          0.37993272374502834,
          0.38098574829436693,
          0.38197249431226044,
          0.3828908272801774,
          0.38373866313633603,
          0.38451397379392904,
          0.3852147926300868,
          0.38583921992867865,
          0.38638542825961203,
          0.3868516677769165,
          0.3872362714175834,
          0.3875376599828966,
          0.38775434708383255,
          0.3878849439320165,
          0.3879281639577347,
          0.38788282723659273,
          0.3877478647065911,
          0.38752232215766996,
          0.3872053639761445,
          0.38679627662692584,
          0.386294471856986,
          0.38569948960418626,
          0.3850110005963513,
          0.3842288086263206,
          0.38335285248965306,
          0.382383207572693,
          0.38132008707982507,
          0.38016384288994215,
          0.3789149660334208,
          0.37757408678225046,
          0.37614197434735896,
          0.37461953617865223,
          0.3730078168647891,
          0.3713079966312849,
          0.36952138943710505,
          0.3676494406715575,
          0.3656937244548987,
          0.3636559405477357,
          0.36153791087593423,
          0.35934157567939046,
          0.3570689892946359,
          0.35472231558283407,
          0.3523038230162894,
          0.3498158794380958,
          0.34726094651100786,
          0.3446415738730244,
          0.34196039301849185,
          0.33922011092479537,
          0.3364235034458747,
          0.33357340849487477,
          0.3306727190392319,
          0.3277243759323803,
          0.32473136060703206,
          0.3216966876556582,
          0.318623397324349,
          0.31551454794666284,
          0.3123732083443932,
          0.3092024502223805,
          0.30600534058455914,
          0.3027849341983921,
          0.299544266134668,
          0.29628634440933915,
          0.29301414275368315,
          0.2897305935385186,
          0.28643858087758434,
          0.2831409339344295,
          0.27984042045629176,
          0.2765397405575012,
          0.2732415207738596,
          0.2699483084083227,
          0.2666625661870445,
          0.2633866672435584,
          0.2601228904474457,
          0.25687341609242115,
          0.253640321957212,
          0.2504255797510762,
          0.24723105195416908,
          0.24405848906132735,
          0.24090952723616904,
          0.23778568638070674,
          0.2346883686239532,
          0.23161885723130243,
          0.22857831593474093,
          0.2255677886822433,
          0.22258819980303785,
          0.21964035458374973,
          0.21672494024882,
          0.21384252733700096,
          0.21099357146420153,
          0.20817841546146393,
          0.2053972918754246,
          0.20265032581725612,
          0.19993753814480483,
          0.19725884896140095,
          0.1946140814137139,
          0.19200296576996148,
          0.18942514375882388,
          0.18688017314855895,
          0.18436753254503763,
          0.18188662638674682,
          0.17943679011425243,
          0.17701729549113274,
          0.17462735605303958,
          0.17226613266128948,
          0.16993273913723234,
          0.16762624795359754,
          0.1653456959590811,
          0.1630900901125998,
          0.16085841320388805,
          0.15864962953750353,
          0.15646269055773954,
          0.15429654039251925,
          0.15215012129498137,
          0.1500223789622051,
          0.14791226771133736,
          0.14581875549428464,
          0.14374082873309313,
          0.1416774969591859,
          0.13962779724072477,
          0.13759079838351504,
          0.13556560489209288,
          0.13355136067887774,
          0.13154725251057064,
          0.12955251318229902,
          0.1275664244113647,
          0.1255883194438088,
          0.12361758536840113,
          0.12165366513403111,
          0.11969605926787105,
          0.11774432729305162,
          0.115798088845946,
          0.11385702449450236,
          0.1119208762603635,
          0.10998944784880123,
          0.10806260459170917,
          0.10614027311010699,
          0.10422244070372925,
          0.10230915447637118,
          0.10040052020666757,
          0.0984967009749587,
          0.09659791555777102,
          0.09470443660226216,
          0.09281658859372724,
          0.09093474562992296,
          0.08905932901655184,
          0.08719080469875905,
          0.08532968054391307,
          0.08347650349127994,
          0.08163185658446051,
          0.07979635590263884
         ],
         "yaxis": "y"
        }
       ],
       "layout": {
        "annotations": [
         {
          "showarrow": false,
          "text": "Source: ##can add source here",
          "x": 1,
          "xref": "paper",
          "y": -0.2,
          "yref": "paper"
         }
        ],
        "autosize": true,
        "barmode": "overlay",
        "height": 500,
        "hovermode": "closest",
        "legend": {
         "orientation": "h",
         "traceorder": "reversed"
        },
        "showlegend": true,
        "template": {
         "data": {
          "bar": [
           {
            "error_x": {
             "color": "#2a3f5f"
            },
            "error_y": {
             "color": "#2a3f5f"
            },
            "marker": {
             "line": {
              "color": "#E5ECF6",
              "width": 0.5
             }
            },
            "type": "bar"
           }
          ],
          "barpolar": [
           {
            "marker": {
             "line": {
              "color": "#E5ECF6",
              "width": 0.5
             }
            },
            "type": "barpolar"
           }
          ],
          "carpet": [
           {
            "aaxis": {
             "endlinecolor": "#2a3f5f",
             "gridcolor": "white",
             "linecolor": "white",
             "minorgridcolor": "white",
             "startlinecolor": "#2a3f5f"
            },
            "baxis": {
             "endlinecolor": "#2a3f5f",
             "gridcolor": "white",
             "linecolor": "white",
             "minorgridcolor": "white",
             "startlinecolor": "#2a3f5f"
            },
            "type": "carpet"
           }
          ],
          "choropleth": [
           {
            "colorbar": {
             "outlinewidth": 0,
             "ticks": ""
            },
            "type": "choropleth"
           }
          ],
          "contour": [
           {
            "colorbar": {
             "outlinewidth": 0,
             "ticks": ""
            },
            "colorscale": [
             [
              0,
              "#0d0887"
             ],
             [
              0.1111111111111111,
              "#46039f"
             ],
             [
              0.2222222222222222,
              "#7201a8"
             ],
             [
              0.3333333333333333,
              "#9c179e"
             ],
             [
              0.4444444444444444,
              "#bd3786"
             ],
             [
              0.5555555555555556,
              "#d8576b"
             ],
             [
              0.6666666666666666,
              "#ed7953"
             ],
             [
              0.7777777777777778,
              "#fb9f3a"
             ],
             [
              0.8888888888888888,
              "#fdca26"
             ],
             [
              1,
              "#f0f921"
             ]
            ],
            "type": "contour"
           }
          ],
          "contourcarpet": [
           {
            "colorbar": {
             "outlinewidth": 0,
             "ticks": ""
            },
            "type": "contourcarpet"
           }
          ],
          "heatmap": [
           {
            "colorbar": {
             "outlinewidth": 0,
             "ticks": ""
            },
            "colorscale": [
             [
              0,
              "#0d0887"
             ],
             [
              0.1111111111111111,
              "#46039f"
             ],
             [
              0.2222222222222222,
              "#7201a8"
             ],
             [
              0.3333333333333333,
              "#9c179e"
             ],
             [
              0.4444444444444444,
              "#bd3786"
             ],
             [
              0.5555555555555556,
              "#d8576b"
             ],
             [
              0.6666666666666666,
              "#ed7953"
             ],
             [
              0.7777777777777778,
              "#fb9f3a"
             ],
             [
              0.8888888888888888,
              "#fdca26"
             ],
             [
              1,
              "#f0f921"
             ]
            ],
            "type": "heatmap"
           }
          ],
          "heatmapgl": [
           {
            "colorbar": {
             "outlinewidth": 0,
             "ticks": ""
            },
            "colorscale": [
             [
              0,
              "#0d0887"
             ],
             [
              0.1111111111111111,
              "#46039f"
             ],
             [
              0.2222222222222222,
              "#7201a8"
             ],
             [
              0.3333333333333333,
              "#9c179e"
             ],
             [
              0.4444444444444444,
              "#bd3786"
             ],
             [
              0.5555555555555556,
              "#d8576b"
             ],
             [
              0.6666666666666666,
              "#ed7953"
             ],
             [
              0.7777777777777778,
              "#fb9f3a"
             ],
             [
              0.8888888888888888,
              "#fdca26"
             ],
             [
              1,
              "#f0f921"
             ]
            ],
            "type": "heatmapgl"
           }
          ],
          "histogram": [
           {
            "marker": {
             "colorbar": {
              "outlinewidth": 0,
              "ticks": ""
             }
            },
            "type": "histogram"
           }
          ],
          "histogram2d": [
           {
            "colorbar": {
             "outlinewidth": 0,
             "ticks": ""
            },
            "colorscale": [
             [
              0,
              "#0d0887"
             ],
             [
              0.1111111111111111,
              "#46039f"
             ],
             [
              0.2222222222222222,
              "#7201a8"
             ],
             [
              0.3333333333333333,
              "#9c179e"
             ],
             [
              0.4444444444444444,
              "#bd3786"
             ],
             [
              0.5555555555555556,
              "#d8576b"
             ],
             [
              0.6666666666666666,
              "#ed7953"
             ],
             [
              0.7777777777777778,
              "#fb9f3a"
             ],
             [
              0.8888888888888888,
              "#fdca26"
             ],
             [
              1,
              "#f0f921"
             ]
            ],
            "type": "histogram2d"
           }
          ],
          "histogram2dcontour": [
           {
            "colorbar": {
             "outlinewidth": 0,
             "ticks": ""
            },
            "colorscale": [
             [
              0,
              "#0d0887"
             ],
             [
              0.1111111111111111,
              "#46039f"
             ],
             [
              0.2222222222222222,
              "#7201a8"
             ],
             [
              0.3333333333333333,
              "#9c179e"
             ],
             [
              0.4444444444444444,
              "#bd3786"
             ],
             [
              0.5555555555555556,
              "#d8576b"
             ],
             [
              0.6666666666666666,
              "#ed7953"
             ],
             [
              0.7777777777777778,
              "#fb9f3a"
             ],
             [
              0.8888888888888888,
              "#fdca26"
             ],
             [
              1,
              "#f0f921"
             ]
            ],
            "type": "histogram2dcontour"
           }
          ],
          "mesh3d": [
           {
            "colorbar": {
             "outlinewidth": 0,
             "ticks": ""
            },
            "type": "mesh3d"
           }
          ],
          "parcoords": [
           {
            "line": {
             "colorbar": {
              "outlinewidth": 0,
              "ticks": ""
             }
            },
            "type": "parcoords"
           }
          ],
          "pie": [
           {
            "automargin": true,
            "type": "pie"
           }
          ],
          "scatter": [
           {
            "marker": {
             "colorbar": {
              "outlinewidth": 0,
              "ticks": ""
             }
            },
            "type": "scatter"
           }
          ],
          "scatter3d": [
           {
            "line": {
             "colorbar": {
              "outlinewidth": 0,
              "ticks": ""
             }
            },
            "marker": {
             "colorbar": {
              "outlinewidth": 0,
              "ticks": ""
             }
            },
            "type": "scatter3d"
           }
          ],
          "scattercarpet": [
           {
            "marker": {
             "colorbar": {
              "outlinewidth": 0,
              "ticks": ""
             }
            },
            "type": "scattercarpet"
           }
          ],
          "scattergeo": [
           {
            "marker": {
             "colorbar": {
              "outlinewidth": 0,
              "ticks": ""
             }
            },
            "type": "scattergeo"
           }
          ],
          "scattergl": [
           {
            "marker": {
             "colorbar": {
              "outlinewidth": 0,
              "ticks": ""
             }
            },
            "type": "scattergl"
           }
          ],
          "scattermapbox": [
           {
            "marker": {
             "colorbar": {
              "outlinewidth": 0,
              "ticks": ""
             }
            },
            "type": "scattermapbox"
           }
          ],
          "scatterpolar": [
           {
            "marker": {
             "colorbar": {
              "outlinewidth": 0,
              "ticks": ""
             }
            },
            "type": "scatterpolar"
           }
          ],
          "scatterpolargl": [
           {
            "marker": {
             "colorbar": {
              "outlinewidth": 0,
              "ticks": ""
             }
            },
            "type": "scatterpolargl"
           }
          ],
          "scatterternary": [
           {
            "marker": {
             "colorbar": {
              "outlinewidth": 0,
              "ticks": ""
             }
            },
            "type": "scatterternary"
           }
          ],
          "surface": [
           {
            "colorbar": {
             "outlinewidth": 0,
             "ticks": ""
            },
            "colorscale": [
             [
              0,
              "#0d0887"
             ],
             [
              0.1111111111111111,
              "#46039f"
             ],
             [
              0.2222222222222222,
              "#7201a8"
             ],
             [
              0.3333333333333333,
              "#9c179e"
             ],
             [
              0.4444444444444444,
              "#bd3786"
             ],
             [
              0.5555555555555556,
              "#d8576b"
             ],
             [
              0.6666666666666666,
              "#ed7953"
             ],
             [
              0.7777777777777778,
              "#fb9f3a"
             ],
             [
              0.8888888888888888,
              "#fdca26"
             ],
             [
              1,
              "#f0f921"
             ]
            ],
            "type": "surface"
           }
          ],
          "table": [
           {
            "cells": {
             "fill": {
              "color": "#EBF0F8"
             },
             "line": {
              "color": "white"
             }
            },
            "header": {
             "fill": {
              "color": "#C8D4E3"
             },
             "line": {
              "color": "white"
             }
            },
            "type": "table"
           }
          ]
         },
         "layout": {
          "annotationdefaults": {
           "arrowcolor": "#2a3f5f",
           "arrowhead": 0,
           "arrowwidth": 1
          },
          "coloraxis": {
           "colorbar": {
            "outlinewidth": 0,
            "ticks": ""
           }
          },
          "colorscale": {
           "diverging": [
            [
             0,
             "#8e0152"
            ],
            [
             0.1,
             "#c51b7d"
            ],
            [
             0.2,
             "#de77ae"
            ],
            [
             0.3,
             "#f1b6da"
            ],
            [
             0.4,
             "#fde0ef"
            ],
            [
             0.5,
             "#f7f7f7"
            ],
            [
             0.6,
             "#e6f5d0"
            ],
            [
             0.7,
             "#b8e186"
            ],
            [
             0.8,
             "#7fbc41"
            ],
            [
             0.9,
             "#4d9221"
            ],
            [
             1,
             "#276419"
            ]
           ],
           "sequential": [
            [
             0,
             "#0d0887"
            ],
            [
             0.1111111111111111,
             "#46039f"
            ],
            [
             0.2222222222222222,
             "#7201a8"
            ],
            [
             0.3333333333333333,
             "#9c179e"
            ],
            [
             0.4444444444444444,
             "#bd3786"
            ],
            [
             0.5555555555555556,
             "#d8576b"
            ],
            [
             0.6666666666666666,
             "#ed7953"
            ],
            [
             0.7777777777777778,
             "#fb9f3a"
            ],
            [
             0.8888888888888888,
             "#fdca26"
            ],
            [
             1,
             "#f0f921"
            ]
           ],
           "sequentialminus": [
            [
             0,
             "#0d0887"
            ],
            [
             0.1111111111111111,
             "#46039f"
            ],
            [
             0.2222222222222222,
             "#7201a8"
            ],
            [
             0.3333333333333333,
             "#9c179e"
            ],
            [
             0.4444444444444444,
             "#bd3786"
            ],
            [
             0.5555555555555556,
             "#d8576b"
            ],
            [
             0.6666666666666666,
             "#ed7953"
            ],
            [
             0.7777777777777778,
             "#fb9f3a"
            ],
            [
             0.8888888888888888,
             "#fdca26"
            ],
            [
             1,
             "#f0f921"
            ]
           ]
          },
          "colorway": [
           "#636efa",
           "#EF553B",
           "#00cc96",
           "#ab63fa",
           "#FFA15A",
           "#19d3f3",
           "#FF6692",
           "#B6E880",
           "#FF97FF",
           "#FECB52"
          ],
          "font": {
           "color": "#2a3f5f"
          },
          "geo": {
           "bgcolor": "white",
           "lakecolor": "white",
           "landcolor": "#E5ECF6",
           "showlakes": true,
           "showland": true,
           "subunitcolor": "white"
          },
          "hoverlabel": {
           "align": "left"
          },
          "hovermode": "closest",
          "mapbox": {
           "style": "light"
          },
          "paper_bgcolor": "white",
          "plot_bgcolor": "#E5ECF6",
          "polar": {
           "angularaxis": {
            "gridcolor": "white",
            "linecolor": "white",
            "ticks": ""
           },
           "bgcolor": "#E5ECF6",
           "radialaxis": {
            "gridcolor": "white",
            "linecolor": "white",
            "ticks": ""
           }
          },
          "scene": {
           "xaxis": {
            "backgroundcolor": "#E5ECF6",
            "gridcolor": "white",
            "gridwidth": 2,
            "linecolor": "white",
            "showbackground": true,
            "ticks": "",
            "zerolinecolor": "white"
           },
           "yaxis": {
            "backgroundcolor": "#E5ECF6",
            "gridcolor": "white",
            "gridwidth": 2,
            "linecolor": "white",
            "showbackground": true,
            "ticks": "",
            "zerolinecolor": "white"
           },
           "zaxis": {
            "backgroundcolor": "#E5ECF6",
            "gridcolor": "white",
            "gridwidth": 2,
            "linecolor": "white",
            "showbackground": true,
            "ticks": "",
            "zerolinecolor": "white"
           }
          },
          "shapedefaults": {
           "line": {
            "color": "#2a3f5f"
           }
          },
          "ternary": {
           "aaxis": {
            "gridcolor": "white",
            "linecolor": "white",
            "ticks": ""
           },
           "baxis": {
            "gridcolor": "white",
            "linecolor": "white",
            "ticks": ""
           },
           "bgcolor": "#E5ECF6",
           "caxis": {
            "gridcolor": "white",
            "linecolor": "white",
            "ticks": ""
           }
          },
          "title": {
           "x": 0.05
          },
          "xaxis": {
           "automargin": true,
           "gridcolor": "white",
           "linecolor": "white",
           "ticks": "",
           "title": {
            "standoff": 15
           },
           "zerolinecolor": "white",
           "zerolinewidth": 2
          },
          "yaxis": {
           "automargin": true,
           "gridcolor": "white",
           "linecolor": "white",
           "ticks": "",
           "title": {
            "standoff": 15
           },
           "zerolinecolor": "white",
           "zerolinewidth": 2
          }
         }
        },
        "title": {
         "text": "Multiple Distribution Plot",
         "x": 0.45
        },
        "width": 1000,
        "xaxis": {
         "anchor": "y2",
         "domain": [
          0,
          1
         ],
         "title": {
          "text": "xaxis"
         },
         "zeroline": false
        },
        "yaxis": {
         "anchor": "free",
         "domain": [
          0,
          1
         ],
         "position": 0,
         "title": {
          "text": "yaxis"
         }
        }
       }
      }
     },
     "metadata": {}
    }
   ],
   "source": [
    "import numpy as np\n",
    "import plotly.figure_factory as ff\n",
    "\n",
    "# Add histogram data\n",
    "import random\n",
    "random.seed(10)\n",
    "\n",
    "a=np.random.randn(100)+2\n",
    "b=np.random.randn(100)\n",
    "c=np.random.randn(100)+6\n",
    "\n",
    "# Group data together\n",
    "hist_data = [ a, b, c]\n",
    "\n",
    "group_labels = ['Group 1', 'Group 2', 'Group 3']\n",
    "\n",
    "# Create distplot with custom bin_size\n",
    "fig = ff.create_distplot(hist_data, group_labels, bin_size=[.2, .2, .1],show_rug=False)\n",
    "\n",
    "fig.update_layout(title=\"Multiple Distribution Plot\",title_x=0.45,xaxis=dict(title='xaxis'), \n",
    "                 yaxis=dict(title='yaxis'),showlegend=True)\n",
    "\n",
    "fig.update_layout(width =1000,height=500,autosize=True,legend_orientation=\"h\",\n",
    "        annotations=[dict(x=1,y=-0.2,xref='paper',yref='paper',\n",
    "                          text=\"Source: ##can add source here\",showarrow=False,       \n",
    "                )\n",
    "            ]\n",
    "        )\n",
    "fig.show()        \n",
    "\n"
   ]
  },
  {
   "source": [
    "## 4. Multiple Box Plot "
   ],
   "cell_type": "markdown",
   "metadata": {}
  },
  {
   "cell_type": "code",
   "execution_count": 8,
   "metadata": {},
   "outputs": [
    {
     "output_type": "display_data",
     "data": {
      "application/vnd.plotly.v1+json": {
       "config": {
        "plotlyServerURL": "https://plot.ly"
       },
       "data": [
        {
         "name": "Group 1",
         "type": "box",
         "y": [
          2.323638638487701,
          1.410897163253324,
          2.274683656597967,
          1.233873575885207,
          0.7535182415067487,
          0.2911312836152322,
          1.3211771407293889,
          1.4746248501239525,
          1.3966795520112132,
          1.509459284558291,
          1.5770502438429836,
          1.6387477486313662,
          3.337176079942906,
          1.966609784856439,
          1.8383170058872293,
          1.7109749131512504,
          1.6874632390353201,
          -0.5707010262099903,
          1.940887291887258,
          1.8793742687558976,
          1.7425619879114185,
          0.9896865738429885,
          2.653394307055647,
          2.289468408918633,
          1.004291319726549,
          2.938478367959723,
          1.8342528587006295,
          3.31653525641629,
          0.18540518031721298,
          1.9617930881909897,
          2.859457101432394,
          1.2359391407607996,
          1.7556103726987677,
          2.409651558008176,
          0.6388095936530152,
          1.6679533093783396,
          2.040416357408133,
          2.470599585564469,
          2.3969704110564605,
          2.109090327250668,
          2.1601649577627544,
          5.001067897681319,
          2.704153897004204,
          0.08003241277608564,
          1.9586508721257374,
          2.8917263952381678,
          2.4376110909585917,
          0.5655249866155874,
          1.2918328969675987,
          1.53330967994714,
          1.2499015883661304,
          2.5655042401449486,
          4.717056849192785,
          1.4016044968230132,
          3.4078865105632907,
          1.352866434179827,
          3.6060375880572124,
          3.4488727714375065,
          3.4952605858566255,
          2.3811750032130794,
          3.257086028277226,
          1.056089578170314,
          2.527063645265764,
          2.583021333665851,
          3.1851043125986447,
          0.7825041885100845,
          1.7232572096835614,
          3.8459961062716777,
          2.783336643311956,
          3.266314295919971,
          1.1316661890553512,
          0.4919597188650535,
          2.4287065194998827,
          1.7891807158778292,
          0.8081722568559047,
          2.1198760567228776,
          0.5324504478170697,
          3.896493706342641,
          3.209188235689243,
          1.5892071317545986,
          1.9868688859312158,
          1.6473426239983509,
          1.9627329224664485,
          1.1383279663318004,
          1.3032171154767447,
          2.8790889604267234,
          2.9023586883149632,
          2.5664893391439847,
          2.134651182273027,
          1.2005349785402568,
          3.450134742768122,
          1.804001133095047,
          3.145125960410957,
          2.069814590488508,
          2.2002140717154384,
          2.0128582724089688,
          0.959764496968414,
          3.672075907402723,
          2.491506828277332,
          1.6782437095669143
         ]
        },
        {
         "name": "Group 2",
         "type": "box",
         "y": [
          -1.201429783838679,
          -0.8849444499261252,
          -1.451910650923351,
          -2.0367139092103606,
          0.9394553413154578,
          1.327957418556544,
          0.5778236674028473,
          2.475321556223366,
          -0.39933197812755955,
          -1.1319051390717199,
          -0.1510565932895282,
          -0.7733945403729158,
          -0.30411216956699494,
          2.1376081848187445,
          0.09886926785530925,
          1.1877668015832477,
          1.2294277256213682,
          -0.17896071505919883,
          0.8272156428394484,
          1.4664292861552424,
          -0.01604708227428503,
          -0.6152641732190545,
          0.46218403991020995,
          -0.8473482603390801,
          -1.6933221826950218,
          1.763963849884136,
          0.3130154111671639,
          -0.4201813728997795,
          -0.9860304718917318,
          -0.6342171731026335,
          0.4822452793394557,
          0.21920809057213186,
          -1.5128008244338738,
          1.6338842562936085,
          1.2210051753349302,
          0.5597276913029999,
          -1.512567373405509,
          -0.277501481382642,
          0.0751844621864122,
          -1.0238157812554718,
          0.5674472287550099,
          0.2365531003217184,
          -1.632709503577543,
          0.2870257736613014,
          -0.4300916217392339,
          -1.3823801704561873,
          -1.9416392981520418,
          0.17802393193862354,
          0.8834459659332835,
          1.1119808717993438,
          -0.460070439963809,
          -0.04527795564729585,
          0.9676087934300877,
          -0.3346601041596918,
          -0.8090750446826465,
          -0.2026579653918882,
          0.9378673487190592,
          -0.3670496976214286,
          -2.059888299353587,
          -1.0815493992673728,
          -0.3501573882190444,
          -0.018222697705329763,
          0.08822401797865691,
          -0.2505583397006577,
          -0.005778667166713211,
          0.7925385671503723,
          -1.0347299354601203,
          0.6349294395871833,
          -0.2170174022988686,
          0.2795333759302505,
          -0.26000732651723235,
          0.9495941756643519,
          -1.256333205181748,
          0.7201693370091529,
          0.8457712662273867,
          -0.5412515746528249,
          -0.2840368926565597,
          -0.6031228525500502,
          -1.8590654555649369,
          -1.0591316934888286,
          -1.0758963379488666,
          0.020416970503901188,
          0.48218410906485315,
          -0.4642842940634552,
          0.24886630951195993,
          0.1408567652641877,
          0.1328309317343254,
          0.3836211084944193,
          0.6334726572292085,
          -0.049706685271574874,
          -0.20859441161178752,
          -0.05781843714922181,
          0.6729217625535091,
          -1.103408028376144,
          -1.5155842678423503,
          0.24629937682747202,
          -0.6428994197401906,
          -0.25200687148155493,
          2.567447935647437,
          -0.39927090092850437
         ]
        },
        {
         "name": "Group 3",
         "type": "box",
         "y": [
          7.499029316577044,
          7.041219998091718,
          6.281051659313746,
          6.706812559219933,
          5.651373125496175,
          6.51530231846904,
          6.9822774162776335,
          5.778914928822133,
          4.352507775198834,
          4.6354871413752905,
          6.546011073387905,
          5.207765479352737,
          6.411009447801223,
          5.62043226672979,
          4.797924445468309,
          6.636921119935472,
          5.870486532816767,
          7.25269581854883,
          5.045459212506965,
          6.49720800638512,
          6.52300276687923,
          6.767815354626014,
          4.893970269106979,
          6.119788264884148,
          5.268985050015652,
          6.726753721739338,
          7.580327999789467,
          6.248857828961221,
          7.913189270025217,
          4.676744828577402,
          6.9336866888695186,
          3.908185324128986,
          6.88305834872764,
          5.6297535628055915,
          5.982965272582031,
          5.888570175894348,
          5.7770486817071784,
          7.7387742002299955,
          3.9167771902887365,
          7.841329963608565,
          5.344215780537733,
          6.5002787303140375,
          7.262811514674544,
          5.646828808922758,
          7.56457082671129,
          6.269763511424548,
          7.135559794979021,
          4.946002689684397,
          6.0389908863455,
          5.338965198569676,
          7.367909509219734,
          1.950544567075288,
          6.540676658701825,
          7.4750422954896845,
          5.6043731721286125,
          5.164940489369617,
          5.136958049008461,
          5.3936463107060195,
          3.8536255633231282,
          5.328790491636325,
          5.9897896548839755,
          6.034038839822161,
          6.58169280479325,
          4.5462100225609605,
          6.378166330829697,
          6.812649813608033,
          5.060885380606859,
          6.357810446527452,
          6.561334969497917,
          6.204258213715248,
          6.987978541737643,
          6.294966974738257,
          6.455026961616069,
          6.102357767358349,
          6.420849482103835,
          5.0565920271343305,
          6.371210043863435,
          6.335722419254483,
          6.051486503826679,
          4.670824614994588,
          5.104604876457572,
          5.423537197006645,
          5.754273604970599,
          6.157583102204357,
          7.631000011475496,
          4.955750558705358,
          5.79012397834919,
          4.292658288473127,
          6.096671822000856,
          6.614876317155773,
          6.660447011044908,
          6.884387617942257,
          5.581910643571326,
          6.1282723396170375,
          6.07134898540384,
          3.9031173745655328,
          5.759857652036523,
          6.626244377123326,
          2.7866509714715075,
          4.221282265247867
         ]
        }
       ],
       "layout": {
        "annotations": [
         {
          "showarrow": false,
          "text": "Source: ##can add source here",
          "x": 1,
          "xref": "paper",
          "y": -0.2,
          "yref": "paper"
         }
        ],
        "autosize": true,
        "height": 500,
        "legend": {
         "orientation": "h"
        },
        "showlegend": true,
        "template": {
         "data": {
          "bar": [
           {
            "error_x": {
             "color": "#2a3f5f"
            },
            "error_y": {
             "color": "#2a3f5f"
            },
            "marker": {
             "line": {
              "color": "#E5ECF6",
              "width": 0.5
             }
            },
            "type": "bar"
           }
          ],
          "barpolar": [
           {
            "marker": {
             "line": {
              "color": "#E5ECF6",
              "width": 0.5
             }
            },
            "type": "barpolar"
           }
          ],
          "carpet": [
           {
            "aaxis": {
             "endlinecolor": "#2a3f5f",
             "gridcolor": "white",
             "linecolor": "white",
             "minorgridcolor": "white",
             "startlinecolor": "#2a3f5f"
            },
            "baxis": {
             "endlinecolor": "#2a3f5f",
             "gridcolor": "white",
             "linecolor": "white",
             "minorgridcolor": "white",
             "startlinecolor": "#2a3f5f"
            },
            "type": "carpet"
           }
          ],
          "choropleth": [
           {
            "colorbar": {
             "outlinewidth": 0,
             "ticks": ""
            },
            "type": "choropleth"
           }
          ],
          "contour": [
           {
            "colorbar": {
             "outlinewidth": 0,
             "ticks": ""
            },
            "colorscale": [
             [
              0,
              "#0d0887"
             ],
             [
              0.1111111111111111,
              "#46039f"
             ],
             [
              0.2222222222222222,
              "#7201a8"
             ],
             [
              0.3333333333333333,
              "#9c179e"
             ],
             [
              0.4444444444444444,
              "#bd3786"
             ],
             [
              0.5555555555555556,
              "#d8576b"
             ],
             [
              0.6666666666666666,
              "#ed7953"
             ],
             [
              0.7777777777777778,
              "#fb9f3a"
             ],
             [
              0.8888888888888888,
              "#fdca26"
             ],
             [
              1,
              "#f0f921"
             ]
            ],
            "type": "contour"
           }
          ],
          "contourcarpet": [
           {
            "colorbar": {
             "outlinewidth": 0,
             "ticks": ""
            },
            "type": "contourcarpet"
           }
          ],
          "heatmap": [
           {
            "colorbar": {
             "outlinewidth": 0,
             "ticks": ""
            },
            "colorscale": [
             [
              0,
              "#0d0887"
             ],
             [
              0.1111111111111111,
              "#46039f"
             ],
             [
              0.2222222222222222,
              "#7201a8"
             ],
             [
              0.3333333333333333,
              "#9c179e"
             ],
             [
              0.4444444444444444,
              "#bd3786"
             ],
             [
              0.5555555555555556,
              "#d8576b"
             ],
             [
              0.6666666666666666,
              "#ed7953"
             ],
             [
              0.7777777777777778,
              "#fb9f3a"
             ],
             [
              0.8888888888888888,
              "#fdca26"
             ],
             [
              1,
              "#f0f921"
             ]
            ],
            "type": "heatmap"
           }
          ],
          "heatmapgl": [
           {
            "colorbar": {
             "outlinewidth": 0,
             "ticks": ""
            },
            "colorscale": [
             [
              0,
              "#0d0887"
             ],
             [
              0.1111111111111111,
              "#46039f"
             ],
             [
              0.2222222222222222,
              "#7201a8"
             ],
             [
              0.3333333333333333,
              "#9c179e"
             ],
             [
              0.4444444444444444,
              "#bd3786"
             ],
             [
              0.5555555555555556,
              "#d8576b"
             ],
             [
              0.6666666666666666,
              "#ed7953"
             ],
             [
              0.7777777777777778,
              "#fb9f3a"
             ],
             [
              0.8888888888888888,
              "#fdca26"
             ],
             [
              1,
              "#f0f921"
             ]
            ],
            "type": "heatmapgl"
           }
          ],
          "histogram": [
           {
            "marker": {
             "colorbar": {
              "outlinewidth": 0,
              "ticks": ""
             }
            },
            "type": "histogram"
           }
          ],
          "histogram2d": [
           {
            "colorbar": {
             "outlinewidth": 0,
             "ticks": ""
            },
            "colorscale": [
             [
              0,
              "#0d0887"
             ],
             [
              0.1111111111111111,
              "#46039f"
             ],
             [
              0.2222222222222222,
              "#7201a8"
             ],
             [
              0.3333333333333333,
              "#9c179e"
             ],
             [
              0.4444444444444444,
              "#bd3786"
             ],
             [
              0.5555555555555556,
              "#d8576b"
             ],
             [
              0.6666666666666666,
              "#ed7953"
             ],
             [
              0.7777777777777778,
              "#fb9f3a"
             ],
             [
              0.8888888888888888,
              "#fdca26"
             ],
             [
              1,
              "#f0f921"
             ]
            ],
            "type": "histogram2d"
           }
          ],
          "histogram2dcontour": [
           {
            "colorbar": {
             "outlinewidth": 0,
             "ticks": ""
            },
            "colorscale": [
             [
              0,
              "#0d0887"
             ],
             [
              0.1111111111111111,
              "#46039f"
             ],
             [
              0.2222222222222222,
              "#7201a8"
             ],
             [
              0.3333333333333333,
              "#9c179e"
             ],
             [
              0.4444444444444444,
              "#bd3786"
             ],
             [
              0.5555555555555556,
              "#d8576b"
             ],
             [
              0.6666666666666666,
              "#ed7953"
             ],
             [
              0.7777777777777778,
              "#fb9f3a"
             ],
             [
              0.8888888888888888,
              "#fdca26"
             ],
             [
              1,
              "#f0f921"
             ]
            ],
            "type": "histogram2dcontour"
           }
          ],
          "mesh3d": [
           {
            "colorbar": {
             "outlinewidth": 0,
             "ticks": ""
            },
            "type": "mesh3d"
           }
          ],
          "parcoords": [
           {
            "line": {
             "colorbar": {
              "outlinewidth": 0,
              "ticks": ""
             }
            },
            "type": "parcoords"
           }
          ],
          "pie": [
           {
            "automargin": true,
            "type": "pie"
           }
          ],
          "scatter": [
           {
            "marker": {
             "colorbar": {
              "outlinewidth": 0,
              "ticks": ""
             }
            },
            "type": "scatter"
           }
          ],
          "scatter3d": [
           {
            "line": {
             "colorbar": {
              "outlinewidth": 0,
              "ticks": ""
             }
            },
            "marker": {
             "colorbar": {
              "outlinewidth": 0,
              "ticks": ""
             }
            },
            "type": "scatter3d"
           }
          ],
          "scattercarpet": [
           {
            "marker": {
             "colorbar": {
              "outlinewidth": 0,
              "ticks": ""
             }
            },
            "type": "scattercarpet"
           }
          ],
          "scattergeo": [
           {
            "marker": {
             "colorbar": {
              "outlinewidth": 0,
              "ticks": ""
             }
            },
            "type": "scattergeo"
           }
          ],
          "scattergl": [
           {
            "marker": {
             "colorbar": {
              "outlinewidth": 0,
              "ticks": ""
             }
            },
            "type": "scattergl"
           }
          ],
          "scattermapbox": [
           {
            "marker": {
             "colorbar": {
              "outlinewidth": 0,
              "ticks": ""
             }
            },
            "type": "scattermapbox"
           }
          ],
          "scatterpolar": [
           {
            "marker": {
             "colorbar": {
              "outlinewidth": 0,
              "ticks": ""
             }
            },
            "type": "scatterpolar"
           }
          ],
          "scatterpolargl": [
           {
            "marker": {
             "colorbar": {
              "outlinewidth": 0,
              "ticks": ""
             }
            },
            "type": "scatterpolargl"
           }
          ],
          "scatterternary": [
           {
            "marker": {
             "colorbar": {
              "outlinewidth": 0,
              "ticks": ""
             }
            },
            "type": "scatterternary"
           }
          ],
          "surface": [
           {
            "colorbar": {
             "outlinewidth": 0,
             "ticks": ""
            },
            "colorscale": [
             [
              0,
              "#0d0887"
             ],
             [
              0.1111111111111111,
              "#46039f"
             ],
             [
              0.2222222222222222,
              "#7201a8"
             ],
             [
              0.3333333333333333,
              "#9c179e"
             ],
             [
              0.4444444444444444,
              "#bd3786"
             ],
             [
              0.5555555555555556,
              "#d8576b"
             ],
             [
              0.6666666666666666,
              "#ed7953"
             ],
             [
              0.7777777777777778,
              "#fb9f3a"
             ],
             [
              0.8888888888888888,
              "#fdca26"
             ],
             [
              1,
              "#f0f921"
             ]
            ],
            "type": "surface"
           }
          ],
          "table": [
           {
            "cells": {
             "fill": {
              "color": "#EBF0F8"
             },
             "line": {
              "color": "white"
             }
            },
            "header": {
             "fill": {
              "color": "#C8D4E3"
             },
             "line": {
              "color": "white"
             }
            },
            "type": "table"
           }
          ]
         },
         "layout": {
          "annotationdefaults": {
           "arrowcolor": "#2a3f5f",
           "arrowhead": 0,
           "arrowwidth": 1
          },
          "coloraxis": {
           "colorbar": {
            "outlinewidth": 0,
            "ticks": ""
           }
          },
          "colorscale": {
           "diverging": [
            [
             0,
             "#8e0152"
            ],
            [
             0.1,
             "#c51b7d"
            ],
            [
             0.2,
             "#de77ae"
            ],
            [
             0.3,
             "#f1b6da"
            ],
            [
             0.4,
             "#fde0ef"
            ],
            [
             0.5,
             "#f7f7f7"
            ],
            [
             0.6,
             "#e6f5d0"
            ],
            [
             0.7,
             "#b8e186"
            ],
            [
             0.8,
             "#7fbc41"
            ],
            [
             0.9,
             "#4d9221"
            ],
            [
             1,
             "#276419"
            ]
           ],
           "sequential": [
            [
             0,
             "#0d0887"
            ],
            [
             0.1111111111111111,
             "#46039f"
            ],
            [
             0.2222222222222222,
             "#7201a8"
            ],
            [
             0.3333333333333333,
             "#9c179e"
            ],
            [
             0.4444444444444444,
             "#bd3786"
            ],
            [
             0.5555555555555556,
             "#d8576b"
            ],
            [
             0.6666666666666666,
             "#ed7953"
            ],
            [
             0.7777777777777778,
             "#fb9f3a"
            ],
            [
             0.8888888888888888,
             "#fdca26"
            ],
            [
             1,
             "#f0f921"
            ]
           ],
           "sequentialminus": [
            [
             0,
             "#0d0887"
            ],
            [
             0.1111111111111111,
             "#46039f"
            ],
            [
             0.2222222222222222,
             "#7201a8"
            ],
            [
             0.3333333333333333,
             "#9c179e"
            ],
            [
             0.4444444444444444,
             "#bd3786"
            ],
            [
             0.5555555555555556,
             "#d8576b"
            ],
            [
             0.6666666666666666,
             "#ed7953"
            ],
            [
             0.7777777777777778,
             "#fb9f3a"
            ],
            [
             0.8888888888888888,
             "#fdca26"
            ],
            [
             1,
             "#f0f921"
            ]
           ]
          },
          "colorway": [
           "#636efa",
           "#EF553B",
           "#00cc96",
           "#ab63fa",
           "#FFA15A",
           "#19d3f3",
           "#FF6692",
           "#B6E880",
           "#FF97FF",
           "#FECB52"
          ],
          "font": {
           "color": "#2a3f5f"
          },
          "geo": {
           "bgcolor": "white",
           "lakecolor": "white",
           "landcolor": "#E5ECF6",
           "showlakes": true,
           "showland": true,
           "subunitcolor": "white"
          },
          "hoverlabel": {
           "align": "left"
          },
          "hovermode": "closest",
          "mapbox": {
           "style": "light"
          },
          "paper_bgcolor": "white",
          "plot_bgcolor": "#E5ECF6",
          "polar": {
           "angularaxis": {
            "gridcolor": "white",
            "linecolor": "white",
            "ticks": ""
           },
           "bgcolor": "#E5ECF6",
           "radialaxis": {
            "gridcolor": "white",
            "linecolor": "white",
            "ticks": ""
           }
          },
          "scene": {
           "xaxis": {
            "backgroundcolor": "#E5ECF6",
            "gridcolor": "white",
            "gridwidth": 2,
            "linecolor": "white",
            "showbackground": true,
            "ticks": "",
            "zerolinecolor": "white"
           },
           "yaxis": {
            "backgroundcolor": "#E5ECF6",
            "gridcolor": "white",
            "gridwidth": 2,
            "linecolor": "white",
            "showbackground": true,
            "ticks": "",
            "zerolinecolor": "white"
           },
           "zaxis": {
            "backgroundcolor": "#E5ECF6",
            "gridcolor": "white",
            "gridwidth": 2,
            "linecolor": "white",
            "showbackground": true,
            "ticks": "",
            "zerolinecolor": "white"
           }
          },
          "shapedefaults": {
           "line": {
            "color": "#2a3f5f"
           }
          },
          "ternary": {
           "aaxis": {
            "gridcolor": "white",
            "linecolor": "white",
            "ticks": ""
           },
           "baxis": {
            "gridcolor": "white",
            "linecolor": "white",
            "ticks": ""
           },
           "bgcolor": "#E5ECF6",
           "caxis": {
            "gridcolor": "white",
            "linecolor": "white",
            "ticks": ""
           }
          },
          "title": {
           "x": 0.05
          },
          "xaxis": {
           "automargin": true,
           "gridcolor": "white",
           "linecolor": "white",
           "ticks": "",
           "title": {
            "standoff": 15
           },
           "zerolinecolor": "white",
           "zerolinewidth": 2
          },
          "yaxis": {
           "automargin": true,
           "gridcolor": "white",
           "linecolor": "white",
           "ticks": "",
           "title": {
            "standoff": 15
           },
           "zerolinecolor": "white",
           "zerolinewidth": 2
          }
         }
        },
        "title": {
         "text": "Box Plot",
         "x": 0.45
        },
        "width": 1000,
        "xaxis": {
         "title": {
          "text": "xaxis"
         }
        },
        "yaxis": {
         "title": {
          "text": "yaxis"
         }
        }
       }
      }
     },
     "metadata": {}
    }
   ],
   "source": [
    "data = [ a, b, c]\n",
    "group_labels = ['Group 1', 'Group 2', 'Group 3']\n",
    "\n",
    "fig = go.Figure()\n",
    "\n",
    "for i in range(len(data)):\n",
    "    fig.add_trace(go.Box(y=data[i] , name = group_labels[i]))\n",
    "\n",
    "fig.update_layout(title=\"Box Plot\",title_x=0.45,xaxis=dict(title='xaxis'), \n",
    "                 yaxis=dict(title='yaxis'),showlegend=True)\n",
    "\n",
    "fig.update_layout(width =1000,height=500,autosize=True,legend_orientation=\"h\",\n",
    "        annotations=[dict(x=1,y=-0.2,xref='paper',yref='paper',\n",
    "                          text=\"Source: ##can add source here\",showarrow=False,       \n",
    "                )\n",
    "            ]\n",
    "        )    \n",
    "fig.show()"
   ]
  },
  {
   "cell_type": "code",
   "execution_count": 9,
   "metadata": {},
   "outputs": [
    {
     "output_type": "display_data",
     "data": {
      "application/vnd.plotly.v1+json": {
       "config": {
        "plotlyServerURL": "https://plot.ly"
       },
       "data": [
        {
         "name": "box1",
         "type": "box",
         "y": [
          2.323638638487701,
          1.410897163253324,
          2.274683656597967,
          1.233873575885207,
          0.7535182415067487,
          0.2911312836152322,
          1.3211771407293889,
          1.4746248501239525,
          1.3966795520112132,
          1.509459284558291,
          1.5770502438429836,
          1.6387477486313662,
          3.337176079942906,
          1.966609784856439,
          1.8383170058872293,
          1.7109749131512504,
          1.6874632390353201,
          -0.5707010262099903,
          1.940887291887258,
          1.8793742687558976,
          1.7425619879114185,
          0.9896865738429885,
          2.653394307055647,
          2.289468408918633,
          1.004291319726549,
          2.938478367959723,
          1.8342528587006295,
          3.31653525641629,
          0.18540518031721298,
          1.9617930881909897,
          2.859457101432394,
          1.2359391407607996,
          1.7556103726987677,
          2.409651558008176,
          0.6388095936530152,
          1.6679533093783396,
          2.040416357408133,
          2.470599585564469,
          2.3969704110564605,
          2.109090327250668,
          2.1601649577627544,
          5.001067897681319,
          2.704153897004204,
          0.08003241277608564,
          1.9586508721257374,
          2.8917263952381678,
          2.4376110909585917,
          0.5655249866155874,
          1.2918328969675987,
          1.53330967994714,
          1.2499015883661304,
          2.5655042401449486,
          4.717056849192785,
          1.4016044968230132,
          3.4078865105632907,
          1.352866434179827,
          3.6060375880572124,
          3.4488727714375065,
          3.4952605858566255,
          2.3811750032130794,
          3.257086028277226,
          1.056089578170314,
          2.527063645265764,
          2.583021333665851,
          3.1851043125986447,
          0.7825041885100845,
          1.7232572096835614,
          3.8459961062716777,
          2.783336643311956,
          3.266314295919971,
          1.1316661890553512,
          0.4919597188650535,
          2.4287065194998827,
          1.7891807158778292,
          0.8081722568559047,
          2.1198760567228776,
          0.5324504478170697,
          3.896493706342641,
          3.209188235689243,
          1.5892071317545986,
          1.9868688859312158,
          1.6473426239983509,
          1.9627329224664485,
          1.1383279663318004,
          1.3032171154767447,
          2.8790889604267234,
          2.9023586883149632,
          2.5664893391439847,
          2.134651182273027,
          1.2005349785402568,
          3.450134742768122,
          1.804001133095047,
          3.145125960410957,
          2.069814590488508,
          2.2002140717154384,
          2.0128582724089688,
          0.959764496968414,
          3.672075907402723,
          2.491506828277332,
          1.6782437095669143
         ]
        },
        {
         "name": "box2",
         "type": "box",
         "y": [
          -1.201429783838679,
          -0.8849444499261252,
          -1.451910650923351,
          -2.0367139092103606,
          0.9394553413154578,
          1.327957418556544,
          0.5778236674028473,
          2.475321556223366,
          -0.39933197812755955,
          -1.1319051390717199,
          -0.1510565932895282,
          -0.7733945403729158,
          -0.30411216956699494,
          2.1376081848187445,
          0.09886926785530925,
          1.1877668015832477,
          1.2294277256213682,
          -0.17896071505919883,
          0.8272156428394484,
          1.4664292861552424,
          -0.01604708227428503,
          -0.6152641732190545,
          0.46218403991020995,
          -0.8473482603390801,
          -1.6933221826950218,
          1.763963849884136,
          0.3130154111671639,
          -0.4201813728997795,
          -0.9860304718917318,
          -0.6342171731026335,
          0.4822452793394557,
          0.21920809057213186,
          -1.5128008244338738,
          1.6338842562936085,
          1.2210051753349302,
          0.5597276913029999,
          -1.512567373405509,
          -0.277501481382642,
          0.0751844621864122,
          -1.0238157812554718,
          0.5674472287550099,
          0.2365531003217184,
          -1.632709503577543,
          0.2870257736613014,
          -0.4300916217392339,
          -1.3823801704561873,
          -1.9416392981520418,
          0.17802393193862354,
          0.8834459659332835,
          1.1119808717993438,
          -0.460070439963809,
          -0.04527795564729585,
          0.9676087934300877,
          -0.3346601041596918,
          -0.8090750446826465,
          -0.2026579653918882,
          0.9378673487190592,
          -0.3670496976214286,
          -2.059888299353587,
          -1.0815493992673728,
          -0.3501573882190444,
          -0.018222697705329763,
          0.08822401797865691,
          -0.2505583397006577,
          -0.005778667166713211,
          0.7925385671503723,
          -1.0347299354601203,
          0.6349294395871833,
          -0.2170174022988686,
          0.2795333759302505,
          -0.26000732651723235,
          0.9495941756643519,
          -1.256333205181748,
          0.7201693370091529,
          0.8457712662273867,
          -0.5412515746528249,
          -0.2840368926565597,
          -0.6031228525500502,
          -1.8590654555649369,
          -1.0591316934888286,
          -1.0758963379488666,
          0.020416970503901188,
          0.48218410906485315,
          -0.4642842940634552,
          0.24886630951195993,
          0.1408567652641877,
          0.1328309317343254,
          0.3836211084944193,
          0.6334726572292085,
          -0.049706685271574874,
          -0.20859441161178752,
          -0.05781843714922181,
          0.6729217625535091,
          -1.103408028376144,
          -1.5155842678423503,
          0.24629937682747202,
          -0.6428994197401906,
          -0.25200687148155493,
          2.567447935647437,
          -0.39927090092850437
         ]
        }
       ],
       "layout": {
        "annotations": [
         {
          "showarrow": false,
          "text": "Source: ##can add source here",
          "x": 1,
          "xref": "paper",
          "y": -0.2,
          "yref": "paper"
         }
        ],
        "autosize": true,
        "height": 500,
        "legend": {
         "orientation": "h"
        },
        "showlegend": true,
        "template": {
         "data": {
          "bar": [
           {
            "error_x": {
             "color": "#2a3f5f"
            },
            "error_y": {
             "color": "#2a3f5f"
            },
            "marker": {
             "line": {
              "color": "#E5ECF6",
              "width": 0.5
             }
            },
            "type": "bar"
           }
          ],
          "barpolar": [
           {
            "marker": {
             "line": {
              "color": "#E5ECF6",
              "width": 0.5
             }
            },
            "type": "barpolar"
           }
          ],
          "carpet": [
           {
            "aaxis": {
             "endlinecolor": "#2a3f5f",
             "gridcolor": "white",
             "linecolor": "white",
             "minorgridcolor": "white",
             "startlinecolor": "#2a3f5f"
            },
            "baxis": {
             "endlinecolor": "#2a3f5f",
             "gridcolor": "white",
             "linecolor": "white",
             "minorgridcolor": "white",
             "startlinecolor": "#2a3f5f"
            },
            "type": "carpet"
           }
          ],
          "choropleth": [
           {
            "colorbar": {
             "outlinewidth": 0,
             "ticks": ""
            },
            "type": "choropleth"
           }
          ],
          "contour": [
           {
            "colorbar": {
             "outlinewidth": 0,
             "ticks": ""
            },
            "colorscale": [
             [
              0,
              "#0d0887"
             ],
             [
              0.1111111111111111,
              "#46039f"
             ],
             [
              0.2222222222222222,
              "#7201a8"
             ],
             [
              0.3333333333333333,
              "#9c179e"
             ],
             [
              0.4444444444444444,
              "#bd3786"
             ],
             [
              0.5555555555555556,
              "#d8576b"
             ],
             [
              0.6666666666666666,
              "#ed7953"
             ],
             [
              0.7777777777777778,
              "#fb9f3a"
             ],
             [
              0.8888888888888888,
              "#fdca26"
             ],
             [
              1,
              "#f0f921"
             ]
            ],
            "type": "contour"
           }
          ],
          "contourcarpet": [
           {
            "colorbar": {
             "outlinewidth": 0,
             "ticks": ""
            },
            "type": "contourcarpet"
           }
          ],
          "heatmap": [
           {
            "colorbar": {
             "outlinewidth": 0,
             "ticks": ""
            },
            "colorscale": [
             [
              0,
              "#0d0887"
             ],
             [
              0.1111111111111111,
              "#46039f"
             ],
             [
              0.2222222222222222,
              "#7201a8"
             ],
             [
              0.3333333333333333,
              "#9c179e"
             ],
             [
              0.4444444444444444,
              "#bd3786"
             ],
             [
              0.5555555555555556,
              "#d8576b"
             ],
             [
              0.6666666666666666,
              "#ed7953"
             ],
             [
              0.7777777777777778,
              "#fb9f3a"
             ],
             [
              0.8888888888888888,
              "#fdca26"
             ],
             [
              1,
              "#f0f921"
             ]
            ],
            "type": "heatmap"
           }
          ],
          "heatmapgl": [
           {
            "colorbar": {
             "outlinewidth": 0,
             "ticks": ""
            },
            "colorscale": [
             [
              0,
              "#0d0887"
             ],
             [
              0.1111111111111111,
              "#46039f"
             ],
             [
              0.2222222222222222,
              "#7201a8"
             ],
             [
              0.3333333333333333,
              "#9c179e"
             ],
             [
              0.4444444444444444,
              "#bd3786"
             ],
             [
              0.5555555555555556,
              "#d8576b"
             ],
             [
              0.6666666666666666,
              "#ed7953"
             ],
             [
              0.7777777777777778,
              "#fb9f3a"
             ],
             [
              0.8888888888888888,
              "#fdca26"
             ],
             [
              1,
              "#f0f921"
             ]
            ],
            "type": "heatmapgl"
           }
          ],
          "histogram": [
           {
            "marker": {
             "colorbar": {
              "outlinewidth": 0,
              "ticks": ""
             }
            },
            "type": "histogram"
           }
          ],
          "histogram2d": [
           {
            "colorbar": {
             "outlinewidth": 0,
             "ticks": ""
            },
            "colorscale": [
             [
              0,
              "#0d0887"
             ],
             [
              0.1111111111111111,
              "#46039f"
             ],
             [
              0.2222222222222222,
              "#7201a8"
             ],
             [
              0.3333333333333333,
              "#9c179e"
             ],
             [
              0.4444444444444444,
              "#bd3786"
             ],
             [
              0.5555555555555556,
              "#d8576b"
             ],
             [
              0.6666666666666666,
              "#ed7953"
             ],
             [
              0.7777777777777778,
              "#fb9f3a"
             ],
             [
              0.8888888888888888,
              "#fdca26"
             ],
             [
              1,
              "#f0f921"
             ]
            ],
            "type": "histogram2d"
           }
          ],
          "histogram2dcontour": [
           {
            "colorbar": {
             "outlinewidth": 0,
             "ticks": ""
            },
            "colorscale": [
             [
              0,
              "#0d0887"
             ],
             [
              0.1111111111111111,
              "#46039f"
             ],
             [
              0.2222222222222222,
              "#7201a8"
             ],
             [
              0.3333333333333333,
              "#9c179e"
             ],
             [
              0.4444444444444444,
              "#bd3786"
             ],
             [
              0.5555555555555556,
              "#d8576b"
             ],
             [
              0.6666666666666666,
              "#ed7953"
             ],
             [
              0.7777777777777778,
              "#fb9f3a"
             ],
             [
              0.8888888888888888,
              "#fdca26"
             ],
             [
              1,
              "#f0f921"
             ]
            ],
            "type": "histogram2dcontour"
           }
          ],
          "mesh3d": [
           {
            "colorbar": {
             "outlinewidth": 0,
             "ticks": ""
            },
            "type": "mesh3d"
           }
          ],
          "parcoords": [
           {
            "line": {
             "colorbar": {
              "outlinewidth": 0,
              "ticks": ""
             }
            },
            "type": "parcoords"
           }
          ],
          "pie": [
           {
            "automargin": true,
            "type": "pie"
           }
          ],
          "scatter": [
           {
            "marker": {
             "colorbar": {
              "outlinewidth": 0,
              "ticks": ""
             }
            },
            "type": "scatter"
           }
          ],
          "scatter3d": [
           {
            "line": {
             "colorbar": {
              "outlinewidth": 0,
              "ticks": ""
             }
            },
            "marker": {
             "colorbar": {
              "outlinewidth": 0,
              "ticks": ""
             }
            },
            "type": "scatter3d"
           }
          ],
          "scattercarpet": [
           {
            "marker": {
             "colorbar": {
              "outlinewidth": 0,
              "ticks": ""
             }
            },
            "type": "scattercarpet"
           }
          ],
          "scattergeo": [
           {
            "marker": {
             "colorbar": {
              "outlinewidth": 0,
              "ticks": ""
             }
            },
            "type": "scattergeo"
           }
          ],
          "scattergl": [
           {
            "marker": {
             "colorbar": {
              "outlinewidth": 0,
              "ticks": ""
             }
            },
            "type": "scattergl"
           }
          ],
          "scattermapbox": [
           {
            "marker": {
             "colorbar": {
              "outlinewidth": 0,
              "ticks": ""
             }
            },
            "type": "scattermapbox"
           }
          ],
          "scatterpolar": [
           {
            "marker": {
             "colorbar": {
              "outlinewidth": 0,
              "ticks": ""
             }
            },
            "type": "scatterpolar"
           }
          ],
          "scatterpolargl": [
           {
            "marker": {
             "colorbar": {
              "outlinewidth": 0,
              "ticks": ""
             }
            },
            "type": "scatterpolargl"
           }
          ],
          "scatterternary": [
           {
            "marker": {
             "colorbar": {
              "outlinewidth": 0,
              "ticks": ""
             }
            },
            "type": "scatterternary"
           }
          ],
          "surface": [
           {
            "colorbar": {
             "outlinewidth": 0,
             "ticks": ""
            },
            "colorscale": [
             [
              0,
              "#0d0887"
             ],
             [
              0.1111111111111111,
              "#46039f"
             ],
             [
              0.2222222222222222,
              "#7201a8"
             ],
             [
              0.3333333333333333,
              "#9c179e"
             ],
             [
              0.4444444444444444,
              "#bd3786"
             ],
             [
              0.5555555555555556,
              "#d8576b"
             ],
             [
              0.6666666666666666,
              "#ed7953"
             ],
             [
              0.7777777777777778,
              "#fb9f3a"
             ],
             [
              0.8888888888888888,
              "#fdca26"
             ],
             [
              1,
              "#f0f921"
             ]
            ],
            "type": "surface"
           }
          ],
          "table": [
           {
            "cells": {
             "fill": {
              "color": "#EBF0F8"
             },
             "line": {
              "color": "white"
             }
            },
            "header": {
             "fill": {
              "color": "#C8D4E3"
             },
             "line": {
              "color": "white"
             }
            },
            "type": "table"
           }
          ]
         },
         "layout": {
          "annotationdefaults": {
           "arrowcolor": "#2a3f5f",
           "arrowhead": 0,
           "arrowwidth": 1
          },
          "coloraxis": {
           "colorbar": {
            "outlinewidth": 0,
            "ticks": ""
           }
          },
          "colorscale": {
           "diverging": [
            [
             0,
             "#8e0152"
            ],
            [
             0.1,
             "#c51b7d"
            ],
            [
             0.2,
             "#de77ae"
            ],
            [
             0.3,
             "#f1b6da"
            ],
            [
             0.4,
             "#fde0ef"
            ],
            [
             0.5,
             "#f7f7f7"
            ],
            [
             0.6,
             "#e6f5d0"
            ],
            [
             0.7,
             "#b8e186"
            ],
            [
             0.8,
             "#7fbc41"
            ],
            [
             0.9,
             "#4d9221"
            ],
            [
             1,
             "#276419"
            ]
           ],
           "sequential": [
            [
             0,
             "#0d0887"
            ],
            [
             0.1111111111111111,
             "#46039f"
            ],
            [
             0.2222222222222222,
             "#7201a8"
            ],
            [
             0.3333333333333333,
             "#9c179e"
            ],
            [
             0.4444444444444444,
             "#bd3786"
            ],
            [
             0.5555555555555556,
             "#d8576b"
            ],
            [
             0.6666666666666666,
             "#ed7953"
            ],
            [
             0.7777777777777778,
             "#fb9f3a"
            ],
            [
             0.8888888888888888,
             "#fdca26"
            ],
            [
             1,
             "#f0f921"
            ]
           ],
           "sequentialminus": [
            [
             0,
             "#0d0887"
            ],
            [
             0.1111111111111111,
             "#46039f"
            ],
            [
             0.2222222222222222,
             "#7201a8"
            ],
            [
             0.3333333333333333,
             "#9c179e"
            ],
            [
             0.4444444444444444,
             "#bd3786"
            ],
            [
             0.5555555555555556,
             "#d8576b"
            ],
            [
             0.6666666666666666,
             "#ed7953"
            ],
            [
             0.7777777777777778,
             "#fb9f3a"
            ],
            [
             0.8888888888888888,
             "#fdca26"
            ],
            [
             1,
             "#f0f921"
            ]
           ]
          },
          "colorway": [
           "#636efa",
           "#EF553B",
           "#00cc96",
           "#ab63fa",
           "#FFA15A",
           "#19d3f3",
           "#FF6692",
           "#B6E880",
           "#FF97FF",
           "#FECB52"
          ],
          "font": {
           "color": "#2a3f5f"
          },
          "geo": {
           "bgcolor": "white",
           "lakecolor": "white",
           "landcolor": "#E5ECF6",
           "showlakes": true,
           "showland": true,
           "subunitcolor": "white"
          },
          "hoverlabel": {
           "align": "left"
          },
          "hovermode": "closest",
          "mapbox": {
           "style": "light"
          },
          "paper_bgcolor": "white",
          "plot_bgcolor": "#E5ECF6",
          "polar": {
           "angularaxis": {
            "gridcolor": "white",
            "linecolor": "white",
            "ticks": ""
           },
           "bgcolor": "#E5ECF6",
           "radialaxis": {
            "gridcolor": "white",
            "linecolor": "white",
            "ticks": ""
           }
          },
          "scene": {
           "xaxis": {
            "backgroundcolor": "#E5ECF6",
            "gridcolor": "white",
            "gridwidth": 2,
            "linecolor": "white",
            "showbackground": true,
            "ticks": "",
            "zerolinecolor": "white"
           },
           "yaxis": {
            "backgroundcolor": "#E5ECF6",
            "gridcolor": "white",
            "gridwidth": 2,
            "linecolor": "white",
            "showbackground": true,
            "ticks": "",
            "zerolinecolor": "white"
           },
           "zaxis": {
            "backgroundcolor": "#E5ECF6",
            "gridcolor": "white",
            "gridwidth": 2,
            "linecolor": "white",
            "showbackground": true,
            "ticks": "",
            "zerolinecolor": "white"
           }
          },
          "shapedefaults": {
           "line": {
            "color": "#2a3f5f"
           }
          },
          "ternary": {
           "aaxis": {
            "gridcolor": "white",
            "linecolor": "white",
            "ticks": ""
           },
           "baxis": {
            "gridcolor": "white",
            "linecolor": "white",
            "ticks": ""
           },
           "bgcolor": "#E5ECF6",
           "caxis": {
            "gridcolor": "white",
            "linecolor": "white",
            "ticks": ""
           }
          },
          "title": {
           "x": 0.05
          },
          "xaxis": {
           "automargin": true,
           "gridcolor": "white",
           "linecolor": "white",
           "ticks": "",
           "title": {
            "standoff": 15
           },
           "zerolinecolor": "white",
           "zerolinewidth": 2
          },
          "yaxis": {
           "automargin": true,
           "gridcolor": "white",
           "linecolor": "white",
           "ticks": "",
           "title": {
            "standoff": 15
           },
           "zerolinecolor": "white",
           "zerolinewidth": 2
          }
         }
        },
        "title": {
         "text": "Box Plot",
         "x": 0.45
        },
        "width": 1000,
        "xaxis": {
         "title": {
          "text": "xaxis"
         }
        },
        "yaxis": {
         "title": {
          "text": "yaxis"
         }
        }
       }
      }
     },
     "metadata": {}
    }
   ],
   "source": [
    "import plotly.graph_objects as go\n",
    "np.random.seed(1)\n",
    "\n",
    "fig = go.Figure()\n",
    "fig.add_trace(go.Box(y=a , name = \"box1\"))\n",
    "fig.add_trace(go.Box(y=b, name = \"box2\"))\n",
    "\n",
    "fig.update_layout(title=\"Box Plot\",title_x=0.45,xaxis=dict(title='xaxis'), \n",
    "                 yaxis=dict(title='yaxis'),showlegend=True)\n",
    "\n",
    "fig.update_layout(width =1000,height=500,autosize=True,legend_orientation=\"h\",\n",
    "        annotations=[dict(x=1,y=-0.2,xref='paper',yref='paper',\n",
    "                          text=\"Source: ##can add source here\",showarrow=False,       \n",
    "                )\n",
    "            ]\n",
    "        )\n",
    "fig.show()        "
   ]
  },
  {
   "source": [
    "##  Multiple Bar Plot"
   ],
   "cell_type": "markdown",
   "metadata": {}
  },
  {
   "cell_type": "code",
   "execution_count": 10,
   "metadata": {},
   "outputs": [
    {
     "output_type": "display_data",
     "data": {
      "application/vnd.plotly.v1+json": {
       "config": {
        "plotlyServerURL": "https://plot.ly"
       },
       "data": [
        {
         "marker": {
          "color": "rgb(206,40,89)"
         },
         "name": "feature 1",
         "type": "bar",
         "x": [
          0,
          1,
          2,
          3,
          4,
          5,
          6,
          7,
          8,
          9,
          10,
          11,
          12,
          13,
          14,
          15,
          16,
          17,
          18,
          19,
          20,
          21,
          22,
          23,
          24
         ],
         "y": [
          3340,
          1133,
          2756,
          2976,
          3367,
          1060,
          1844,
          2894,
          4331,
          3012,
          4373,
          2136,
          3676,
          4320,
          1656,
          1140,
          3132,
          3007,
          2342,
          1311,
          2023,
          4901,
          4902,
          4053,
          2479
         ]
        },
        {
         "marker": {
          "color": "limegreen"
         },
         "name": "feature 2",
         "type": "bar",
         "x": [
          0,
          1,
          2,
          3,
          4,
          5,
          6,
          7,
          8,
          9,
          10,
          11,
          12,
          13,
          14,
          15,
          16,
          17,
          18,
          19,
          20,
          21,
          22,
          23,
          24
         ],
         "y": [
          1182,
          2721,
          4523,
          1568,
          3470,
          2454,
          2563,
          2725,
          2161,
          4386,
          3764,
          2074,
          2871,
          1715,
          3809,
          2241,
          3710,
          2485,
          1544,
          4145,
          4522,
          1980,
          4970,
          2800,
          3512
         ]
        },
        {
         "marker": {
          "color": "khaki"
         },
         "name": "feature 3",
         "type": "bar",
         "x": [
          0,
          1,
          2,
          3,
          4,
          5,
          6,
          7,
          8,
          9,
          10,
          11,
          12,
          13,
          14,
          15,
          16,
          17,
          18,
          19,
          20,
          21,
          22,
          23,
          24
         ],
         "y": [
          2536,
          1181,
          3387,
          1016,
          1965,
          1548,
          1798,
          4854,
          4725,
          2240,
          3196,
          2499,
          4162,
          4679,
          1983,
          2287,
          3730,
          3248,
          2845,
          2785,
          2925,
          1266,
          3674,
          3394,
          2329
         ]
        }
       ],
       "layout": {
        "annotations": [
         {
          "showarrow": false,
          "text": "Source: ##can add source here",
          "x": 1,
          "xref": "paper",
          "y": -0.2,
          "yref": "paper"
         }
        ],
        "autosize": true,
        "barmode": "group",
        "height": 450,
        "legend": {
         "orientation": "h"
        },
        "template": {
         "data": {
          "bar": [
           {
            "error_x": {
             "color": "#2a3f5f"
            },
            "error_y": {
             "color": "#2a3f5f"
            },
            "marker": {
             "line": {
              "color": "#E5ECF6",
              "width": 0.5
             }
            },
            "type": "bar"
           }
          ],
          "barpolar": [
           {
            "marker": {
             "line": {
              "color": "#E5ECF6",
              "width": 0.5
             }
            },
            "type": "barpolar"
           }
          ],
          "carpet": [
           {
            "aaxis": {
             "endlinecolor": "#2a3f5f",
             "gridcolor": "white",
             "linecolor": "white",
             "minorgridcolor": "white",
             "startlinecolor": "#2a3f5f"
            },
            "baxis": {
             "endlinecolor": "#2a3f5f",
             "gridcolor": "white",
             "linecolor": "white",
             "minorgridcolor": "white",
             "startlinecolor": "#2a3f5f"
            },
            "type": "carpet"
           }
          ],
          "choropleth": [
           {
            "colorbar": {
             "outlinewidth": 0,
             "ticks": ""
            },
            "type": "choropleth"
           }
          ],
          "contour": [
           {
            "colorbar": {
             "outlinewidth": 0,
             "ticks": ""
            },
            "colorscale": [
             [
              0,
              "#0d0887"
             ],
             [
              0.1111111111111111,
              "#46039f"
             ],
             [
              0.2222222222222222,
              "#7201a8"
             ],
             [
              0.3333333333333333,
              "#9c179e"
             ],
             [
              0.4444444444444444,
              "#bd3786"
             ],
             [
              0.5555555555555556,
              "#d8576b"
             ],
             [
              0.6666666666666666,
              "#ed7953"
             ],
             [
              0.7777777777777778,
              "#fb9f3a"
             ],
             [
              0.8888888888888888,
              "#fdca26"
             ],
             [
              1,
              "#f0f921"
             ]
            ],
            "type": "contour"
           }
          ],
          "contourcarpet": [
           {
            "colorbar": {
             "outlinewidth": 0,
             "ticks": ""
            },
            "type": "contourcarpet"
           }
          ],
          "heatmap": [
           {
            "colorbar": {
             "outlinewidth": 0,
             "ticks": ""
            },
            "colorscale": [
             [
              0,
              "#0d0887"
             ],
             [
              0.1111111111111111,
              "#46039f"
             ],
             [
              0.2222222222222222,
              "#7201a8"
             ],
             [
              0.3333333333333333,
              "#9c179e"
             ],
             [
              0.4444444444444444,
              "#bd3786"
             ],
             [
              0.5555555555555556,
              "#d8576b"
             ],
             [
              0.6666666666666666,
              "#ed7953"
             ],
             [
              0.7777777777777778,
              "#fb9f3a"
             ],
             [
              0.8888888888888888,
              "#fdca26"
             ],
             [
              1,
              "#f0f921"
             ]
            ],
            "type": "heatmap"
           }
          ],
          "heatmapgl": [
           {
            "colorbar": {
             "outlinewidth": 0,
             "ticks": ""
            },
            "colorscale": [
             [
              0,
              "#0d0887"
             ],
             [
              0.1111111111111111,
              "#46039f"
             ],
             [
              0.2222222222222222,
              "#7201a8"
             ],
             [
              0.3333333333333333,
              "#9c179e"
             ],
             [
              0.4444444444444444,
              "#bd3786"
             ],
             [
              0.5555555555555556,
              "#d8576b"
             ],
             [
              0.6666666666666666,
              "#ed7953"
             ],
             [
              0.7777777777777778,
              "#fb9f3a"
             ],
             [
              0.8888888888888888,
              "#fdca26"
             ],
             [
              1,
              "#f0f921"
             ]
            ],
            "type": "heatmapgl"
           }
          ],
          "histogram": [
           {
            "marker": {
             "colorbar": {
              "outlinewidth": 0,
              "ticks": ""
             }
            },
            "type": "histogram"
           }
          ],
          "histogram2d": [
           {
            "colorbar": {
             "outlinewidth": 0,
             "ticks": ""
            },
            "colorscale": [
             [
              0,
              "#0d0887"
             ],
             [
              0.1111111111111111,
              "#46039f"
             ],
             [
              0.2222222222222222,
              "#7201a8"
             ],
             [
              0.3333333333333333,
              "#9c179e"
             ],
             [
              0.4444444444444444,
              "#bd3786"
             ],
             [
              0.5555555555555556,
              "#d8576b"
             ],
             [
              0.6666666666666666,
              "#ed7953"
             ],
             [
              0.7777777777777778,
              "#fb9f3a"
             ],
             [
              0.8888888888888888,
              "#fdca26"
             ],
             [
              1,
              "#f0f921"
             ]
            ],
            "type": "histogram2d"
           }
          ],
          "histogram2dcontour": [
           {
            "colorbar": {
             "outlinewidth": 0,
             "ticks": ""
            },
            "colorscale": [
             [
              0,
              "#0d0887"
             ],
             [
              0.1111111111111111,
              "#46039f"
             ],
             [
              0.2222222222222222,
              "#7201a8"
             ],
             [
              0.3333333333333333,
              "#9c179e"
             ],
             [
              0.4444444444444444,
              "#bd3786"
             ],
             [
              0.5555555555555556,
              "#d8576b"
             ],
             [
              0.6666666666666666,
              "#ed7953"
             ],
             [
              0.7777777777777778,
              "#fb9f3a"
             ],
             [
              0.8888888888888888,
              "#fdca26"
             ],
             [
              1,
              "#f0f921"
             ]
            ],
            "type": "histogram2dcontour"
           }
          ],
          "mesh3d": [
           {
            "colorbar": {
             "outlinewidth": 0,
             "ticks": ""
            },
            "type": "mesh3d"
           }
          ],
          "parcoords": [
           {
            "line": {
             "colorbar": {
              "outlinewidth": 0,
              "ticks": ""
             }
            },
            "type": "parcoords"
           }
          ],
          "pie": [
           {
            "automargin": true,
            "type": "pie"
           }
          ],
          "scatter": [
           {
            "marker": {
             "colorbar": {
              "outlinewidth": 0,
              "ticks": ""
             }
            },
            "type": "scatter"
           }
          ],
          "scatter3d": [
           {
            "line": {
             "colorbar": {
              "outlinewidth": 0,
              "ticks": ""
             }
            },
            "marker": {
             "colorbar": {
              "outlinewidth": 0,
              "ticks": ""
             }
            },
            "type": "scatter3d"
           }
          ],
          "scattercarpet": [
           {
            "marker": {
             "colorbar": {
              "outlinewidth": 0,
              "ticks": ""
             }
            },
            "type": "scattercarpet"
           }
          ],
          "scattergeo": [
           {
            "marker": {
             "colorbar": {
              "outlinewidth": 0,
              "ticks": ""
             }
            },
            "type": "scattergeo"
           }
          ],
          "scattergl": [
           {
            "marker": {
             "colorbar": {
              "outlinewidth": 0,
              "ticks": ""
             }
            },
            "type": "scattergl"
           }
          ],
          "scattermapbox": [
           {
            "marker": {
             "colorbar": {
              "outlinewidth": 0,
              "ticks": ""
             }
            },
            "type": "scattermapbox"
           }
          ],
          "scatterpolar": [
           {
            "marker": {
             "colorbar": {
              "outlinewidth": 0,
              "ticks": ""
             }
            },
            "type": "scatterpolar"
           }
          ],
          "scatterpolargl": [
           {
            "marker": {
             "colorbar": {
              "outlinewidth": 0,
              "ticks": ""
             }
            },
            "type": "scatterpolargl"
           }
          ],
          "scatterternary": [
           {
            "marker": {
             "colorbar": {
              "outlinewidth": 0,
              "ticks": ""
             }
            },
            "type": "scatterternary"
           }
          ],
          "surface": [
           {
            "colorbar": {
             "outlinewidth": 0,
             "ticks": ""
            },
            "colorscale": [
             [
              0,
              "#0d0887"
             ],
             [
              0.1111111111111111,
              "#46039f"
             ],
             [
              0.2222222222222222,
              "#7201a8"
             ],
             [
              0.3333333333333333,
              "#9c179e"
             ],
             [
              0.4444444444444444,
              "#bd3786"
             ],
             [
              0.5555555555555556,
              "#d8576b"
             ],
             [
              0.6666666666666666,
              "#ed7953"
             ],
             [
              0.7777777777777778,
              "#fb9f3a"
             ],
             [
              0.8888888888888888,
              "#fdca26"
             ],
             [
              1,
              "#f0f921"
             ]
            ],
            "type": "surface"
           }
          ],
          "table": [
           {
            "cells": {
             "fill": {
              "color": "#EBF0F8"
             },
             "line": {
              "color": "white"
             }
            },
            "header": {
             "fill": {
              "color": "#C8D4E3"
             },
             "line": {
              "color": "white"
             }
            },
            "type": "table"
           }
          ]
         },
         "layout": {
          "annotationdefaults": {
           "arrowcolor": "#2a3f5f",
           "arrowhead": 0,
           "arrowwidth": 1
          },
          "coloraxis": {
           "colorbar": {
            "outlinewidth": 0,
            "ticks": ""
           }
          },
          "colorscale": {
           "diverging": [
            [
             0,
             "#8e0152"
            ],
            [
             0.1,
             "#c51b7d"
            ],
            [
             0.2,
             "#de77ae"
            ],
            [
             0.3,
             "#f1b6da"
            ],
            [
             0.4,
             "#fde0ef"
            ],
            [
             0.5,
             "#f7f7f7"
            ],
            [
             0.6,
             "#e6f5d0"
            ],
            [
             0.7,
             "#b8e186"
            ],
            [
             0.8,
             "#7fbc41"
            ],
            [
             0.9,
             "#4d9221"
            ],
            [
             1,
             "#276419"
            ]
           ],
           "sequential": [
            [
             0,
             "#0d0887"
            ],
            [
             0.1111111111111111,
             "#46039f"
            ],
            [
             0.2222222222222222,
             "#7201a8"
            ],
            [
             0.3333333333333333,
             "#9c179e"
            ],
            [
             0.4444444444444444,
             "#bd3786"
            ],
            [
             0.5555555555555556,
             "#d8576b"
            ],
            [
             0.6666666666666666,
             "#ed7953"
            ],
            [
             0.7777777777777778,
             "#fb9f3a"
            ],
            [
             0.8888888888888888,
             "#fdca26"
            ],
            [
             1,
             "#f0f921"
            ]
           ],
           "sequentialminus": [
            [
             0,
             "#0d0887"
            ],
            [
             0.1111111111111111,
             "#46039f"
            ],
            [
             0.2222222222222222,
             "#7201a8"
            ],
            [
             0.3333333333333333,
             "#9c179e"
            ],
            [
             0.4444444444444444,
             "#bd3786"
            ],
            [
             0.5555555555555556,
             "#d8576b"
            ],
            [
             0.6666666666666666,
             "#ed7953"
            ],
            [
             0.7777777777777778,
             "#fb9f3a"
            ],
            [
             0.8888888888888888,
             "#fdca26"
            ],
            [
             1,
             "#f0f921"
            ]
           ]
          },
          "colorway": [
           "#636efa",
           "#EF553B",
           "#00cc96",
           "#ab63fa",
           "#FFA15A",
           "#19d3f3",
           "#FF6692",
           "#B6E880",
           "#FF97FF",
           "#FECB52"
          ],
          "font": {
           "color": "#2a3f5f"
          },
          "geo": {
           "bgcolor": "white",
           "lakecolor": "white",
           "landcolor": "#E5ECF6",
           "showlakes": true,
           "showland": true,
           "subunitcolor": "white"
          },
          "hoverlabel": {
           "align": "left"
          },
          "hovermode": "closest",
          "mapbox": {
           "style": "light"
          },
          "paper_bgcolor": "white",
          "plot_bgcolor": "#E5ECF6",
          "polar": {
           "angularaxis": {
            "gridcolor": "white",
            "linecolor": "white",
            "ticks": ""
           },
           "bgcolor": "#E5ECF6",
           "radialaxis": {
            "gridcolor": "white",
            "linecolor": "white",
            "ticks": ""
           }
          },
          "scene": {
           "xaxis": {
            "backgroundcolor": "#E5ECF6",
            "gridcolor": "white",
            "gridwidth": 2,
            "linecolor": "white",
            "showbackground": true,
            "ticks": "",
            "zerolinecolor": "white"
           },
           "yaxis": {
            "backgroundcolor": "#E5ECF6",
            "gridcolor": "white",
            "gridwidth": 2,
            "linecolor": "white",
            "showbackground": true,
            "ticks": "",
            "zerolinecolor": "white"
           },
           "zaxis": {
            "backgroundcolor": "#E5ECF6",
            "gridcolor": "white",
            "gridwidth": 2,
            "linecolor": "white",
            "showbackground": true,
            "ticks": "",
            "zerolinecolor": "white"
           }
          },
          "shapedefaults": {
           "line": {
            "color": "#2a3f5f"
           }
          },
          "ternary": {
           "aaxis": {
            "gridcolor": "white",
            "linecolor": "white",
            "ticks": ""
           },
           "baxis": {
            "gridcolor": "white",
            "linecolor": "white",
            "ticks": ""
           },
           "bgcolor": "#E5ECF6",
           "caxis": {
            "gridcolor": "white",
            "linecolor": "white",
            "ticks": ""
           }
          },
          "title": {
           "x": 0.05
          },
          "xaxis": {
           "automargin": true,
           "gridcolor": "white",
           "linecolor": "white",
           "ticks": "",
           "title": {
            "standoff": 15
           },
           "zerolinecolor": "white",
           "zerolinewidth": 2
          },
          "yaxis": {
           "automargin": true,
           "gridcolor": "white",
           "linecolor": "white",
           "ticks": "",
           "title": {
            "standoff": 15
           },
           "zerolinecolor": "white",
           "zerolinewidth": 2
          }
         }
        },
        "title": {
         "text": "Multiple Bar Plot",
         "x": 0.5
        },
        "width": 1000,
        "yaxis": {
         "title": {
          "text": "yaxis"
         }
        }
       }
      }
     },
     "metadata": {}
    }
   ],
   "source": [
    "fig = go.Figure(data=[\n",
    "        go.Bar(name='feature 1', x=x, y=y,   marker_color='rgb(206,40,89)'),\n",
    "        go.Bar(name='feature 2', x=x, y=y1,  marker_color='limegreen'),\n",
    "        go.Bar(name='feature 3', x=x, y=y2,  marker_color='khaki')\n",
    "    ])\n",
    "    # Change the bar mode\n",
    "fig.update_layout(barmode='group',yaxis=dict(title_text=\"yaxis\"),legend_orientation=\"h\",\n",
    "                      title_text=\"Multiple Bar Plot\",title_x=0.5)\n",
    "    \n",
    "fig.update_layout(width =1000,height=450,autosize=True,\n",
    "        annotations=[dict(x=1,y=-0.2,xref='paper',yref='paper',\n",
    "                          text=\"Source: ##can add source here\",showarrow=False,       \n",
    "                )\n",
    "            ]\n",
    "        )"
   ]
  }
 ]
}